{
 "cells": [
  {
   "cell_type": "markdown",
   "id": "b54222c0",
   "metadata": {},
   "source": [
    "### Take note if you have any errors running this notebook: I've made a couple of changes in prepare.py, including updating the names of a couple of definitions, etc, that may cause a problem or two here."
   ]
  },
  {
   "cell_type": "code",
   "execution_count": 1,
   "id": "e672631c",
   "metadata": {},
   "outputs": [],
   "source": [
    "# ignore warnings\n",
    "import warnings\n",
    "warnings.filterwarnings(\"ignore\")\n",
    "\n",
    "import numpy as np\n",
    "import pandas as pd \n",
    "\n",
    "from pydataset import data\n",
    "\n",
    "from sklearn.model_selection import train_test_split\n",
    "from sklearn.tree import DecisionTreeClassifier\n",
    "from sklearn.tree import export_graphviz\n",
    "from sklearn.metrics import classification_report\n",
    "from sklearn.metrics import confusion_matrix\n",
    "from sklearn.ensemble import RandomForestClassifier\n",
    "from sklearn.impute import SimpleImputer\n",
    "from sklearn.neighbors import KNeighborsClassifier\n",
    "from sklearn.linear_model import LogisticRegression\n",
    "\n",
    "\n",
    "\n",
    "\n",
    "import matplotlib.pyplot as plt\n",
    "import seaborn as sns\n",
    "\n",
    "import acquire\n",
    "import prepare"
   ]
  },
  {
   "cell_type": "markdown",
   "id": "a35a88c6",
   "metadata": {},
   "source": [
    "# Using the titanic data, in your classification-exercises repository, create a notebook, model.ipynb where you will do the following:"
   ]
  },
  {
   "cell_type": "code",
   "execution_count": 2,
   "id": "0cc8c027",
   "metadata": {},
   "outputs": [
    {
     "data": {
      "text/html": [
       "<div>\n",
       "<style scoped>\n",
       "    .dataframe tbody tr th:only-of-type {\n",
       "        vertical-align: middle;\n",
       "    }\n",
       "\n",
       "    .dataframe tbody tr th {\n",
       "        vertical-align: top;\n",
       "    }\n",
       "\n",
       "    .dataframe thead th {\n",
       "        text-align: right;\n",
       "    }\n",
       "</style>\n",
       "<table border=\"1\" class=\"dataframe\">\n",
       "  <thead>\n",
       "    <tr style=\"text-align: right;\">\n",
       "      <th></th>\n",
       "      <th>passenger_id</th>\n",
       "      <th>survived</th>\n",
       "      <th>pclass</th>\n",
       "      <th>sex</th>\n",
       "      <th>age</th>\n",
       "      <th>sibsp</th>\n",
       "      <th>parch</th>\n",
       "      <th>fare</th>\n",
       "      <th>embarked</th>\n",
       "      <th>class</th>\n",
       "      <th>deck</th>\n",
       "      <th>embark_town</th>\n",
       "      <th>alone</th>\n",
       "    </tr>\n",
       "  </thead>\n",
       "  <tbody>\n",
       "    <tr>\n",
       "      <th>0</th>\n",
       "      <td>0</td>\n",
       "      <td>0</td>\n",
       "      <td>3</td>\n",
       "      <td>male</td>\n",
       "      <td>22.0</td>\n",
       "      <td>1</td>\n",
       "      <td>0</td>\n",
       "      <td>7.2500</td>\n",
       "      <td>S</td>\n",
       "      <td>Third</td>\n",
       "      <td>NaN</td>\n",
       "      <td>Southampton</td>\n",
       "      <td>0</td>\n",
       "    </tr>\n",
       "    <tr>\n",
       "      <th>1</th>\n",
       "      <td>1</td>\n",
       "      <td>1</td>\n",
       "      <td>1</td>\n",
       "      <td>female</td>\n",
       "      <td>38.0</td>\n",
       "      <td>1</td>\n",
       "      <td>0</td>\n",
       "      <td>71.2833</td>\n",
       "      <td>C</td>\n",
       "      <td>First</td>\n",
       "      <td>C</td>\n",
       "      <td>Cherbourg</td>\n",
       "      <td>0</td>\n",
       "    </tr>\n",
       "    <tr>\n",
       "      <th>2</th>\n",
       "      <td>2</td>\n",
       "      <td>1</td>\n",
       "      <td>3</td>\n",
       "      <td>female</td>\n",
       "      <td>26.0</td>\n",
       "      <td>0</td>\n",
       "      <td>0</td>\n",
       "      <td>7.9250</td>\n",
       "      <td>S</td>\n",
       "      <td>Third</td>\n",
       "      <td>NaN</td>\n",
       "      <td>Southampton</td>\n",
       "      <td>1</td>\n",
       "    </tr>\n",
       "    <tr>\n",
       "      <th>3</th>\n",
       "      <td>3</td>\n",
       "      <td>1</td>\n",
       "      <td>1</td>\n",
       "      <td>female</td>\n",
       "      <td>35.0</td>\n",
       "      <td>1</td>\n",
       "      <td>0</td>\n",
       "      <td>53.1000</td>\n",
       "      <td>S</td>\n",
       "      <td>First</td>\n",
       "      <td>C</td>\n",
       "      <td>Southampton</td>\n",
       "      <td>0</td>\n",
       "    </tr>\n",
       "    <tr>\n",
       "      <th>4</th>\n",
       "      <td>4</td>\n",
       "      <td>0</td>\n",
       "      <td>3</td>\n",
       "      <td>male</td>\n",
       "      <td>35.0</td>\n",
       "      <td>0</td>\n",
       "      <td>0</td>\n",
       "      <td>8.0500</td>\n",
       "      <td>S</td>\n",
       "      <td>Third</td>\n",
       "      <td>NaN</td>\n",
       "      <td>Southampton</td>\n",
       "      <td>1</td>\n",
       "    </tr>\n",
       "    <tr>\n",
       "      <th>...</th>\n",
       "      <td>...</td>\n",
       "      <td>...</td>\n",
       "      <td>...</td>\n",
       "      <td>...</td>\n",
       "      <td>...</td>\n",
       "      <td>...</td>\n",
       "      <td>...</td>\n",
       "      <td>...</td>\n",
       "      <td>...</td>\n",
       "      <td>...</td>\n",
       "      <td>...</td>\n",
       "      <td>...</td>\n",
       "      <td>...</td>\n",
       "    </tr>\n",
       "    <tr>\n",
       "      <th>886</th>\n",
       "      <td>886</td>\n",
       "      <td>0</td>\n",
       "      <td>2</td>\n",
       "      <td>male</td>\n",
       "      <td>27.0</td>\n",
       "      <td>0</td>\n",
       "      <td>0</td>\n",
       "      <td>13.0000</td>\n",
       "      <td>S</td>\n",
       "      <td>Second</td>\n",
       "      <td>NaN</td>\n",
       "      <td>Southampton</td>\n",
       "      <td>1</td>\n",
       "    </tr>\n",
       "    <tr>\n",
       "      <th>887</th>\n",
       "      <td>887</td>\n",
       "      <td>1</td>\n",
       "      <td>1</td>\n",
       "      <td>female</td>\n",
       "      <td>19.0</td>\n",
       "      <td>0</td>\n",
       "      <td>0</td>\n",
       "      <td>30.0000</td>\n",
       "      <td>S</td>\n",
       "      <td>First</td>\n",
       "      <td>B</td>\n",
       "      <td>Southampton</td>\n",
       "      <td>1</td>\n",
       "    </tr>\n",
       "    <tr>\n",
       "      <th>888</th>\n",
       "      <td>888</td>\n",
       "      <td>0</td>\n",
       "      <td>3</td>\n",
       "      <td>female</td>\n",
       "      <td>NaN</td>\n",
       "      <td>1</td>\n",
       "      <td>2</td>\n",
       "      <td>23.4500</td>\n",
       "      <td>S</td>\n",
       "      <td>Third</td>\n",
       "      <td>NaN</td>\n",
       "      <td>Southampton</td>\n",
       "      <td>0</td>\n",
       "    </tr>\n",
       "    <tr>\n",
       "      <th>889</th>\n",
       "      <td>889</td>\n",
       "      <td>1</td>\n",
       "      <td>1</td>\n",
       "      <td>male</td>\n",
       "      <td>26.0</td>\n",
       "      <td>0</td>\n",
       "      <td>0</td>\n",
       "      <td>30.0000</td>\n",
       "      <td>C</td>\n",
       "      <td>First</td>\n",
       "      <td>C</td>\n",
       "      <td>Cherbourg</td>\n",
       "      <td>1</td>\n",
       "    </tr>\n",
       "    <tr>\n",
       "      <th>890</th>\n",
       "      <td>890</td>\n",
       "      <td>0</td>\n",
       "      <td>3</td>\n",
       "      <td>male</td>\n",
       "      <td>32.0</td>\n",
       "      <td>0</td>\n",
       "      <td>0</td>\n",
       "      <td>7.7500</td>\n",
       "      <td>Q</td>\n",
       "      <td>Third</td>\n",
       "      <td>NaN</td>\n",
       "      <td>Queenstown</td>\n",
       "      <td>1</td>\n",
       "    </tr>\n",
       "  </tbody>\n",
       "</table>\n",
       "<p>891 rows × 13 columns</p>\n",
       "</div>"
      ],
      "text/plain": [
       "     passenger_id  survived  pclass     sex   age  sibsp  parch     fare  \\\n",
       "0               0         0       3    male  22.0      1      0   7.2500   \n",
       "1               1         1       1  female  38.0      1      0  71.2833   \n",
       "2               2         1       3  female  26.0      0      0   7.9250   \n",
       "3               3         1       1  female  35.0      1      0  53.1000   \n",
       "4               4         0       3    male  35.0      0      0   8.0500   \n",
       "..            ...       ...     ...     ...   ...    ...    ...      ...   \n",
       "886           886         0       2    male  27.0      0      0  13.0000   \n",
       "887           887         1       1  female  19.0      0      0  30.0000   \n",
       "888           888         0       3  female   NaN      1      2  23.4500   \n",
       "889           889         1       1    male  26.0      0      0  30.0000   \n",
       "890           890         0       3    male  32.0      0      0   7.7500   \n",
       "\n",
       "    embarked   class deck  embark_town  alone  \n",
       "0          S   Third  NaN  Southampton      0  \n",
       "1          C   First    C    Cherbourg      0  \n",
       "2          S   Third  NaN  Southampton      1  \n",
       "3          S   First    C  Southampton      0  \n",
       "4          S   Third  NaN  Southampton      1  \n",
       "..       ...     ...  ...          ...    ...  \n",
       "886        S  Second  NaN  Southampton      1  \n",
       "887        S   First    B  Southampton      1  \n",
       "888        S   Third  NaN  Southampton      0  \n",
       "889        C   First    C    Cherbourg      1  \n",
       "890        Q   Third  NaN   Queenstown      1  \n",
       "\n",
       "[891 rows x 13 columns]"
      ]
     },
     "execution_count": 2,
     "metadata": {},
     "output_type": "execute_result"
    }
   ],
   "source": [
    "df = acquire.get_titanic_data()\n",
    "df"
   ]
  },
  {
   "cell_type": "code",
   "execution_count": 3,
   "id": "895e7f2b",
   "metadata": {},
   "outputs": [],
   "source": [
    "# df.info()"
   ]
  },
  {
   "cell_type": "code",
   "execution_count": 4,
   "id": "bf0a26d6",
   "metadata": {},
   "outputs": [],
   "source": [
    "train, validate, test = prepare.prep_titanic_data(df)\n"
   ]
  },
  {
   "cell_type": "code",
   "execution_count": 5,
   "id": "46afbae3",
   "metadata": {},
   "outputs": [],
   "source": [
    "imputer = SimpleImputer(missing_values = np.nan, strategy = 'mean')\n",
    "imputer = imputer.fit(train[['age']])\n",
    "train[['age']] = imputer.transform(train[['age']])\n",
    "validate[['age']] = imputer.transform(validate[['age']])\n",
    "test[['age']] = imputer.transform(test[['age']])\n"
   ]
  },
  {
   "cell_type": "markdown",
   "id": "ef85cb91",
   "metadata": {},
   "source": [
    "## This would be where you explore your data\n",
    "\n",
    "    - adam has a neat little exploration of 'no age' in his decicion tree exercise review; he concluded that all the null values in the no_age category couldn't (generally) be children b/c they were largely travelling alone"
   ]
  },
  {
   "cell_type": "code",
   "execution_count": 6,
   "id": "72ca9fe0",
   "metadata": {},
   "outputs": [
    {
     "name": "stdout",
     "output_type": "stream",
     "text": [
      "<class 'pandas.core.frame.DataFrame'>\n",
      "Int64Index: 498 entries, 583 to 744\n",
      "Data columns (total 14 columns):\n",
      " #   Column                   Non-Null Count  Dtype  \n",
      "---  ------                   --------------  -----  \n",
      " 0   passenger_id             498 non-null    int64  \n",
      " 1   survived                 498 non-null    int64  \n",
      " 2   pclass                   498 non-null    int64  \n",
      " 3   sex                      498 non-null    object \n",
      " 4   age                      498 non-null    float64\n",
      " 5   sibsp                    498 non-null    int64  \n",
      " 6   parch                    498 non-null    int64  \n",
      " 7   fare                     498 non-null    float64\n",
      " 8   embark_town              498 non-null    object \n",
      " 9   alone                    498 non-null    int64  \n",
      " 10  baseline_prediction      498 non-null    int64  \n",
      " 11  sex_male                 498 non-null    uint8  \n",
      " 12  embark_town_Queenstown   498 non-null    uint8  \n",
      " 13  embark_town_Southampton  498 non-null    uint8  \n",
      "dtypes: float64(2), int64(7), object(2), uint8(3)\n",
      "memory usage: 48.1+ KB\n"
     ]
    }
   ],
   "source": [
    "train.info()"
   ]
  },
  {
   "cell_type": "code",
   "execution_count": 7,
   "id": "9ae66546",
   "metadata": {},
   "outputs": [
    {
     "data": {
      "text/plain": [
       "((498, 14), (214, 14), (179, 14))"
      ]
     },
     "execution_count": 7,
     "metadata": {},
     "output_type": "execute_result"
    }
   ],
   "source": [
    "train.shape, validate.shape, test.shape"
   ]
  },
  {
   "cell_type": "code",
   "execution_count": null,
   "id": "4dc5e8e4",
   "metadata": {},
   "outputs": [],
   "source": []
  },
  {
   "cell_type": "markdown",
   "id": "3cf6d232",
   "metadata": {},
   "source": [
    "### 1. What is your baseline prediction? What is your baseline accuracy? remember: your baseline prediction for a classification problem is predicting the most prevelant class in the training dataset (the mode). When you make those predictions, what is your accuracy? This is your baseline accuracy.\n",
    "\n",
    "        - the most prevalent class in your TRAINING dataset"
   ]
  },
  {
   "cell_type": "code",
   "execution_count": 8,
   "id": "437d4764",
   "metadata": {},
   "outputs": [
    {
     "data": {
      "text/plain": [
       "0    307\n",
       "1    191\n",
       "Name: survived, dtype: int64"
      ]
     },
     "execution_count": 8,
     "metadata": {},
     "output_type": "execute_result"
    }
   ],
   "source": [
    "train.survived.value_counts()"
   ]
  },
  {
   "cell_type": "markdown",
   "id": "0e43655c",
   "metadata": {},
   "source": [
    "- the biggest value in the target variable is 0 (in other words, did not survive)"
   ]
  },
  {
   "cell_type": "code",
   "execution_count": 9,
   "id": "28a845bf",
   "metadata": {},
   "outputs": [],
   "source": [
    "# df['baseline_prediction'] = 0\n",
    "# df"
   ]
  },
  {
   "cell_type": "code",
   "execution_count": 10,
   "id": "84030433",
   "metadata": {},
   "outputs": [],
   "source": [
    "from sklearn.metrics import classification_report"
   ]
  },
  {
   "cell_type": "code",
   "execution_count": 11,
   "id": "a9829ef0",
   "metadata": {},
   "outputs": [
    {
     "name": "stdout",
     "output_type": "stream",
     "text": [
      "              precision    recall  f1-score   support\n",
      "\n",
      "           0       0.62      1.00      0.76       307\n",
      "           1       0.00      0.00      0.00       191\n",
      "\n",
      "    accuracy                           0.62       498\n",
      "   macro avg       0.31      0.50      0.38       498\n",
      "weighted avg       0.38      0.62      0.47       498\n",
      "\n"
     ]
    }
   ],
   "source": [
    "print(classification_report(train.survived,train.baseline_prediction))\n",
    "\n",
    "# see the baseline accuracy in its classification report"
   ]
  },
  {
   "cell_type": "markdown",
   "id": "74b97437",
   "metadata": {},
   "source": [
    "- Baseline accuracy is 62%"
   ]
  },
  {
   "cell_type": "markdown",
   "id": "75267ed2",
   "metadata": {},
   "source": [
    "### 2. Fit the decision tree classifier to your training sample and transform (i.e. make predictions on the training sample)"
   ]
  },
  {
   "cell_type": "code",
   "execution_count": 12,
   "id": "6d2a9df9",
   "metadata": {},
   "outputs": [
    {
     "name": "stdout",
     "output_type": "stream",
     "text": [
      "<class 'pandas.core.frame.DataFrame'>\n",
      "Int64Index: 498 entries, 583 to 744\n",
      "Data columns (total 14 columns):\n",
      " #   Column                   Non-Null Count  Dtype  \n",
      "---  ------                   --------------  -----  \n",
      " 0   passenger_id             498 non-null    int64  \n",
      " 1   survived                 498 non-null    int64  \n",
      " 2   pclass                   498 non-null    int64  \n",
      " 3   sex                      498 non-null    object \n",
      " 4   age                      498 non-null    float64\n",
      " 5   sibsp                    498 non-null    int64  \n",
      " 6   parch                    498 non-null    int64  \n",
      " 7   fare                     498 non-null    float64\n",
      " 8   embark_town              498 non-null    object \n",
      " 9   alone                    498 non-null    int64  \n",
      " 10  baseline_prediction      498 non-null    int64  \n",
      " 11  sex_male                 498 non-null    uint8  \n",
      " 12  embark_town_Queenstown   498 non-null    uint8  \n",
      " 13  embark_town_Southampton  498 non-null    uint8  \n",
      "dtypes: float64(2), int64(7), object(2), uint8(3)\n",
      "memory usage: 48.1+ KB\n"
     ]
    }
   ],
   "source": [
    "train.info()"
   ]
  },
  {
   "cell_type": "code",
   "execution_count": 13,
   "id": "93740726",
   "metadata": {},
   "outputs": [],
   "source": [
    "# the string features were causing problems with the DecisionTreeClassifier\n",
    "X_train = train.drop(columns=['survived', 'sex','passenger_id', 'embark_town'])\n",
    "y_train = train.survived\n",
    "\n",
    "X_validate = validate.drop(columns=['survived', 'sex','passenger_id','embark_town'])\n",
    "y_validate = validate.survived\n",
    "\n",
    "X_test = test.drop(columns=['survived'])\n",
    "y_test = test.survived"
   ]
  },
  {
   "cell_type": "code",
   "execution_count": 14,
   "id": "a5c2317d",
   "metadata": {},
   "outputs": [
    {
     "data": {
      "text/plain": [
       "(498, 10)"
      ]
     },
     "execution_count": 14,
     "metadata": {},
     "output_type": "execute_result"
    }
   ],
   "source": [
    "X_train.shape"
   ]
  },
  {
   "cell_type": "code",
   "execution_count": 15,
   "id": "8f59424b",
   "metadata": {},
   "outputs": [
    {
     "data": {
      "text/plain": [
       "pclass                     0\n",
       "age                        0\n",
       "sibsp                      0\n",
       "parch                      0\n",
       "fare                       0\n",
       "alone                      0\n",
       "baseline_prediction        0\n",
       "sex_male                   0\n",
       "embark_town_Queenstown     0\n",
       "embark_town_Southampton    0\n",
       "dtype: int64"
      ]
     },
     "execution_count": 15,
     "metadata": {},
     "output_type": "execute_result"
    }
   ],
   "source": [
    "X_validate.isnull().sum()"
   ]
  },
  {
   "cell_type": "code",
   "execution_count": 16,
   "id": "b9d2b4a0",
   "metadata": {},
   "outputs": [
    {
     "data": {
      "text/plain": [
       "pclass                     0\n",
       "age                        0\n",
       "sibsp                      0\n",
       "parch                      0\n",
       "fare                       0\n",
       "alone                      0\n",
       "baseline_prediction        0\n",
       "sex_male                   0\n",
       "embark_town_Queenstown     0\n",
       "embark_town_Southampton    0\n",
       "dtype: int64"
      ]
     },
     "execution_count": 16,
     "metadata": {},
     "output_type": "execute_result"
    }
   ],
   "source": [
    "# below, we the clf.fit function is telling me there are NaNs somewhere.  This show me 97 in 'age'\n",
    "X_train.isnull().sum()\n",
    "\n",
    "# i addressed this by imputing average ages two cells below"
   ]
  },
  {
   "cell_type": "code",
   "execution_count": 17,
   "id": "19bd9b97",
   "metadata": {},
   "outputs": [],
   "source": [
    "# Create the Decision Tree object with desired hyper-parameters.\n",
    "clf = DecisionTreeClassifier(max_depth=3, random_state=123)\n",
    "# clf = 'classifier'"
   ]
  },
  {
   "cell_type": "code",
   "execution_count": 18,
   "id": "6a963e06",
   "metadata": {},
   "outputs": [],
   "source": [
    "# Fit the model (i.e. apply the algorithm to your unique set of data so that the algorithm can identify a pattern)\n",
    "# model.fit(X, y)\n",
    "\n",
    "clf = clf.fit(X_train, y_train)"
   ]
  },
  {
   "cell_type": "code",
   "execution_count": 19,
   "id": "f21abdb1",
   "metadata": {},
   "outputs": [
    {
     "data": {
      "text/plain": [
       "'titanic_decision_tree.pdf'"
      ]
     },
     "execution_count": 19,
     "metadata": {},
     "output_type": "execute_result"
    }
   ],
   "source": [
    "import graphviz\n",
    "from graphviz import Graph\n",
    "\n",
    "# there was initially an argument in here that was raising an error, something to do with X_train.classes_\n",
    "# we tood it out and things got better\n",
    "\n",
    "dot_data = export_graphviz(clf, feature_names= X_train.columns, rounded=True, filled=True, out_file=None)\n",
    "graph = graphviz.Source(dot_data) \n",
    "\n",
    "graph.render('titanic_decision_tree', view=True)"
   ]
  },
  {
   "cell_type": "code",
   "execution_count": 20,
   "id": "3f3bf0a7",
   "metadata": {},
   "outputs": [
    {
     "data": {
      "text/plain": [
       "array([0, 0, 0, 1, 1])"
      ]
     },
     "execution_count": 20,
     "metadata": {},
     "output_type": "execute_result"
    }
   ],
   "source": [
    "# make prediction on train obeservations\n",
    "\n",
    "y_pred = clf.predict(X_train)\n",
    "y_pred[0:5]"
   ]
  },
  {
   "cell_type": "markdown",
   "id": "e7a328f4",
   "metadata": {},
   "source": [
    "### 3. Evaluate your in-sample results using the model score, confusion matrix, and classification report."
   ]
  },
  {
   "cell_type": "code",
   "execution_count": 21,
   "id": "8474ebc3",
   "metadata": {},
   "outputs": [
    {
     "data": {
      "text/plain": [
       "array([[0.65048544, 0.34951456],\n",
       "       [0.65048544, 0.34951456],\n",
       "       [0.65048544, 0.34951456],\n",
       "       [0.03225806, 0.96774194],\n",
       "       [0.03225806, 0.96774194]])"
      ]
     },
     "execution_count": 21,
     "metadata": {},
     "output_type": "execute_result"
    }
   ],
   "source": [
    "y_pred_proba = clf.predict_proba(X_train)\n",
    "y_pred_proba[0:5]"
   ]
  },
  {
   "cell_type": "code",
   "execution_count": 22,
   "id": "867a78dc",
   "metadata": {},
   "outputs": [
    {
     "name": "stdout",
     "output_type": "stream",
     "text": [
      "Accuracy of Decision Tree classifier on training set: 0.83\n"
     ]
    }
   ],
   "source": [
    "print('Accuracy of Decision Tree classifier on training set: {:.2f}'\n",
    "      .format(clf.score(X_train, y_train)))"
   ]
  },
  {
   "cell_type": "code",
   "execution_count": 23,
   "id": "5ea4f278",
   "metadata": {},
   "outputs": [
    {
     "data": {
      "text/plain": [
       "array([[277,  30],\n",
       "       [ 57, 134]])"
      ]
     },
     "execution_count": 23,
     "metadata": {},
     "output_type": "execute_result"
    }
   ],
   "source": [
    "# confusion matrix\n",
    "\n",
    "confusion_matrix(y_train, y_pred)"
   ]
  },
  {
   "cell_type": "code",
   "execution_count": 24,
   "id": "e5326649",
   "metadata": {},
   "outputs": [
    {
     "data": {
      "text/plain": [
       "0    307\n",
       "1    191\n",
       "Name: survived, dtype: int64"
      ]
     },
     "execution_count": 24,
     "metadata": {},
     "output_type": "execute_result"
    }
   ],
   "source": [
    "y_train.value_counts()"
   ]
  },
  {
   "cell_type": "code",
   "execution_count": 25,
   "id": "7d804fc1",
   "metadata": {},
   "outputs": [
    {
     "name": "stdout",
     "output_type": "stream",
     "text": [
      "Actual on the left, predicted on the top; 0 = perished, 1 = survived\n"
     ]
    },
    {
     "data": {
      "text/html": [
       "<div>\n",
       "<style scoped>\n",
       "    .dataframe tbody tr th:only-of-type {\n",
       "        vertical-align: middle;\n",
       "    }\n",
       "\n",
       "    .dataframe tbody tr th {\n",
       "        vertical-align: top;\n",
       "    }\n",
       "\n",
       "    .dataframe thead th {\n",
       "        text-align: right;\n",
       "    }\n",
       "</style>\n",
       "<table border=\"1\" class=\"dataframe\">\n",
       "  <thead>\n",
       "    <tr style=\"text-align: right;\">\n",
       "      <th></th>\n",
       "      <th>0</th>\n",
       "      <th>1</th>\n",
       "    </tr>\n",
       "  </thead>\n",
       "  <tbody>\n",
       "    <tr>\n",
       "      <th>0</th>\n",
       "      <td>277</td>\n",
       "      <td>30</td>\n",
       "    </tr>\n",
       "    <tr>\n",
       "      <th>1</th>\n",
       "      <td>57</td>\n",
       "      <td>134</td>\n",
       "    </tr>\n",
       "  </tbody>\n",
       "</table>\n",
       "</div>"
      ],
      "text/plain": [
       "     0    1\n",
       "0  277   30\n",
       "1   57  134"
      ]
     },
     "execution_count": 25,
     "metadata": {},
     "output_type": "execute_result"
    }
   ],
   "source": [
    "labels = sorted(y_train.unique())\n",
    "print('Actual on the left, predicted on the top; 0 = perished, 1 = survived')\n",
    "pd.DataFrame(confusion_matrix(y_train, y_pred), index=labels, columns=labels)"
   ]
  },
  {
   "cell_type": "code",
   "execution_count": 26,
   "id": "381f11a2",
   "metadata": {},
   "outputs": [
    {
     "name": "stdout",
     "output_type": "stream",
     "text": [
      "              precision    recall  f1-score   support\n",
      "\n",
      "           0       0.83      0.90      0.86       307\n",
      "           1       0.82      0.70      0.75       191\n",
      "\n",
      "    accuracy                           0.83       498\n",
      "   macro avg       0.82      0.80      0.81       498\n",
      "weighted avg       0.82      0.83      0.82       498\n",
      "\n"
     ]
    }
   ],
   "source": [
    "print(classification_report(y_train, y_pred))"
   ]
  },
  {
   "cell_type": "markdown",
   "id": "94869932",
   "metadata": {},
   "source": [
    "### 4. Compute: Accuracy, true positive rate, false positive rate, true negative rate, false negative rate, precision, recall, f1-score, and support."
   ]
  },
  {
   "cell_type": "code",
   "execution_count": 27,
   "id": "4dda6410",
   "metadata": {},
   "outputs": [],
   "source": [
    "# isn't this what we did with the classification report? Yes, according to adam\n",
    "\n",
    "# True Positive rate = recall; false positive rate = precision"
   ]
  },
  {
   "cell_type": "markdown",
   "id": "bcb5356d",
   "metadata": {},
   "source": [
    "### 5. Run through steps 2-4 using a different max_depth value."
   ]
  },
  {
   "cell_type": "code",
   "execution_count": 28,
   "id": "b8f362c3",
   "metadata": {},
   "outputs": [
    {
     "data": {
      "text/plain": [
       "'titanic_decision_tree.pdf'"
      ]
     },
     "execution_count": 28,
     "metadata": {},
     "output_type": "execute_result"
    }
   ],
   "source": [
    "clf = DecisionTreeClassifier(max_depth=4, random_state=123)\n",
    "clf = clf.fit(X_train, y_train)\n",
    "dot_data = export_graphviz(clf, feature_names= X_train.columns, rounded=True, filled=True, out_file=None)\n",
    "graph = graphviz.Source(dot_data) \n",
    "\n",
    "graph.render('titanic_decision_tree', view=True)"
   ]
  },
  {
   "cell_type": "code",
   "execution_count": 29,
   "id": "a8246015",
   "metadata": {},
   "outputs": [
    {
     "data": {
      "text/plain": [
       "array([0, 0, 0, 1, 1])"
      ]
     },
     "execution_count": 29,
     "metadata": {},
     "output_type": "execute_result"
    }
   ],
   "source": [
    "# make prediction on train obeservations\n",
    "\n",
    "y_pred = clf.predict(X_train)\n",
    "y_pred[0:5]"
   ]
  },
  {
   "cell_type": "code",
   "execution_count": 30,
   "id": "76f61b3e",
   "metadata": {},
   "outputs": [
    {
     "name": "stdout",
     "output_type": "stream",
     "text": [
      "Tree with max depth of 2\n",
      "                    0           1  accuracy   macro avg  weighted avg\n",
      "precision    0.820433    0.760000  0.799197    0.790217      0.797255\n",
      "recall       0.863192    0.696335  0.799197    0.779764      0.799197\n",
      "f1-score     0.841270    0.726776  0.799197    0.784023      0.797358\n",
      "support    307.000000  191.000000  0.799197  498.000000    498.000000\n",
      "\n",
      "Tree with max depth of 3\n",
      "                    0           1  accuracy   macro avg  weighted avg\n",
      "precision    0.829341    0.817073  0.825301    0.823207      0.824636\n",
      "recall       0.902280    0.701571  0.825301    0.801925      0.825301\n",
      "f1-score     0.864275    0.754930  0.825301    0.809602      0.822337\n",
      "support    307.000000  191.000000  0.825301  498.000000    498.000000\n",
      "\n",
      "Tree with max depth of 4\n",
      "                    0           1  accuracy   macro avg  weighted avg\n",
      "precision    0.831858    0.842767  0.835341    0.837313      0.836042\n",
      "recall       0.918567    0.701571  0.835341    0.810069      0.835341\n",
      "f1-score     0.873065    0.765714  0.835341    0.819390      0.831892\n",
      "support    307.000000  191.000000  0.835341  498.000000    498.000000\n",
      "\n",
      "Tree with max depth of 5\n",
      "                    0           1  accuracy   macro avg  weighted avg\n",
      "precision    0.852410    0.855422  0.853414    0.853916      0.853565\n",
      "recall       0.921824    0.743455  0.853414    0.832640      0.853414\n",
      "f1-score     0.885759    0.795518  0.853414    0.840639      0.851149\n",
      "support    307.000000  191.000000  0.853414  498.000000    498.000000\n",
      "\n",
      "Tree with max depth of 6\n",
      "                    0           1  accuracy   macro avg  weighted avg\n",
      "precision    0.838983    0.930556  0.865462    0.884769      0.874104\n",
      "recall       0.967427    0.701571  0.865462    0.834499      0.865462\n",
      "f1-score     0.898638    0.800000  0.865462    0.849319      0.860807\n",
      "support    307.000000  191.000000  0.865462  498.000000    498.000000\n",
      "\n",
      "Tree with max depth of 7\n",
      "                    0           1  accuracy   macro avg  weighted avg\n",
      "precision    0.895570    0.868132  0.885542    0.881851      0.885046\n",
      "recall       0.921824    0.827225  0.885542    0.874525      0.885542\n",
      "f1-score     0.908507    0.847185  0.885542    0.877846      0.884988\n",
      "support    307.000000  191.000000  0.885542  498.000000    498.000000\n",
      "\n",
      "Tree with max depth of 8\n",
      "                    0           1  accuracy   macro avg  weighted avg\n",
      "precision    0.872093    0.954545   0.89759    0.913319      0.903716\n",
      "recall       0.977199    0.769634   0.89759    0.873416      0.897590\n",
      "f1-score     0.921659    0.852174   0.89759    0.886916      0.895009\n",
      "support    307.000000  191.000000   0.89759  498.000000    498.000000\n",
      "\n",
      "Tree with max depth of 9\n",
      "                    0           1  accuracy   macro avg  weighted avg\n",
      "precision    0.913580    0.936782  0.921687    0.925181      0.922479\n",
      "recall       0.964169    0.853403  0.921687    0.908786      0.921687\n",
      "f1-score     0.938193    0.893151  0.921687    0.915672      0.920918\n",
      "support    307.000000  191.000000  0.921687  498.000000    498.000000\n",
      "\n",
      "Tree with max depth of 10\n",
      "                    0           1  accuracy   macro avg  weighted avg\n",
      "precision    0.933544    0.934066  0.933735    0.933805      0.933744\n",
      "recall       0.960912    0.890052  0.933735    0.925482      0.933735\n",
      "f1-score     0.947030    0.911528  0.933735    0.929279      0.933414\n",
      "support    307.000000  191.000000  0.933735  498.000000    498.000000\n",
      "\n",
      "Tree with max depth of 11\n",
      "                    0           1  accuracy   macro avg  weighted avg\n",
      "precision    0.947040    0.983051  0.959839    0.965046      0.960852\n",
      "recall       0.990228    0.910995  0.959839    0.950611      0.959839\n",
      "f1-score     0.968153    0.945652  0.959839    0.956903      0.959523\n",
      "support    307.000000  191.000000  0.959839  498.000000    498.000000\n",
      "\n",
      "Tree with max depth of 12\n",
      "                    0           1  accuracy   macro avg  weighted avg\n",
      "precision    0.962264    0.994444  0.973896    0.978354      0.974606\n",
      "recall       0.996743    0.937173  0.973896    0.966958      0.973896\n",
      "f1-score     0.979200    0.964960  0.973896    0.972080      0.973738\n",
      "support    307.000000  191.000000  0.973896  498.000000    498.000000\n",
      "\n",
      "Tree with max depth of 13\n",
      "                    0           1  accuracy   macro avg  weighted avg\n",
      "precision    0.974603    1.000000  0.983936    0.987302      0.984344\n",
      "recall       1.000000    0.958115  0.983936    0.979058      0.983936\n",
      "f1-score     0.987138    0.978610  0.983936    0.982874      0.983867\n",
      "support    307.000000  191.000000  0.983936  498.000000    498.000000\n",
      "\n",
      "Tree with max depth of 14\n",
      "                    0           1  accuracy   macro avg  weighted avg\n",
      "precision    0.990323    1.000000  0.993976    0.995161      0.994034\n",
      "recall       1.000000    0.984293  0.993976    0.992147      0.993976\n",
      "f1-score     0.995138    0.992084  0.993976    0.993611      0.993967\n",
      "support    307.000000  191.000000  0.993976  498.000000    498.000000\n",
      "\n",
      "Tree with max depth of 15\n",
      "                    0           1  accuracy   macro avg  weighted avg\n",
      "precision    0.993528    1.000000  0.995984    0.996764      0.996010\n",
      "recall       1.000000    0.989529  0.995984    0.994764      0.995984\n",
      "f1-score     0.996753    0.994737  0.995984    0.995745      0.995980\n",
      "support    307.000000  191.000000  0.995984  498.000000    498.000000\n",
      "\n",
      "Tree with max depth of 16\n",
      "                    0           1  accuracy   macro avg  weighted avg\n",
      "precision    0.993528    1.000000  0.995984    0.996764      0.996010\n",
      "recall       1.000000    0.989529  0.995984    0.994764      0.995984\n",
      "f1-score     0.996753    0.994737  0.995984    0.995745      0.995980\n",
      "support    307.000000  191.000000  0.995984  498.000000    498.000000\n",
      "\n",
      "Tree with max depth of 17\n",
      "                    0           1  accuracy   macro avg  weighted avg\n",
      "precision    0.993528    1.000000  0.995984    0.996764      0.996010\n",
      "recall       1.000000    0.989529  0.995984    0.994764      0.995984\n",
      "f1-score     0.996753    0.994737  0.995984    0.995745      0.995980\n",
      "support    307.000000  191.000000  0.995984  498.000000    498.000000\n",
      "\n",
      "Tree with max depth of 18\n",
      "                    0           1  accuracy   macro avg  weighted avg\n",
      "precision    0.993528    1.000000  0.995984    0.996764      0.996010\n",
      "recall       1.000000    0.989529  0.995984    0.994764      0.995984\n",
      "f1-score     0.996753    0.994737  0.995984    0.995745      0.995980\n",
      "support    307.000000  191.000000  0.995984  498.000000    498.000000\n",
      "\n",
      "Tree with max depth of 19\n",
      "                    0           1  accuracy   macro avg  weighted avg\n",
      "precision    0.993528    1.000000  0.995984    0.996764      0.996010\n",
      "recall       1.000000    0.989529  0.995984    0.994764      0.995984\n",
      "f1-score     0.996753    0.994737  0.995984    0.995745      0.995980\n",
      "support    307.000000  191.000000  0.995984  498.000000    498.000000\n",
      "\n",
      "Tree with max depth of 20\n",
      "                    0           1  accuracy   macro avg  weighted avg\n",
      "precision    0.993528    1.000000  0.995984    0.996764      0.996010\n",
      "recall       1.000000    0.989529  0.995984    0.994764      0.995984\n",
      "f1-score     0.996753    0.994737  0.995984    0.995745      0.995980\n",
      "support    307.000000  191.000000  0.995984  498.000000    498.000000\n",
      "\n"
     ]
    }
   ],
   "source": [
    "# This is Adam's 'for' loop\n",
    "for i in range(2, 21):\n",
    "    # Make the model\n",
    "    tree = DecisionTreeClassifier(max_depth=i, random_state=123)\n",
    "\n",
    "    # Fit the model (on train and only train)\n",
    "    tree = tree.fit(X_train, y_train)\n",
    "\n",
    "    # Use the model\n",
    "    # We'll evaluate the model's performance on train, first\n",
    "    y_predictions = tree.predict(X_train)\n",
    "\n",
    "    # Produce the classification report on the actual y values and this model's predicted y values\n",
    "    report = classification_report(y_train, y_predictions, output_dict=True)\n",
    "    print(f\"Tree with max depth of {i}\")\n",
    "    print(pd.DataFrame(report))\n",
    "    print()"
   ]
  },
  {
   "cell_type": "markdown",
   "id": "5e995034",
   "metadata": {},
   "source": [
    "### 6. Which model performs better on your in-sample data?\n",
    "\n",
    "    - the max_depth 4 works about the same\n",
    "    - checking adam's code, 15+ max depth provides highest accuracy\n",
    "    - but we know that they are overfit somehow"
   ]
  },
  {
   "cell_type": "markdown",
   "id": "40a49d76",
   "metadata": {},
   "source": [
    "### Below is what I produced before the exercise review"
   ]
  },
  {
   "cell_type": "code",
   "execution_count": 31,
   "id": "1565c483",
   "metadata": {},
   "outputs": [
    {
     "data": {
      "text/plain": [
       "array([[0.60674157, 0.39325843],\n",
       "       [0.60674157, 0.39325843],\n",
       "       [0.92857143, 0.07142857],\n",
       "       [0.07142857, 0.92857143],\n",
       "       [0.        , 1.        ]])"
      ]
     },
     "execution_count": 31,
     "metadata": {},
     "output_type": "execute_result"
    }
   ],
   "source": [
    "y_pred_proba = clf.predict_proba(X_train)\n",
    "y_pred_proba[0:5]"
   ]
  },
  {
   "cell_type": "code",
   "execution_count": 32,
   "id": "ada10770",
   "metadata": {},
   "outputs": [
    {
     "name": "stdout",
     "output_type": "stream",
     "text": [
      "Accuracy of Decision Tree classifier on training set: 0.84\n"
     ]
    }
   ],
   "source": [
    "print('Accuracy of Decision Tree classifier on training set: {:.2f}'\n",
    "      .format(clf.score(X_train, y_train)))"
   ]
  },
  {
   "cell_type": "code",
   "execution_count": 33,
   "id": "1ab497b1",
   "metadata": {},
   "outputs": [
    {
     "data": {
      "text/plain": [
       "array([[282,  25],\n",
       "       [ 57, 134]])"
      ]
     },
     "execution_count": 33,
     "metadata": {},
     "output_type": "execute_result"
    }
   ],
   "source": [
    "# confusion matrix\n",
    "\n",
    "confusion_matrix(y_train, y_pred)"
   ]
  },
  {
   "cell_type": "code",
   "execution_count": 34,
   "id": "69b63991",
   "metadata": {},
   "outputs": [
    {
     "data": {
      "text/plain": [
       "0    307\n",
       "1    191\n",
       "Name: survived, dtype: int64"
      ]
     },
     "execution_count": 34,
     "metadata": {},
     "output_type": "execute_result"
    }
   ],
   "source": [
    "y_train.value_counts()"
   ]
  },
  {
   "cell_type": "code",
   "execution_count": 35,
   "id": "860ba93e",
   "metadata": {},
   "outputs": [
    {
     "name": "stdout",
     "output_type": "stream",
     "text": [
      "Actual on the left, predicted on the top; 0 = perished, 1 = survived\n"
     ]
    },
    {
     "data": {
      "text/html": [
       "<div>\n",
       "<style scoped>\n",
       "    .dataframe tbody tr th:only-of-type {\n",
       "        vertical-align: middle;\n",
       "    }\n",
       "\n",
       "    .dataframe tbody tr th {\n",
       "        vertical-align: top;\n",
       "    }\n",
       "\n",
       "    .dataframe thead th {\n",
       "        text-align: right;\n",
       "    }\n",
       "</style>\n",
       "<table border=\"1\" class=\"dataframe\">\n",
       "  <thead>\n",
       "    <tr style=\"text-align: right;\">\n",
       "      <th></th>\n",
       "      <th>0</th>\n",
       "      <th>1</th>\n",
       "    </tr>\n",
       "  </thead>\n",
       "  <tbody>\n",
       "    <tr>\n",
       "      <th>0</th>\n",
       "      <td>282</td>\n",
       "      <td>25</td>\n",
       "    </tr>\n",
       "    <tr>\n",
       "      <th>1</th>\n",
       "      <td>57</td>\n",
       "      <td>134</td>\n",
       "    </tr>\n",
       "  </tbody>\n",
       "</table>\n",
       "</div>"
      ],
      "text/plain": [
       "     0    1\n",
       "0  282   25\n",
       "1   57  134"
      ]
     },
     "execution_count": 35,
     "metadata": {},
     "output_type": "execute_result"
    }
   ],
   "source": [
    "labels = sorted(y_train.unique())\n",
    "print('Actual on the left, predicted on the top; 0 = perished, 1 = survived')\n",
    "pd.DataFrame(confusion_matrix(y_train, y_pred), index=labels, columns=labels)"
   ]
  },
  {
   "cell_type": "code",
   "execution_count": 36,
   "id": "5d966d34",
   "metadata": {},
   "outputs": [
    {
     "name": "stdout",
     "output_type": "stream",
     "text": [
      "              precision    recall  f1-score   support\n",
      "\n",
      "           0       0.83      0.92      0.87       307\n",
      "           1       0.84      0.70      0.77       191\n",
      "\n",
      "    accuracy                           0.84       498\n",
      "   macro avg       0.84      0.81      0.82       498\n",
      "weighted avg       0.84      0.84      0.83       498\n",
      "\n"
     ]
    }
   ],
   "source": [
    "print(classification_report(y_train, y_pred))"
   ]
  },
  {
   "cell_type": "markdown",
   "id": "63a220e8",
   "metadata": {},
   "source": [
    "### 7. Which model performs best on your out-of-sample data, the validate set?"
   ]
  },
  {
   "cell_type": "code",
   "execution_count": 37,
   "id": "0dd5c10b",
   "metadata": {},
   "outputs": [
    {
     "data": {
      "text/plain": [
       "'titanic_decision_tree.pdf'"
      ]
     },
     "execution_count": 37,
     "metadata": {},
     "output_type": "execute_result"
    }
   ],
   "source": [
    "clf = DecisionTreeClassifier(max_depth=3, random_state=123)\n",
    "clf = clf.fit(X_validate, y_validate)\n",
    "dot_data = export_graphviz(clf, feature_names= X_validate.columns, rounded=True, filled=True, out_file=None)\n",
    "graph = graphviz.Source(dot_data) \n",
    "\n",
    "graph.render('titanic_decision_tree', view=True)"
   ]
  },
  {
   "cell_type": "code",
   "execution_count": 38,
   "id": "be1e54c3",
   "metadata": {},
   "outputs": [
    {
     "data": {
      "text/plain": [
       "array([0, 0, 0, 1, 0])"
      ]
     },
     "execution_count": 38,
     "metadata": {},
     "output_type": "execute_result"
    }
   ],
   "source": [
    "# make prediction on train obeservations\n",
    "\n",
    "y_pred = clf.predict(X_validate)\n",
    "y_pred[0:5]"
   ]
  },
  {
   "cell_type": "code",
   "execution_count": 39,
   "id": "010ed091",
   "metadata": {},
   "outputs": [
    {
     "data": {
      "text/plain": [
       "array([[0.86956522, 0.13043478],\n",
       "       [0.        , 1.        ],\n",
       "       [1.        , 0.        ],\n",
       "       [0.07894737, 0.92105263],\n",
       "       [0.07894737, 0.92105263]])"
      ]
     },
     "execution_count": 39,
     "metadata": {},
     "output_type": "execute_result"
    }
   ],
   "source": [
    "y_pred_proba = clf.predict_proba(X_train)\n",
    "y_pred_proba[0:5]"
   ]
  },
  {
   "cell_type": "code",
   "execution_count": 40,
   "id": "59284fa0",
   "metadata": {},
   "outputs": [
    {
     "name": "stdout",
     "output_type": "stream",
     "text": [
      "Accuracy of Decision Tree classifier on validate set: 0.83\n"
     ]
    }
   ],
   "source": [
    "print('Accuracy of Decision Tree classifier on validate set: {:.2f}'\n",
    "      .format(clf.score(X_validate, y_validate)))"
   ]
  },
  {
   "cell_type": "code",
   "execution_count": 41,
   "id": "2c4e3a14",
   "metadata": {},
   "outputs": [
    {
     "data": {
      "text/plain": [
       "array([[127,   5],\n",
       "       [ 31,  51]])"
      ]
     },
     "execution_count": 41,
     "metadata": {},
     "output_type": "execute_result"
    }
   ],
   "source": [
    "# confusion matrix\n",
    "\n",
    "confusion_matrix(y_validate, y_pred)"
   ]
  },
  {
   "cell_type": "code",
   "execution_count": 42,
   "id": "78d1e2b5",
   "metadata": {},
   "outputs": [
    {
     "data": {
      "text/plain": [
       "0    307\n",
       "1    191\n",
       "Name: survived, dtype: int64"
      ]
     },
     "execution_count": 42,
     "metadata": {},
     "output_type": "execute_result"
    }
   ],
   "source": [
    "y_train.value_counts()"
   ]
  },
  {
   "cell_type": "code",
   "execution_count": 43,
   "id": "8d5e496a",
   "metadata": {},
   "outputs": [
    {
     "name": "stdout",
     "output_type": "stream",
     "text": [
      "Actual on the left, predicted on the top; 0 = perished, 1 = survived\n"
     ]
    },
    {
     "data": {
      "text/html": [
       "<div>\n",
       "<style scoped>\n",
       "    .dataframe tbody tr th:only-of-type {\n",
       "        vertical-align: middle;\n",
       "    }\n",
       "\n",
       "    .dataframe tbody tr th {\n",
       "        vertical-align: top;\n",
       "    }\n",
       "\n",
       "    .dataframe thead th {\n",
       "        text-align: right;\n",
       "    }\n",
       "</style>\n",
       "<table border=\"1\" class=\"dataframe\">\n",
       "  <thead>\n",
       "    <tr style=\"text-align: right;\">\n",
       "      <th></th>\n",
       "      <th>0</th>\n",
       "      <th>1</th>\n",
       "    </tr>\n",
       "  </thead>\n",
       "  <tbody>\n",
       "    <tr>\n",
       "      <th>0</th>\n",
       "      <td>127</td>\n",
       "      <td>5</td>\n",
       "    </tr>\n",
       "    <tr>\n",
       "      <th>1</th>\n",
       "      <td>31</td>\n",
       "      <td>51</td>\n",
       "    </tr>\n",
       "  </tbody>\n",
       "</table>\n",
       "</div>"
      ],
      "text/plain": [
       "     0   1\n",
       "0  127   5\n",
       "1   31  51"
      ]
     },
     "execution_count": 43,
     "metadata": {},
     "output_type": "execute_result"
    }
   ],
   "source": [
    "labels = sorted(y_train.unique())\n",
    "print('Actual on the left, predicted on the top; 0 = perished, 1 = survived')\n",
    "pd.DataFrame(confusion_matrix(y_validate, y_pred), index=labels, columns=labels)"
   ]
  },
  {
   "cell_type": "code",
   "execution_count": 44,
   "id": "5154f8d4",
   "metadata": {},
   "outputs": [
    {
     "name": "stdout",
     "output_type": "stream",
     "text": [
      "              precision    recall  f1-score   support\n",
      "\n",
      "           0       0.80      0.96      0.88       132\n",
      "           1       0.91      0.62      0.74        82\n",
      "\n",
      "    accuracy                           0.83       214\n",
      "   macro avg       0.86      0.79      0.81       214\n",
      "weighted avg       0.84      0.83      0.82       214\n",
      "\n"
     ]
    }
   ],
   "source": [
    "print(classification_report(y_validate, y_pred))"
   ]
  },
  {
   "attachments": {
    "image.png": {
     "image/png": "[encoded data removed]"
    }
   },
   "cell_type": "markdown",
   "id": "da0d09e6",
   "metadata": {},
   "source": [
    "### CLASSIFICATION REPORT FOR MAX_DEPTH = 3\n",
    "\n",
    "![image.png](attachment:image.png)"
   ]
  },
  {
   "attachments": {
    "image.png": {
     "image/png": "[encoded data removed]"
    }
   },
   "cell_type": "markdown",
   "id": "f91df4d9",
   "metadata": {},
   "source": [
    " ### CLASSIFICATION REPORT FOR MAX_DEPTH = 4\n",
    " \n",
    "![image.png](attachment:image.png)"
   ]
  },
  {
   "attachments": {
    "image.png": {
     "image/png": "[encoded data removed]"
    }
   },
   "cell_type": "markdown",
   "id": "b6a00c0b",
   "metadata": {},
   "source": [
    "### CLASSIFICATION REPORT FOR MAX_DEPTH = 5\n",
    "\n",
    "![image.png](attachment:image.png)"
   ]
  },
  {
   "cell_type": "code",
   "execution_count": 45,
   "id": "2305ecb8",
   "metadata": {},
   "outputs": [
    {
     "data": {
      "text/html": [
       "<div>\n",
       "<style scoped>\n",
       "    .dataframe tbody tr th:only-of-type {\n",
       "        vertical-align: middle;\n",
       "    }\n",
       "\n",
       "    .dataframe tbody tr th {\n",
       "        vertical-align: top;\n",
       "    }\n",
       "\n",
       "    .dataframe thead th {\n",
       "        text-align: right;\n",
       "    }\n",
       "</style>\n",
       "<table border=\"1\" class=\"dataframe\">\n",
       "  <thead>\n",
       "    <tr style=\"text-align: right;\">\n",
       "      <th></th>\n",
       "      <th>max_depth</th>\n",
       "      <th>train_accuracy</th>\n",
       "      <th>validate_accuracy</th>\n",
       "      <th>difference</th>\n",
       "    </tr>\n",
       "  </thead>\n",
       "  <tbody>\n",
       "    <tr>\n",
       "      <th>0</th>\n",
       "      <td>2</td>\n",
       "      <td>0.799197</td>\n",
       "      <td>0.761682</td>\n",
       "      <td>0.037515</td>\n",
       "    </tr>\n",
       "    <tr>\n",
       "      <th>1</th>\n",
       "      <td>3</td>\n",
       "      <td>0.825301</td>\n",
       "      <td>0.799065</td>\n",
       "      <td>0.026236</td>\n",
       "    </tr>\n",
       "    <tr>\n",
       "      <th>2</th>\n",
       "      <td>4</td>\n",
       "      <td>0.835341</td>\n",
       "      <td>0.794393</td>\n",
       "      <td>0.040949</td>\n",
       "    </tr>\n",
       "    <tr>\n",
       "      <th>3</th>\n",
       "      <td>5</td>\n",
       "      <td>0.853414</td>\n",
       "      <td>0.803738</td>\n",
       "      <td>0.049675</td>\n",
       "    </tr>\n",
       "    <tr>\n",
       "      <th>4</th>\n",
       "      <td>6</td>\n",
       "      <td>0.865462</td>\n",
       "      <td>0.789720</td>\n",
       "      <td>0.075742</td>\n",
       "    </tr>\n",
       "    <tr>\n",
       "      <th>5</th>\n",
       "      <td>7</td>\n",
       "      <td>0.885542</td>\n",
       "      <td>0.775701</td>\n",
       "      <td>0.109841</td>\n",
       "    </tr>\n",
       "    <tr>\n",
       "      <th>6</th>\n",
       "      <td>8</td>\n",
       "      <td>0.897590</td>\n",
       "      <td>0.785047</td>\n",
       "      <td>0.112544</td>\n",
       "    </tr>\n",
       "    <tr>\n",
       "      <th>7</th>\n",
       "      <td>9</td>\n",
       "      <td>0.921687</td>\n",
       "      <td>0.808411</td>\n",
       "      <td>0.113276</td>\n",
       "    </tr>\n",
       "    <tr>\n",
       "      <th>8</th>\n",
       "      <td>10</td>\n",
       "      <td>0.933735</td>\n",
       "      <td>0.785047</td>\n",
       "      <td>0.148688</td>\n",
       "    </tr>\n",
       "    <tr>\n",
       "      <th>9</th>\n",
       "      <td>11</td>\n",
       "      <td>0.959839</td>\n",
       "      <td>0.794393</td>\n",
       "      <td>0.165447</td>\n",
       "    </tr>\n",
       "    <tr>\n",
       "      <th>10</th>\n",
       "      <td>12</td>\n",
       "      <td>0.973896</td>\n",
       "      <td>0.813084</td>\n",
       "      <td>0.160811</td>\n",
       "    </tr>\n",
       "    <tr>\n",
       "      <th>11</th>\n",
       "      <td>13</td>\n",
       "      <td>0.983936</td>\n",
       "      <td>0.785047</td>\n",
       "      <td>0.198889</td>\n",
       "    </tr>\n",
       "    <tr>\n",
       "      <th>12</th>\n",
       "      <td>14</td>\n",
       "      <td>0.993976</td>\n",
       "      <td>0.780374</td>\n",
       "      <td>0.213602</td>\n",
       "    </tr>\n",
       "    <tr>\n",
       "      <th>13</th>\n",
       "      <td>15</td>\n",
       "      <td>0.995984</td>\n",
       "      <td>0.789720</td>\n",
       "      <td>0.206264</td>\n",
       "    </tr>\n",
       "    <tr>\n",
       "      <th>14</th>\n",
       "      <td>16</td>\n",
       "      <td>0.995984</td>\n",
       "      <td>0.789720</td>\n",
       "      <td>0.206264</td>\n",
       "    </tr>\n",
       "    <tr>\n",
       "      <th>15</th>\n",
       "      <td>17</td>\n",
       "      <td>0.995984</td>\n",
       "      <td>0.789720</td>\n",
       "      <td>0.206264</td>\n",
       "    </tr>\n",
       "    <tr>\n",
       "      <th>16</th>\n",
       "      <td>18</td>\n",
       "      <td>0.995984</td>\n",
       "      <td>0.789720</td>\n",
       "      <td>0.206264</td>\n",
       "    </tr>\n",
       "    <tr>\n",
       "      <th>17</th>\n",
       "      <td>19</td>\n",
       "      <td>0.995984</td>\n",
       "      <td>0.789720</td>\n",
       "      <td>0.206264</td>\n",
       "    </tr>\n",
       "    <tr>\n",
       "      <th>18</th>\n",
       "      <td>20</td>\n",
       "      <td>0.995984</td>\n",
       "      <td>0.789720</td>\n",
       "      <td>0.206264</td>\n",
       "    </tr>\n",
       "    <tr>\n",
       "      <th>19</th>\n",
       "      <td>21</td>\n",
       "      <td>0.995984</td>\n",
       "      <td>0.789720</td>\n",
       "      <td>0.206264</td>\n",
       "    </tr>\n",
       "    <tr>\n",
       "      <th>20</th>\n",
       "      <td>22</td>\n",
       "      <td>0.995984</td>\n",
       "      <td>0.789720</td>\n",
       "      <td>0.206264</td>\n",
       "    </tr>\n",
       "    <tr>\n",
       "      <th>21</th>\n",
       "      <td>23</td>\n",
       "      <td>0.995984</td>\n",
       "      <td>0.789720</td>\n",
       "      <td>0.206264</td>\n",
       "    </tr>\n",
       "    <tr>\n",
       "      <th>22</th>\n",
       "      <td>24</td>\n",
       "      <td>0.995984</td>\n",
       "      <td>0.789720</td>\n",
       "      <td>0.206264</td>\n",
       "    </tr>\n",
       "  </tbody>\n",
       "</table>\n",
       "</div>"
      ],
      "text/plain": [
       "    max_depth  train_accuracy  validate_accuracy  difference\n",
       "0           2        0.799197           0.761682    0.037515\n",
       "1           3        0.825301           0.799065    0.026236\n",
       "2           4        0.835341           0.794393    0.040949\n",
       "3           5        0.853414           0.803738    0.049675\n",
       "4           6        0.865462           0.789720    0.075742\n",
       "5           7        0.885542           0.775701    0.109841\n",
       "6           8        0.897590           0.785047    0.112544\n",
       "7           9        0.921687           0.808411    0.113276\n",
       "8          10        0.933735           0.785047    0.148688\n",
       "9          11        0.959839           0.794393    0.165447\n",
       "10         12        0.973896           0.813084    0.160811\n",
       "11         13        0.983936           0.785047    0.198889\n",
       "12         14        0.993976           0.780374    0.213602\n",
       "13         15        0.995984           0.789720    0.206264\n",
       "14         16        0.995984           0.789720    0.206264\n",
       "15         17        0.995984           0.789720    0.206264\n",
       "16         18        0.995984           0.789720    0.206264\n",
       "17         19        0.995984           0.789720    0.206264\n",
       "18         20        0.995984           0.789720    0.206264\n",
       "19         21        0.995984           0.789720    0.206264\n",
       "20         22        0.995984           0.789720    0.206264\n",
       "21         23        0.995984           0.789720    0.206264\n",
       "22         24        0.995984           0.789720    0.206264"
      ]
     },
     "execution_count": 45,
     "metadata": {},
     "output_type": "execute_result"
    }
   ],
   "source": [
    "#adam's code for a nice, clean view:\n",
    "# Let's continue getting loopy, so we can compare in-sample to out-of-sample\n",
    "metrics = []\n",
    "\n",
    "for i in range(2, 25):\n",
    "    # Make the model\n",
    "    tree = DecisionTreeClassifier(max_depth=i, random_state=123)\n",
    "\n",
    "    # Fit the model (on train and only train)\n",
    "    tree = tree.fit(X_train, y_train)\n",
    "\n",
    "    # Use the model\n",
    "    # We'll evaluate the model's performance on train, first\n",
    "    in_sample_accuracy = tree.score(X_train, y_train)\n",
    "    \n",
    "    out_of_sample_accuracy = tree.score(X_validate, y_validate)\n",
    "\n",
    "    output = {\n",
    "        \"max_depth\": i,\n",
    "        \"train_accuracy\": in_sample_accuracy,\n",
    "        \"validate_accuracy\": out_of_sample_accuracy\n",
    "    }\n",
    "    \n",
    "    metrics.append(output)\n",
    "    \n",
    "df = pd.DataFrame(metrics)\n",
    "df[\"difference\"] = df.train_accuracy - df.validate_accuracy\n",
    "df"
   ]
  },
  {
   "cell_type": "code",
   "execution_count": 46,
   "id": "4286b69a",
   "metadata": {},
   "outputs": [
    {
     "data": {
      "text/html": [
       "<div>\n",
       "<style scoped>\n",
       "    .dataframe tbody tr th:only-of-type {\n",
       "        vertical-align: middle;\n",
       "    }\n",
       "\n",
       "    .dataframe tbody tr th {\n",
       "        vertical-align: top;\n",
       "    }\n",
       "\n",
       "    .dataframe thead th {\n",
       "        text-align: right;\n",
       "    }\n",
       "</style>\n",
       "<table border=\"1\" class=\"dataframe\">\n",
       "  <thead>\n",
       "    <tr style=\"text-align: right;\">\n",
       "      <th></th>\n",
       "      <th>max_depth</th>\n",
       "      <th>train_accuracy</th>\n",
       "      <th>validate_accuracy</th>\n",
       "      <th>difference</th>\n",
       "    </tr>\n",
       "  </thead>\n",
       "  <tbody>\n",
       "    <tr>\n",
       "      <th>3</th>\n",
       "      <td>5</td>\n",
       "      <td>0.853414</td>\n",
       "      <td>0.803738</td>\n",
       "      <td>0.049675</td>\n",
       "    </tr>\n",
       "    <tr>\n",
       "      <th>1</th>\n",
       "      <td>3</td>\n",
       "      <td>0.825301</td>\n",
       "      <td>0.799065</td>\n",
       "      <td>0.026236</td>\n",
       "    </tr>\n",
       "    <tr>\n",
       "      <th>2</th>\n",
       "      <td>4</td>\n",
       "      <td>0.835341</td>\n",
       "      <td>0.794393</td>\n",
       "      <td>0.040949</td>\n",
       "    </tr>\n",
       "    <tr>\n",
       "      <th>4</th>\n",
       "      <td>6</td>\n",
       "      <td>0.865462</td>\n",
       "      <td>0.789720</td>\n",
       "      <td>0.075742</td>\n",
       "    </tr>\n",
       "    <tr>\n",
       "      <th>0</th>\n",
       "      <td>2</td>\n",
       "      <td>0.799197</td>\n",
       "      <td>0.761682</td>\n",
       "      <td>0.037515</td>\n",
       "    </tr>\n",
       "  </tbody>\n",
       "</table>\n",
       "</div>"
      ],
      "text/plain": [
       "   max_depth  train_accuracy  validate_accuracy  difference\n",
       "3          5        0.853414           0.803738    0.049675\n",
       "1          3        0.825301           0.799065    0.026236\n",
       "2          4        0.835341           0.794393    0.040949\n",
       "4          6        0.865462           0.789720    0.075742\n",
       "0          2        0.799197           0.761682    0.037515"
      ]
     },
     "execution_count": 46,
     "metadata": {},
     "output_type": "execute_result"
    }
   ],
   "source": [
    "# here, we're comparing differences between the train and validate data sets\n",
    "# we're tossing any differences above a certain amount (.10) and ordering by difference as a tie-breaker\n",
    "df[df.difference <= 0.10].sort_values(by=['validate_accuracy', 'difference'], ascending = [False,True])\n",
    "\n",
    "# the best max_depth, following these criteria, is 5"
   ]
  },
  {
   "cell_type": "code",
   "execution_count": null,
   "id": "89e270d9",
   "metadata": {},
   "outputs": [],
   "source": []
  },
  {
   "cell_type": "markdown",
   "id": "2cd472e3",
   "metadata": {},
   "source": [
    "# 1. Fit the Random Forest classifier to your training sample and transform (i.e. make predictions on the training sample) setting the random_state accordingly and setting min_samples_leaf = 1 and max_depth = 10.\n",
    "\n",
    "\n",
    "### baseline accuracy?"
   ]
  },
  {
   "cell_type": "code",
   "execution_count": 47,
   "id": "c7f611f4",
   "metadata": {},
   "outputs": [],
   "source": [
    "from sklearn.ensemble import RandomForestClassifier"
   ]
  },
  {
   "cell_type": "code",
   "execution_count": 48,
   "id": "8482a91b",
   "metadata": {},
   "outputs": [
    {
     "data": {
      "text/plain": [
       "RandomForestClassifier(max_depth=10)"
      ]
     },
     "execution_count": 48,
     "metadata": {},
     "output_type": "execute_result"
    }
   ],
   "source": [
    "rf = RandomForestClassifier(max_depth = 10, )\n",
    "rf"
   ]
  },
  {
   "cell_type": "code",
   "execution_count": 49,
   "id": "9e122c53",
   "metadata": {},
   "outputs": [
    {
     "data": {
      "text/plain": [
       "RandomForestClassifier(max_depth=10)"
      ]
     },
     "execution_count": 49,
     "metadata": {},
     "output_type": "execute_result"
    }
   ],
   "source": [
    "rf = rf.fit(X_train, y_train)\n",
    "rf"
   ]
  },
  {
   "cell_type": "code",
   "execution_count": 50,
   "id": "6f7e8a38",
   "metadata": {},
   "outputs": [
    {
     "name": "stdout",
     "output_type": "stream",
     "text": [
      "[0.08569171 0.21076705 0.05024383 0.03525351 0.24638559 0.02032253\n",
      " 0.         0.30977629 0.01381987 0.02773963]\n"
     ]
    }
   ],
   "source": [
    "print(rf.feature_importances_)"
   ]
  },
  {
   "cell_type": "code",
   "execution_count": 51,
   "id": "016ff9d2",
   "metadata": {},
   "outputs": [
    {
     "data": {
      "text/plain": [
       "array([0, 1, 0, 1, 1, 0, 0, 0, 0, 0, 0, 0, 1, 0, 0, 0, 0, 1, 0, 0, 1, 0,\n",
       "       1, 1, 0, 0, 1, 0, 0, 0, 0, 0, 0, 1, 1, 0, 0, 1, 0, 1, 0, 0, 0, 1,\n",
       "       0, 0, 0, 0, 1, 0, 0, 0, 1, 1, 0, 1, 0, 1, 1, 0, 0, 0, 0, 0, 0, 0,\n",
       "       1, 0, 1, 1, 0, 0, 1, 1, 0, 0, 0, 0, 0, 1, 0, 1, 0, 0, 0, 0, 1, 1,\n",
       "       1, 0, 0, 0, 1, 1, 0, 0, 1, 0, 0, 1, 0, 0, 1, 0, 0, 1, 0, 1, 0, 0,\n",
       "       1, 1, 0, 0, 0, 1, 0, 0, 1, 1, 0, 0, 0, 0, 1, 1, 1, 0, 1, 0, 1, 0,\n",
       "       0, 1, 0, 0, 0, 0, 0, 0, 1, 0, 0, 0, 1, 1, 1, 1, 1, 1, 0, 1, 1, 0,\n",
       "       0, 1, 0, 0, 1, 0, 0, 1, 0, 1, 0, 0, 0, 0, 0, 0, 0, 1, 1, 0, 0, 0,\n",
       "       1, 0, 0, 1, 0, 0, 0, 1, 0, 1, 0, 1, 0, 1, 0, 1, 0, 0, 1, 1, 0, 1,\n",
       "       0, 0, 0, 1, 1, 0, 0, 0, 0, 0, 0, 1, 0, 0, 0, 1, 1, 1, 0, 0, 1, 0,\n",
       "       0, 0, 0, 1, 0, 0, 0, 0, 0, 1, 0, 0, 0, 0, 0, 1, 1, 0, 0, 0, 0, 0,\n",
       "       1, 0, 1, 0, 1, 0, 0, 1, 0, 0, 0, 1, 0, 1, 0, 1, 1, 1, 0, 0, 1, 1,\n",
       "       0, 0, 0, 1, 0, 0, 0, 0, 0, 1, 0, 0, 0, 0, 0, 0, 0, 1, 0, 1, 0, 0,\n",
       "       1, 1, 0, 0, 0, 0, 0, 0, 0, 0, 0, 0, 0, 0, 0, 0, 0, 1, 0, 0, 1, 0,\n",
       "       0, 0, 0, 0, 0, 1, 0, 0, 0, 1, 1, 0, 0, 0, 1, 0, 0, 1, 1, 0, 1, 1,\n",
       "       0, 1, 1, 1, 1, 1, 0, 1, 0, 1, 0, 1, 1, 1, 0, 1, 0, 0, 0, 0, 1, 0,\n",
       "       1, 1, 1, 1, 1, 0, 0, 1, 0, 1, 1, 0, 0, 0, 0, 0, 0, 0, 0, 0, 1, 0,\n",
       "       1, 0, 1, 0, 1, 1, 1, 1, 1, 0, 0, 1, 0, 1, 0, 0, 0, 0, 0, 0, 1, 0,\n",
       "       1, 0, 0, 0, 0, 1, 0, 0, 0, 0, 0, 0, 0, 0, 0, 0, 0, 0, 1, 1, 1, 0,\n",
       "       1, 0, 1, 0, 0, 1, 0, 1, 0, 1, 0, 0, 0, 0, 0, 0, 1, 0, 0, 0, 1, 0,\n",
       "       0, 0, 0, 0, 0, 1, 0, 0, 1, 0, 1, 1, 0, 0, 1, 1, 0, 0, 0, 0, 0, 0,\n",
       "       1, 0, 0, 1, 1, 0, 1, 0, 1, 0, 0, 0, 0, 0, 1, 0, 0, 0, 1, 1, 1, 1,\n",
       "       0, 1, 0, 1, 0, 1, 1, 0, 1, 0, 0, 0, 0, 0])"
      ]
     },
     "execution_count": 51,
     "metadata": {},
     "output_type": "execute_result"
    }
   ],
   "source": [
    "y_pred = rf.predict(X_train)\n",
    "y_pred"
   ]
  },
  {
   "cell_type": "code",
   "execution_count": 52,
   "id": "ee4c61a1",
   "metadata": {},
   "outputs": [
    {
     "data": {
      "text/plain": [
       "array([[7.67359659e-01, 2.32640341e-01],\n",
       "       [3.10645995e-01, 6.89354005e-01],\n",
       "       [9.58750000e-01, 4.12500000e-02],\n",
       "       [2.75000000e-02, 9.72500000e-01],\n",
       "       [0.00000000e+00, 1.00000000e+00],\n",
       "       [8.65620739e-01, 1.34379261e-01],\n",
       "       [8.94806333e-01, 1.05193667e-01],\n",
       "       [9.54313767e-01, 4.56862332e-02],\n",
       "       [9.86000000e-01, 1.40000000e-02],\n",
       "       [9.99230769e-01, 7.69230769e-04],\n",
       "       [7.78294872e-01, 2.21705128e-01],\n",
       "       [9.14227389e-01, 8.57726110e-02],\n",
       "       [4.60000000e-02, 9.54000000e-01],\n",
       "       [7.32702687e-01, 2.67297313e-01],\n",
       "       [8.62142706e-01, 1.37857294e-01],\n",
       "       [5.89589562e-01, 4.10410438e-01],\n",
       "       [9.48219153e-01, 5.17808474e-02],\n",
       "       [2.06392496e-02, 9.79360750e-01],\n",
       "       [6.24650489e-01, 3.75349511e-01],\n",
       "       [8.71489316e-01, 1.28510684e-01],\n",
       "       [1.11535256e-01, 8.88464744e-01],\n",
       "       [9.66442514e-01, 3.35574860e-02],\n",
       "       [1.00000000e-02, 9.90000000e-01],\n",
       "       [2.04166667e-02, 9.79583333e-01],\n",
       "       [6.33944751e-01, 3.66055249e-01],\n",
       "       [9.81095578e-01, 1.89044217e-02],\n",
       "       [1.33333333e-02, 9.86666667e-01],\n",
       "       [6.02500000e-01, 3.97500000e-01],\n",
       "       [7.92531505e-01, 2.07468495e-01],\n",
       "       [9.23165924e-01, 7.68340762e-02],\n",
       "       [9.53018016e-01, 4.69819838e-02],\n",
       "       [9.52420111e-01, 4.75798885e-02],\n",
       "       [9.81095578e-01, 1.89044217e-02],\n",
       "       [9.96262677e-02, 9.00373732e-01],\n",
       "       [1.83333333e-02, 9.81666667e-01],\n",
       "       [6.00235174e-01, 3.99764826e-01],\n",
       "       [8.69122284e-01, 1.30877716e-01],\n",
       "       [2.00000000e-02, 9.80000000e-01],\n",
       "       [9.50359554e-01, 4.96404463e-02],\n",
       "       [1.09000000e-01, 8.91000000e-01],\n",
       "       [8.99112542e-01, 1.00887458e-01],\n",
       "       [9.64082885e-01, 3.59171148e-02],\n",
       "       [8.51762821e-01, 1.48237179e-01],\n",
       "       [6.45833333e-02, 9.35416667e-01],\n",
       "       [5.98107797e-01, 4.01892203e-01],\n",
       "       [9.32453188e-01, 6.75468120e-02],\n",
       "       [9.86000000e-01, 1.40000000e-02],\n",
       "       [9.82162969e-01, 1.78370312e-02],\n",
       "       [2.41313131e-02, 9.75868687e-01],\n",
       "       [9.17068073e-01, 8.29319268e-02],\n",
       "       [9.09677211e-01, 9.03227893e-02],\n",
       "       [9.60841954e-01, 3.91580462e-02],\n",
       "       [3.04166667e-02, 9.69583333e-01],\n",
       "       [4.00000000e-02, 9.60000000e-01],\n",
       "       [6.83009631e-01, 3.16990369e-01],\n",
       "       [8.13461538e-02, 9.18653846e-01],\n",
       "       [9.42855597e-01, 5.71444034e-02],\n",
       "       [1.08658009e-02, 9.89134199e-01],\n",
       "       [2.75290584e-01, 7.24709416e-01],\n",
       "       [9.30495548e-01, 6.95044519e-02],\n",
       "       [9.16111111e-01, 8.38888889e-02],\n",
       "       [9.44326749e-01, 5.56732508e-02],\n",
       "       [9.59303504e-01, 4.06964964e-02],\n",
       "       [8.47181600e-01, 1.52818400e-01],\n",
       "       [8.63148144e-01, 1.36851856e-01],\n",
       "       [9.86000000e-01, 1.40000000e-02],\n",
       "       [3.18506416e-01, 6.81493584e-01],\n",
       "       [9.34702016e-01, 6.52979841e-02],\n",
       "       [3.76333333e-01, 6.23666667e-01],\n",
       "       [3.18181818e-02, 9.68181818e-01],\n",
       "       [9.80000000e-01, 2.00000000e-02],\n",
       "       [9.61349340e-01, 3.86506597e-02],\n",
       "       [5.68181818e-02, 9.43181818e-01],\n",
       "       [2.52121977e-01, 7.47878023e-01],\n",
       "       [9.86000000e-01, 1.40000000e-02],\n",
       "       [9.28225433e-01, 7.17745674e-02],\n",
       "       [9.67342373e-01, 3.26576272e-02],\n",
       "       [9.47191225e-01, 5.28087752e-02],\n",
       "       [9.66978227e-01, 3.30217729e-02],\n",
       "       [3.16666667e-01, 6.83333333e-01],\n",
       "       [8.75441630e-01, 1.24558370e-01],\n",
       "       [1.00000000e-02, 9.90000000e-01],\n",
       "       [9.35444282e-01, 6.45557177e-02],\n",
       "       [9.06492944e-01, 9.35070560e-02],\n",
       "       [9.02974250e-01, 9.70257504e-02],\n",
       "       [9.00000000e-01, 1.00000000e-01],\n",
       "       [6.66666667e-03, 9.93333333e-01],\n",
       "       [1.63480769e-01, 8.36519231e-01],\n",
       "       [1.37730159e-01, 8.62269841e-01],\n",
       "       [9.47191225e-01, 5.28087752e-02],\n",
       "       [9.13332368e-01, 8.66676323e-02],\n",
       "       [9.86000000e-01, 1.40000000e-02],\n",
       "       [1.55979701e-01, 8.44020299e-01],\n",
       "       [5.00000000e-02, 9.50000000e-01],\n",
       "       [7.52424211e-01, 2.47575789e-01],\n",
       "       [9.69215171e-01, 3.07848285e-02],\n",
       "       [0.00000000e+00, 1.00000000e+00],\n",
       "       [8.66522390e-01, 1.33477610e-01],\n",
       "       [8.58845923e-01, 1.41154077e-01],\n",
       "       [7.00000000e-02, 9.30000000e-01],\n",
       "       [9.10495215e-01, 8.95047854e-02],\n",
       "       [8.44339744e-01, 1.55660256e-01],\n",
       "       [1.00416667e-01, 8.99583333e-01],\n",
       "       [9.70555894e-01, 2.94441065e-02],\n",
       "       [6.80000000e-01, 3.20000000e-01],\n",
       "       [4.16666667e-04, 9.99583333e-01],\n",
       "       [9.08461538e-01, 9.15384615e-02],\n",
       "       [3.53601954e-02, 9.64639805e-01],\n",
       "       [9.69215171e-01, 3.07848285e-02],\n",
       "       [9.85729881e-01, 1.42701188e-02],\n",
       "       [1.75688028e-01, 8.24311972e-01],\n",
       "       [2.81762544e-01, 7.18237456e-01],\n",
       "       [8.53948557e-01, 1.46051443e-01],\n",
       "       [9.56256098e-01, 4.37439024e-02],\n",
       "       [6.32512806e-01, 3.67487194e-01],\n",
       "       [2.75000000e-02, 9.72500000e-01],\n",
       "       [9.90000000e-01, 1.00000000e-02],\n",
       "       [9.56984759e-01, 4.30152409e-02],\n",
       "       [4.04166667e-02, 9.59583333e-01],\n",
       "       [4.04166667e-02, 9.59583333e-01],\n",
       "       [8.63951923e-01, 1.36048077e-01],\n",
       "       [9.87564660e-01, 1.24353399e-02],\n",
       "       [8.38568834e-01, 1.61431166e-01],\n",
       "       [8.16032051e-01, 1.83967949e-01],\n",
       "       [1.46520147e-01, 8.53479853e-01],\n",
       "       [9.04166667e-02, 9.09583333e-01],\n",
       "       [7.91666667e-03, 9.92083333e-01],\n",
       "       [6.87792125e-01, 3.12207875e-01],\n",
       "       [4.29730755e-01, 5.70269245e-01],\n",
       "       [8.85785714e-01, 1.14214286e-01],\n",
       "       [2.06392496e-02, 9.79360750e-01],\n",
       "       [9.54079938e-01, 4.59200623e-02],\n",
       "       [1.00000000e+00, 0.00000000e+00],\n",
       "       [1.08150183e-01, 8.91849817e-01],\n",
       "       [8.85277737e-01, 1.14722263e-01],\n",
       "       [9.34780203e-01, 6.52197968e-02],\n",
       "       [8.58238095e-01, 1.41761905e-01],\n",
       "       [9.48219153e-01, 5.17808474e-02],\n",
       "       [9.10316101e-01, 8.96838990e-02],\n",
       "       [7.69642857e-01, 2.30357143e-01],\n",
       "       [2.04166667e-02, 9.79583333e-01],\n",
       "       [8.96118590e-01, 1.03881410e-01],\n",
       "       [7.77181848e-01, 2.22818152e-01],\n",
       "       [9.92887955e-01, 7.11204482e-03],\n",
       "       [1.23186813e-01, 8.76813187e-01],\n",
       "       [2.54035389e-01, 7.45964611e-01],\n",
       "       [0.00000000e+00, 1.00000000e+00],\n",
       "       [3.07142857e-02, 9.69285714e-01],\n",
       "       [4.75000000e-02, 9.52500000e-01],\n",
       "       [6.00000000e-02, 9.40000000e-01],\n",
       "       [9.44326749e-01, 5.56732508e-02],\n",
       "       [2.00000000e-02, 9.80000000e-01],\n",
       "       [1.42500000e-01, 8.57500000e-01],\n",
       "       [9.69750824e-01, 3.02491765e-02],\n",
       "       [6.84265415e-01, 3.15734585e-01],\n",
       "       [9.82784072e-02, 9.01721593e-01],\n",
       "       [9.62407896e-01, 3.75921044e-02],\n",
       "       [9.71880453e-01, 2.81195469e-02],\n",
       "       [1.01921911e-01, 8.98078089e-01],\n",
       "       [8.98018702e-01, 1.01981298e-01],\n",
       "       [9.22666881e-01, 7.73331188e-02],\n",
       "       [2.73809524e-02, 9.72619048e-01],\n",
       "       [9.23082202e-01, 7.69177984e-02],\n",
       "       [1.34146368e-01, 8.65853632e-01],\n",
       "       [9.46124721e-01, 5.38752794e-02],\n",
       "       [9.67937497e-01, 3.20625026e-02],\n",
       "       [9.40000000e-01, 6.00000000e-02],\n",
       "       [9.56984759e-01, 4.30152409e-02],\n",
       "       [9.34955598e-01, 6.50444022e-02],\n",
       "       [9.24642365e-01, 7.53576350e-02],\n",
       "       [9.56501956e-01, 4.34980444e-02],\n",
       "       [0.00000000e+00, 1.00000000e+00],\n",
       "       [1.01921911e-01, 8.98078089e-01],\n",
       "       [9.59197469e-01, 4.08025308e-02],\n",
       "       [8.36893875e-01, 1.63106125e-01],\n",
       "       [9.40646514e-01, 5.93534858e-02],\n",
       "       [1.00000000e-02, 9.90000000e-01],\n",
       "       [8.81055424e-01, 1.18944576e-01],\n",
       "       [9.84280788e-01, 1.57192118e-02],\n",
       "       [4.32303147e-01, 5.67696853e-01],\n",
       "       [9.69076800e-01, 3.09232001e-02],\n",
       "       [9.61349340e-01, 3.86506597e-02],\n",
       "       [9.78134719e-01, 2.18652815e-02],\n",
       "       [2.75000000e-02, 9.72500000e-01],\n",
       "       [9.85729881e-01, 1.42701188e-02],\n",
       "       [4.84170274e-02, 9.51582973e-01],\n",
       "       [9.54069315e-01, 4.59306851e-02],\n",
       "       [4.04166667e-02, 9.59583333e-01],\n",
       "       [7.85000000e-01, 2.15000000e-01],\n",
       "       [4.50726786e-01, 5.49273214e-01],\n",
       "       [9.16662274e-01, 8.33377264e-02],\n",
       "       [4.16666667e-04, 9.99583333e-01],\n",
       "       [9.11119546e-01, 8.88804539e-02],\n",
       "       [9.63869351e-01, 3.61306495e-02],\n",
       "       [2.00000000e-02, 9.80000000e-01],\n",
       "       [1.66158730e-01, 8.33841270e-01],\n",
       "       [8.95396825e-01, 1.04603175e-01],\n",
       "       [4.27727058e-01, 5.72272942e-01],\n",
       "       [8.72489799e-01, 1.27510201e-01],\n",
       "       [9.04262533e-01, 9.57374666e-02],\n",
       "       [9.90000000e-01, 1.00000000e-02],\n",
       "       [4.00000000e-02, 9.60000000e-01],\n",
       "       [9.00000000e-02, 9.10000000e-01],\n",
       "       [9.15569919e-01, 8.44300805e-02],\n",
       "       [9.42103084e-01, 5.78969156e-02],\n",
       "       [9.42257469e-01, 5.77425309e-02],\n",
       "       [9.09559382e-01, 9.04406181e-02],\n",
       "       [9.02291667e-01, 9.77083333e-02],\n",
       "       [9.48219153e-01, 5.17808474e-02],\n",
       "       [1.29583333e-01, 8.70416667e-01],\n",
       "       [7.42635211e-01, 2.57364789e-01],\n",
       "       [9.61349340e-01, 3.86506597e-02],\n",
       "       [7.28464777e-01, 2.71535223e-01],\n",
       "       [2.67449786e-01, 7.32550214e-01],\n",
       "       [1.00000000e-02, 9.90000000e-01],\n",
       "       [1.89729542e-01, 8.10270458e-01],\n",
       "       [9.66978227e-01, 3.30217729e-02],\n",
       "       [9.82887955e-01, 1.71120448e-02],\n",
       "       [5.89880952e-02, 9.41011905e-01],\n",
       "       [9.75170590e-01, 2.48294096e-02],\n",
       "       [7.70000000e-01, 2.30000000e-01],\n",
       "       [9.48219153e-01, 5.17808474e-02],\n",
       "       [8.98378522e-01, 1.01621478e-01],\n",
       "       [0.00000000e+00, 1.00000000e+00],\n",
       "       [9.68564660e-01, 3.14353399e-02],\n",
       "       [9.05799280e-01, 9.42007204e-02],\n",
       "       [8.22609432e-01, 1.77390568e-01],\n",
       "       [5.05395574e-01, 4.94604426e-01],\n",
       "       [9.52130476e-01, 4.78695236e-02],\n",
       "       [1.28269125e-01, 8.71730875e-01],\n",
       "       [7.56696020e-01, 2.43303980e-01],\n",
       "       [8.49537659e-01, 1.50462341e-01],\n",
       "       [9.85729881e-01, 1.42701188e-02],\n",
       "       [8.97053433e-01, 1.02946567e-01],\n",
       "       [9.04262533e-01, 9.57374666e-02],\n",
       "       [1.04166667e-02, 9.89583333e-01],\n",
       "       [1.63932692e-01, 8.36067308e-01],\n",
       "       [9.59303504e-01, 4.06964964e-02],\n",
       "       [9.74000000e-01, 2.60000000e-02],\n",
       "       [9.80000000e-01, 2.00000000e-02],\n",
       "       [9.11119546e-01, 8.88804539e-02],\n",
       "       [9.34829961e-01, 6.51700390e-02],\n",
       "       [8.41025641e-02, 9.15897436e-01],\n",
       "       [5.62236676e-01, 4.37763324e-01],\n",
       "       [4.08333333e-02, 9.59166667e-01],\n",
       "       [9.83291933e-01, 1.67080672e-02],\n",
       "       [0.00000000e+00, 1.00000000e+00],\n",
       "       [9.19563716e-01, 8.04362843e-02],\n",
       "       [8.22866989e-01, 1.77133011e-01],\n",
       "       [6.00000000e-02, 9.40000000e-01],\n",
       "       [8.67117979e-01, 1.32882021e-01],\n",
       "       [8.10389153e-01, 1.89610847e-01],\n",
       "       [9.76946483e-01, 2.30535168e-02],\n",
       "       [2.55659799e-01, 7.44340201e-01],\n",
       "       [9.03959145e-01, 9.60408550e-02],\n",
       "       [2.48846154e-01, 7.51153846e-01],\n",
       "       [6.90639250e-01, 3.09360750e-01],\n",
       "       [3.00000000e-02, 9.70000000e-01],\n",
       "       [0.00000000e+00, 1.00000000e+00],\n",
       "       [2.58608364e-01, 7.41391636e-01],\n",
       "       [7.73229719e-01, 2.26770281e-01],\n",
       "       [9.35199053e-01, 6.48009466e-02],\n",
       "       [2.41313131e-02, 9.75868687e-01],\n",
       "       [3.75000000e-02, 9.62500000e-01],\n",
       "       [9.24642365e-01, 7.53576350e-02],\n",
       "       [9.28487179e-01, 7.15128205e-02],\n",
       "       [8.99230769e-01, 1.00769231e-01],\n",
       "       [3.42486873e-01, 6.57513127e-01],\n",
       "       [9.69215171e-01, 3.07848285e-02],\n",
       "       [7.29615385e-01, 2.70384615e-01],\n",
       "       [9.60576528e-01, 3.94234724e-02],\n",
       "       [7.42649267e-01, 2.57350733e-01],\n",
       "       [9.45464035e-01, 5.45359650e-02],\n",
       "       [0.00000000e+00, 1.00000000e+00],\n",
       "       [9.99230769e-01, 7.69230769e-04],\n",
       "       [9.61056065e-01, 3.89439352e-02],\n",
       "       [9.44155203e-01, 5.58447968e-02],\n",
       "       [9.48219153e-01, 5.17808474e-02],\n",
       "       [9.48219153e-01, 5.17808474e-02],\n",
       "       [9.64350593e-01, 3.56494070e-02],\n",
       "       [9.64350593e-01, 3.56494070e-02],\n",
       "       [3.00000000e-02, 9.70000000e-01],\n",
       "       [6.36158730e-01, 3.63841270e-01],\n",
       "       [2.41313131e-02, 9.75868687e-01],\n",
       "       [8.97135544e-01, 1.02864456e-01],\n",
       "       [9.24225433e-01, 7.57745674e-02],\n",
       "       [5.41025641e-02, 9.45897436e-01],\n",
       "       [4.70979734e-01, 5.29020266e-01],\n",
       "       [8.96923077e-01, 1.03076923e-01],\n",
       "       [9.10020854e-01, 8.99791462e-02],\n",
       "       [9.57162969e-01, 4.28370312e-02],\n",
       "       [9.77369515e-01, 2.26304853e-02],\n",
       "       [9.48219153e-01, 5.17808474e-02],\n",
       "       [9.45464035e-01, 5.45359650e-02],\n",
       "       [8.60464744e-01, 1.39535256e-01],\n",
       "       [5.10964940e-01, 4.89035060e-01],\n",
       "       [8.78580023e-01, 1.21419977e-01],\n",
       "       [9.64260106e-01, 3.57398940e-02],\n",
       "       [1.00000000e+00, 0.00000000e+00],\n",
       "       [9.30146040e-01, 6.98539602e-02],\n",
       "       [7.45002122e-01, 2.54997878e-01],\n",
       "       [8.99112542e-01, 1.00887458e-01],\n",
       "       [9.66407522e-01, 3.35924782e-02],\n",
       "       [2.41313131e-02, 9.75868687e-01],\n",
       "       [9.76946483e-01, 2.30535168e-02],\n",
       "       [8.91772844e-01, 1.08227156e-01],\n",
       "       [5.00000000e-02, 9.50000000e-01],\n",
       "       [9.61349340e-01, 3.86506597e-02],\n",
       "       [9.14633663e-01, 8.53663372e-02],\n",
       "       [8.33333333e-01, 1.66666667e-01],\n",
       "       [9.63869351e-01, 3.61306495e-02],\n",
       "       [9.70147956e-01, 2.98520438e-02],\n",
       "       [9.94554622e-01, 5.44537815e-03],\n",
       "       [5.84170274e-02, 9.41582973e-01],\n",
       "       [9.60000000e-01, 4.00000000e-02],\n",
       "       [8.02870629e-01, 1.97129371e-01],\n",
       "       [9.61349340e-01, 3.86506597e-02],\n",
       "       [1.00000000e-02, 9.90000000e-01],\n",
       "       [3.48359659e-01, 6.51640341e-01],\n",
       "       [9.75843501e-01, 2.41564988e-02],\n",
       "       [9.66730769e-01, 3.32692308e-02],\n",
       "       [8.64239069e-01, 1.35760931e-01],\n",
       "       [0.00000000e+00, 1.00000000e+00],\n",
       "       [7.04179257e-01, 2.95820743e-01],\n",
       "       [8.33717114e-01, 1.66282886e-01],\n",
       "       [2.05577381e-01, 7.94422619e-01],\n",
       "       [3.22242278e-01, 6.77757722e-01],\n",
       "       [5.94328547e-01, 4.05671453e-01],\n",
       "       [2.42898165e-01, 7.57101835e-01],\n",
       "       [1.08658009e-02, 9.89134199e-01],\n",
       "       [9.38541470e-01, 6.14585304e-02],\n",
       "       [9.53601954e-02, 9.04639805e-01],\n",
       "       [2.41313131e-02, 9.75868687e-01],\n",
       "       [2.53133394e-01, 7.46866606e-01],\n",
       "       [2.23804487e-01, 7.76195513e-01],\n",
       "       [2.06392496e-02, 9.79360750e-01],\n",
       "       [8.33333333e-01, 1.66666667e-01],\n",
       "       [1.94833333e-01, 8.05166667e-01],\n",
       "       [9.60841954e-01, 3.91580462e-02],\n",
       "       [4.21666667e-01, 5.78333333e-01],\n",
       "       [8.81809969e-01, 1.18190031e-01],\n",
       "       [9.16666667e-02, 9.08333333e-01],\n",
       "       [1.93131313e-01, 8.06868687e-01],\n",
       "       [2.44403590e-01, 7.55596410e-01],\n",
       "       [9.33887733e-01, 6.61122669e-02],\n",
       "       [2.08069805e-01, 7.91930195e-01],\n",
       "       [9.24225433e-01, 7.57745674e-02],\n",
       "       [7.50467562e-01, 2.49532438e-01],\n",
       "       [8.02095543e-01, 1.97904457e-01],\n",
       "       [9.19227389e-01, 8.07726110e-02],\n",
       "       [0.00000000e+00, 1.00000000e+00],\n",
       "       [8.07666881e-01, 1.92333119e-01],\n",
       "       [3.62870394e-01, 6.37129606e-01],\n",
       "       [1.24846154e-01, 8.75153846e-01],\n",
       "       [2.04166667e-02, 9.79583333e-01],\n",
       "       [1.00000000e-02, 9.90000000e-01],\n",
       "       [0.00000000e+00, 1.00000000e+00],\n",
       "       [8.86666667e-01, 1.13333333e-01],\n",
       "       [8.02870629e-01, 1.97129371e-01],\n",
       "       [1.00000000e-01, 9.00000000e-01],\n",
       "       [8.76258532e-01, 1.23741468e-01],\n",
       "       [3.60138889e-01, 6.39861111e-01],\n",
       "       [1.25324675e-02, 9.87467532e-01],\n",
       "       [7.99000000e-01, 2.01000000e-01],\n",
       "       [9.71238095e-01, 2.87619048e-02],\n",
       "       [7.34292125e-01, 2.65707875e-01],\n",
       "       [6.24650489e-01, 3.75349511e-01],\n",
       "       [8.97523073e-01, 1.02476927e-01],\n",
       "       [9.36666667e-01, 6.33333333e-02],\n",
       "       [7.19416881e-01, 2.80583119e-01],\n",
       "       [9.63869351e-01, 3.61306495e-02],\n",
       "       [8.56571429e-01, 1.43428571e-01],\n",
       "       [2.18600452e-01, 7.81399548e-01],\n",
       "       [8.87904414e-01, 1.12095586e-01],\n",
       "       [1.15575188e-01, 8.84424812e-01],\n",
       "       [7.03063283e-01, 2.96936717e-01],\n",
       "       [0.00000000e+00, 1.00000000e+00],\n",
       "       [5.76250000e-01, 4.23750000e-01],\n",
       "       [0.00000000e+00, 1.00000000e+00],\n",
       "       [3.14230769e-01, 6.85769231e-01],\n",
       "       [6.53601954e-02, 9.34639805e-01],\n",
       "       [5.48750000e-02, 9.45125000e-01],\n",
       "       [3.18181818e-02, 9.68181818e-01],\n",
       "       [8.20513599e-01, 1.79486401e-01],\n",
       "       [7.85773352e-01, 2.14226648e-01],\n",
       "       [2.20202020e-02, 9.77979798e-01],\n",
       "       [7.28464777e-01, 2.71535223e-01],\n",
       "       [2.98767119e-01, 7.01232881e-01],\n",
       "       [7.47785714e-01, 2.52214286e-01],\n",
       "       [9.55421584e-01, 4.45784159e-02],\n",
       "       [8.07162982e-01, 1.92837018e-01],\n",
       "       [6.82071441e-01, 3.17928559e-01],\n",
       "       [8.30619492e-01, 1.69380508e-01],\n",
       "       [5.83150183e-01, 4.16849817e-01],\n",
       "       [2.70085775e-01, 7.29914225e-01],\n",
       "       [7.70758461e-01, 2.29241539e-01],\n",
       "       [8.00000000e-02, 9.20000000e-01],\n",
       "       [9.75170590e-01, 2.48294096e-02],\n",
       "       [8.43717114e-01, 1.56282886e-01],\n",
       "       [6.44985043e-01, 3.55014957e-01],\n",
       "       [9.17886147e-01, 8.21138532e-02],\n",
       "       [6.16666667e-02, 9.38333333e-01],\n",
       "       [9.64746645e-01, 3.52533554e-02],\n",
       "       [8.84543193e-01, 1.15456807e-01],\n",
       "       [9.04207752e-01, 9.57922483e-02],\n",
       "       [6.56495280e-01, 3.43504720e-01],\n",
       "       [9.43516814e-01, 5.64831858e-02],\n",
       "       [8.40227058e-01, 1.59772942e-01],\n",
       "       [9.74000000e-01, 2.60000000e-02],\n",
       "       [5.56513889e-01, 4.43486111e-01],\n",
       "       [9.19227389e-01, 8.07726110e-02],\n",
       "       [9.73176698e-01, 2.68233021e-02],\n",
       "       [9.84228478e-01, 1.57715220e-02],\n",
       "       [8.82534562e-01, 1.17465438e-01],\n",
       "       [4.00000000e-03, 9.96000000e-01],\n",
       "       [1.40476190e-02, 9.85952381e-01],\n",
       "       [4.16666667e-04, 9.99583333e-01],\n",
       "       [7.65116397e-01, 2.34883603e-01],\n",
       "       [1.04166667e-02, 9.89583333e-01],\n",
       "       [7.85301352e-01, 2.14698648e-01],\n",
       "       [3.81136236e-01, 6.18863764e-01],\n",
       "       [9.14319098e-01, 8.56809020e-02],\n",
       "       [9.44326749e-01, 5.56732508e-02],\n",
       "       [3.90000000e-02, 9.61000000e-01],\n",
       "       [9.68180607e-01, 3.18193931e-02],\n",
       "       [2.53246753e-03, 9.97467532e-01],\n",
       "       [7.98163294e-01, 2.01836706e-01],\n",
       "       [2.04166667e-02, 9.79583333e-01],\n",
       "       [9.54716725e-01, 4.52832747e-02],\n",
       "       [6.94166667e-01, 3.05833333e-01],\n",
       "       [9.61349340e-01, 3.86506597e-02],\n",
       "       [8.68339431e-01, 1.31660569e-01],\n",
       "       [9.56256098e-01, 4.37439024e-02],\n",
       "       [9.52420111e-01, 4.75798885e-02],\n",
       "       [2.10000000e-01, 7.90000000e-01],\n",
       "       [6.38779323e-01, 3.61220677e-01],\n",
       "       [5.46639250e-01, 4.53360750e-01],\n",
       "       [9.70555894e-01, 2.94441065e-02],\n",
       "       [7.00000000e-02, 9.30000000e-01],\n",
       "       [9.72522972e-01, 2.74770277e-02],\n",
       "       [9.61349340e-01, 3.86506597e-02],\n",
       "       [8.56558899e-01, 1.43441101e-01],\n",
       "       [9.43214314e-01, 5.67856859e-02],\n",
       "       [8.09729719e-01, 1.90270281e-01],\n",
       "       [9.69215171e-01, 3.07848285e-02],\n",
       "       [2.07568778e-01, 7.92431222e-01],\n",
       "       [9.63333333e-01, 3.66666667e-02],\n",
       "       [9.90000000e-01, 1.00000000e-02],\n",
       "       [4.00500685e-01, 5.99499315e-01],\n",
       "       [9.56815645e-01, 4.31843553e-02],\n",
       "       [1.75339286e-01, 8.24660714e-01],\n",
       "       [1.66666667e-02, 9.83333333e-01],\n",
       "       [9.19563716e-01, 8.04362843e-02],\n",
       "       [9.10286635e-01, 8.97133649e-02],\n",
       "       [4.12500000e-02, 9.58750000e-01],\n",
       "       [3.59049120e-01, 6.40950880e-01],\n",
       "       [9.70000000e-01, 3.00000000e-02],\n",
       "       [8.55555143e-01, 1.44444857e-01],\n",
       "       [9.43682377e-01, 5.63176229e-02],\n",
       "       [9.63869351e-01, 3.61306495e-02],\n",
       "       [9.52747253e-01, 4.72527473e-02],\n",
       "       [9.28541470e-01, 7.14585304e-02],\n",
       "       [2.73809524e-02, 9.72619048e-01],\n",
       "       [8.93666667e-01, 1.06333333e-01],\n",
       "       [8.77007479e-01, 1.22992521e-01],\n",
       "       [0.00000000e+00, 1.00000000e+00],\n",
       "       [2.94339744e-01, 7.05660256e-01],\n",
       "       [9.37421353e-01, 6.25786472e-02],\n",
       "       [1.69431818e-01, 8.30568182e-01],\n",
       "       [9.20994682e-01, 7.90053178e-02],\n",
       "       [1.08658009e-02, 9.89134199e-01],\n",
       "       [7.34013805e-01, 2.65986195e-01],\n",
       "       [9.30146040e-01, 6.98539602e-02],\n",
       "       [8.99449512e-01, 1.00550488e-01],\n",
       "       [9.76476190e-01, 2.35238095e-02],\n",
       "       [7.28464777e-01, 2.71535223e-01],\n",
       "       [1.83658009e-02, 9.81634199e-01],\n",
       "       [8.16666667e-01, 1.83333333e-01],\n",
       "       [8.73448413e-01, 1.26551587e-01],\n",
       "       [9.56984759e-01, 4.30152409e-02],\n",
       "       [3.24815934e-01, 6.75184066e-01],\n",
       "       [3.00000000e-02, 9.70000000e-01],\n",
       "       [1.60904762e-01, 8.39095238e-01],\n",
       "       [1.38461538e-02, 9.86153846e-01],\n",
       "       [9.35444282e-01, 6.45557177e-02],\n",
       "       [2.68112637e-01, 7.31887363e-01],\n",
       "       [6.60759622e-01, 3.39240378e-01],\n",
       "       [1.02484152e-01, 8.97515848e-01],\n",
       "       [9.48219153e-01, 5.17808474e-02],\n",
       "       [3.09458333e-01, 6.90541667e-01],\n",
       "       [7.48750000e-02, 9.25125000e-01],\n",
       "       [9.41685779e-01, 5.83142209e-02],\n",
       "       [1.38461538e-02, 9.86153846e-01],\n",
       "       [9.66282895e-01, 3.37171051e-02],\n",
       "       [8.81059677e-01, 1.18940323e-01],\n",
       "       [7.62646673e-01, 2.37353327e-01],\n",
       "       [9.66730769e-01, 3.32692308e-02],\n",
       "       [7.16094059e-01, 2.83905941e-01]])"
      ]
     },
     "execution_count": 52,
     "metadata": {},
     "output_type": "execute_result"
    }
   ],
   "source": [
    "y_pred_proba = rf.predict_proba(X_train)\n",
    "y_pred_proba"
   ]
  },
  {
   "cell_type": "code",
   "execution_count": null,
   "id": "2e4c8a78",
   "metadata": {},
   "outputs": [],
   "source": []
  },
  {
   "cell_type": "markdown",
   "id": "a8f57415",
   "metadata": {},
   "source": [
    "### 2. Evaluate your results using the model score, confusion matrix, and classification report."
   ]
  },
  {
   "cell_type": "code",
   "execution_count": 53,
   "id": "f665e587",
   "metadata": {},
   "outputs": [
    {
     "name": "stdout",
     "output_type": "stream",
     "text": [
      "Accuracy of random forest classifier on training set: 0.97\n"
     ]
    }
   ],
   "source": [
    "print('Accuracy of random forest classifier on training set: {:.2f}'\n",
    "     .format(rf.score(X_train, y_train)))"
   ]
  },
  {
   "cell_type": "code",
   "execution_count": 54,
   "id": "77afff7c",
   "metadata": {},
   "outputs": [
    {
     "data": {
      "text/html": [
       "<div>\n",
       "<style scoped>\n",
       "    .dataframe tbody tr th:only-of-type {\n",
       "        vertical-align: middle;\n",
       "    }\n",
       "\n",
       "    .dataframe tbody tr th {\n",
       "        vertical-align: top;\n",
       "    }\n",
       "\n",
       "    .dataframe thead th {\n",
       "        text-align: right;\n",
       "    }\n",
       "</style>\n",
       "<table border=\"1\" class=\"dataframe\">\n",
       "  <thead>\n",
       "    <tr style=\"text-align: right;\">\n",
       "      <th></th>\n",
       "      <th>0</th>\n",
       "      <th>1</th>\n",
       "    </tr>\n",
       "  </thead>\n",
       "  <tbody>\n",
       "    <tr>\n",
       "      <th>0</th>\n",
       "      <td>307</td>\n",
       "      <td>0</td>\n",
       "    </tr>\n",
       "    <tr>\n",
       "      <th>1</th>\n",
       "      <td>16</td>\n",
       "      <td>175</td>\n",
       "    </tr>\n",
       "  </tbody>\n",
       "</table>\n",
       "</div>"
      ],
      "text/plain": [
       "     0    1\n",
       "0  307    0\n",
       "1   16  175"
      ]
     },
     "execution_count": 54,
     "metadata": {},
     "output_type": "execute_result"
    }
   ],
   "source": [
    "conf_matrix = pd.DataFrame(confusion_matrix(y_train, y_pred))\n",
    "\n",
    "conf_matrix\n",
    "# confusion matrix - actual on left, predicted on top\n",
    "\n",
    "# 0 = 'perished', 1= 'survived'"
   ]
  },
  {
   "cell_type": "code",
   "execution_count": 55,
   "id": "7c6bd626",
   "metadata": {},
   "outputs": [
    {
     "name": "stdout",
     "output_type": "stream",
     "text": [
      "              precision    recall  f1-score   support\n",
      "\n",
      "           0       0.95      1.00      0.97       307\n",
      "           1       1.00      0.92      0.96       191\n",
      "\n",
      "    accuracy                           0.97       498\n",
      "   macro avg       0.98      0.96      0.97       498\n",
      "weighted avg       0.97      0.97      0.97       498\n",
      "\n"
     ]
    }
   ],
   "source": [
    "print(classification_report(y_train, y_pred))"
   ]
  },
  {
   "cell_type": "markdown",
   "id": "4be0498c",
   "metadata": {},
   "source": [
    "### 3. Print and clearly label the following: Accuracy, true positive rate, false positive rate, true negative rate, false negative rate, precision, recall, f1-score, and support."
   ]
  },
  {
   "cell_type": "code",
   "execution_count": 56,
   "id": "4a55489e",
   "metadata": {},
   "outputs": [
    {
     "name": "stdout",
     "output_type": "stream",
     "text": [
      "Accuracy: 0.9678714859437751\n",
      "True Positive Rate: 1.0\n",
      "False Positive Rate: 0.08376963350785341\n",
      "True Negative Rate: 0.9162303664921466\n",
      "False Negative Rate: 0.0\n",
      "Precision: 0.9504643962848297\n",
      "Recall: 1.0\n",
      "F1 Score: 0.9746031746031747\n",
      "Support (0): 307\n",
      "Support (1): 191\n"
     ]
    }
   ],
   "source": [
    "TP = 307\n",
    "FP = 16\n",
    "FN = 0\n",
    "TN = 175\n",
    "ALL = TP + FP + FN + TN\n",
    "\n",
    "accuracy = (TP + TN)/ALL\n",
    "print(f\"Accuracy: {accuracy}\")\n",
    "\n",
    "true_positive_rate = TP/(TP+FN)\n",
    "print(f\"True Positive Rate: {true_positive_rate}\")\n",
    "\n",
    "false_positive_rate = FP/(FP+TN)\n",
    "print(f\"False Positive Rate: {false_positive_rate}\")\n",
    "\n",
    "true_negative_rate = TN/(TN+FP)\n",
    "print(f\"True Negative Rate: {true_negative_rate}\")\n",
    "\n",
    "false_negative_rate = FN/(FN+TP)\n",
    "print(f\"False Negative Rate: {false_negative_rate}\")\n",
    "\n",
    "precision = TP/(TP+FP)\n",
    "print(f\"Precision: {precision}\")\n",
    "\n",
    "recall = TP/(TP+FN)\n",
    "print(f\"Recall: {recall}\")\n",
    "\n",
    "f1_score = 2*(precision*recall)/(precision+recall)\n",
    "print(f\"F1 Score: {f1_score}\")\n",
    "\n",
    "support_pos = TP + FN\n",
    "print(f\"Support (0): {support_pos}\")\n",
    "\n",
    "support_neg = FP + TN\n",
    "print(f\"Support (1): {support_neg}\")"
   ]
  },
  {
   "cell_type": "code",
   "execution_count": null,
   "id": "e05c0f16",
   "metadata": {},
   "outputs": [],
   "source": []
  },
  {
   "cell_type": "code",
   "execution_count": null,
   "id": "3fbc8f0d",
   "metadata": {},
   "outputs": [],
   "source": []
  },
  {
   "cell_type": "markdown",
   "id": "446efb85",
   "metadata": {},
   "source": [
    "### 4. Run through steps increasing your min_samples_leaf and decreasing your max_depth."
   ]
  },
  {
   "cell_type": "code",
   "execution_count": 57,
   "id": "47954cfc",
   "metadata": {},
   "outputs": [],
   "source": [
    "#commenting out bc of longish processing time\n",
    "\n",
    "\n",
    "# for i in range(20,1, -1):\n",
    "#     for n in range(1, 21):\n",
    "#         # Make the model\n",
    "#         forest = RandomForestClassifier(max_depth=i, min_samples_leaf=n)#, random_state=123)\n",
    "\n",
    "#         #why isn't the random_state argument working?\n",
    "\n",
    "#         # Fit the model (on train and only train)\n",
    "#         forest.fit(X_train, y_train)\n",
    "\n",
    "#         # Use the model\n",
    "#         # We'll evaluate the model's performance on train, first\n",
    "#         y_predictions = forest.predict(X_train)\n",
    "\n",
    "#         # Produce the classification report on the actual y values and this model's predicted y values\n",
    "#         report = classification_report(y_train, y_predictions) #, output_dict=True)\n",
    "#         print(f\"Forest with max depth of {i} and sample leaves {n}\")\n",
    "#         print(report)\n",
    "#         print()"
   ]
  },
  {
   "cell_type": "markdown",
   "id": "319f82ab",
   "metadata": {},
   "source": [
    "- see about altering the for loop to just return accuracy, leaves and depth"
   ]
  },
  {
   "cell_type": "markdown",
   "id": "cf45b856",
   "metadata": {},
   "source": [
    "### 5. What are the differences in the evaluation metrics? Which performs better on your in-sample data? Why?\n",
    "\n",
    "    - this cell takes a while to run, so i'm commenting it out for now"
   ]
  },
  {
   "cell_type": "code",
   "execution_count": 58,
   "id": "2b183fe0",
   "metadata": {},
   "outputs": [
    {
     "data": {
      "text/html": [
       "<div>\n",
       "<style scoped>\n",
       "    .dataframe tbody tr th:only-of-type {\n",
       "        vertical-align: middle;\n",
       "    }\n",
       "\n",
       "    .dataframe tbody tr th {\n",
       "        vertical-align: top;\n",
       "    }\n",
       "\n",
       "    .dataframe thead th {\n",
       "        text-align: right;\n",
       "    }\n",
       "</style>\n",
       "<table border=\"1\" class=\"dataframe\">\n",
       "  <thead>\n",
       "    <tr style=\"text-align: right;\">\n",
       "      <th></th>\n",
       "      <th>max_depth</th>\n",
       "      <th>min_leaves</th>\n",
       "      <th>train_accuracy</th>\n",
       "      <th>validate_accuracy</th>\n",
       "      <th>difference</th>\n",
       "    </tr>\n",
       "  </thead>\n",
       "  <tbody>\n",
       "    <tr>\n",
       "      <th>0</th>\n",
       "      <td>20</td>\n",
       "      <td>1</td>\n",
       "      <td>0.995984</td>\n",
       "      <td>0.803738</td>\n",
       "      <td>0.192246</td>\n",
       "    </tr>\n",
       "    <tr>\n",
       "      <th>1</th>\n",
       "      <td>20</td>\n",
       "      <td>2</td>\n",
       "      <td>0.917671</td>\n",
       "      <td>0.817757</td>\n",
       "      <td>0.099914</td>\n",
       "    </tr>\n",
       "    <tr>\n",
       "      <th>2</th>\n",
       "      <td>20</td>\n",
       "      <td>3</td>\n",
       "      <td>0.901606</td>\n",
       "      <td>0.827103</td>\n",
       "      <td>0.074504</td>\n",
       "    </tr>\n",
       "    <tr>\n",
       "      <th>3</th>\n",
       "      <td>20</td>\n",
       "      <td>4</td>\n",
       "      <td>0.887550</td>\n",
       "      <td>0.808411</td>\n",
       "      <td>0.079139</td>\n",
       "    </tr>\n",
       "    <tr>\n",
       "      <th>4</th>\n",
       "      <td>20</td>\n",
       "      <td>5</td>\n",
       "      <td>0.873494</td>\n",
       "      <td>0.808411</td>\n",
       "      <td>0.065083</td>\n",
       "    </tr>\n",
       "    <tr>\n",
       "      <th>...</th>\n",
       "      <td>...</td>\n",
       "      <td>...</td>\n",
       "      <td>...</td>\n",
       "      <td>...</td>\n",
       "      <td>...</td>\n",
       "    </tr>\n",
       "    <tr>\n",
       "      <th>395</th>\n",
       "      <td>1</td>\n",
       "      <td>16</td>\n",
       "      <td>0.783133</td>\n",
       "      <td>0.757009</td>\n",
       "      <td>0.026123</td>\n",
       "    </tr>\n",
       "    <tr>\n",
       "      <th>396</th>\n",
       "      <td>1</td>\n",
       "      <td>17</td>\n",
       "      <td>0.775100</td>\n",
       "      <td>0.752336</td>\n",
       "      <td>0.022764</td>\n",
       "    </tr>\n",
       "    <tr>\n",
       "      <th>397</th>\n",
       "      <td>1</td>\n",
       "      <td>18</td>\n",
       "      <td>0.775100</td>\n",
       "      <td>0.757009</td>\n",
       "      <td>0.018091</td>\n",
       "    </tr>\n",
       "    <tr>\n",
       "      <th>398</th>\n",
       "      <td>1</td>\n",
       "      <td>19</td>\n",
       "      <td>0.789157</td>\n",
       "      <td>0.752336</td>\n",
       "      <td>0.036820</td>\n",
       "    </tr>\n",
       "    <tr>\n",
       "      <th>399</th>\n",
       "      <td>1</td>\n",
       "      <td>20</td>\n",
       "      <td>0.783133</td>\n",
       "      <td>0.771028</td>\n",
       "      <td>0.012104</td>\n",
       "    </tr>\n",
       "  </tbody>\n",
       "</table>\n",
       "<p>400 rows × 5 columns</p>\n",
       "</div>"
      ],
      "text/plain": [
       "     max_depth  min_leaves  train_accuracy  validate_accuracy  difference\n",
       "0           20           1        0.995984           0.803738    0.192246\n",
       "1           20           2        0.917671           0.817757    0.099914\n",
       "2           20           3        0.901606           0.827103    0.074504\n",
       "3           20           4        0.887550           0.808411    0.079139\n",
       "4           20           5        0.873494           0.808411    0.065083\n",
       "..         ...         ...             ...                ...         ...\n",
       "395          1          16        0.783133           0.757009    0.026123\n",
       "396          1          17        0.775100           0.752336    0.022764\n",
       "397          1          18        0.775100           0.757009    0.018091\n",
       "398          1          19        0.789157           0.752336    0.036820\n",
       "399          1          20        0.783133           0.771028    0.012104\n",
       "\n",
       "[400 rows x 5 columns]"
      ]
     },
     "execution_count": 58,
     "metadata": {},
     "output_type": "execute_result"
    }
   ],
   "source": [
    "# attempting to create lists that i can pack into a DF for easy comparison below\n",
    "# create an empty list to fill in the for loop\n",
    "\n",
    "# also, this for loop is creating a list of every possible min_samples_leaf for every max_depth\n",
    "        # in other words, 20 max_depths * 20 min_leaves\n",
    "\n",
    "\n",
    "metrics = []\n",
    "\n",
    "for i in range(20,0, -1):\n",
    "    for n in range(1, 21):\n",
    "        # Make the model\n",
    "        forest = RandomForestClassifier(max_depth=i, min_samples_leaf=n)#, random_state=123)\n",
    "\n",
    "        #why isn't the random_state argument working?\n",
    "\n",
    "        # Fit the model (on train and only train)\n",
    "        forest.fit(X_train, y_train)\n",
    "\n",
    "        # Use the model\n",
    "        # We'll evaluate the model's performance on train, first\n",
    "        in_sample_accuracy = forest.score(X_train, y_train)\n",
    "    \n",
    "        out_of_sample_accuracy = forest.score(X_validate, y_validate)\n",
    "\n",
    "        output = {\n",
    "            \"max_depth\": i,\n",
    "            \"min_leaves\": n,\n",
    "            \"train_accuracy\": in_sample_accuracy,\n",
    "            \"validate_accuracy\": out_of_sample_accuracy\n",
    "        }\n",
    "\n",
    "        metrics.append(output)\n",
    "\n",
    "df = pd.DataFrame(metrics)\n",
    "df[\"difference\"] = df.train_accuracy - df.validate_accuracy\n",
    "df"
   ]
  },
  {
   "cell_type": "code",
   "execution_count": 59,
   "id": "aa510da0",
   "metadata": {},
   "outputs": [
    {
     "data": {
      "image/png": "[encoded data removed]",
      "text/plain": [
       "<Figure size 1152x648 with 1 Axes>"
      ]
     },
     "metadata": {
      "needs_background": "light"
     },
     "output_type": "display_data"
    }
   ],
   "source": [
    "# df.set_index('max_depth').plot\n",
    "\n",
    "# review ravinder's graph here\n",
    "\n",
    "df.set_index('max_depth')[['train_accuracy', 'validate_accuracy','difference']].plot(figsize = (16,9))\n",
    "plt.ylabel('Accuracy')\n",
    "plt.xticks(np.arange(0,21,1))\n",
    "plt.grid()"
   ]
  },
  {
   "cell_type": "code",
   "execution_count": null,
   "id": "1e1924bd",
   "metadata": {},
   "outputs": [],
   "source": []
  },
  {
   "cell_type": "markdown",
   "id": "83563348",
   "metadata": {},
   "source": [
    "### 6. After making a few models, which one has the best performance (or closest metrics) on both train and validate?"
   ]
  },
  {
   "cell_type": "code",
   "execution_count": 60,
   "id": "8c8e7523",
   "metadata": {},
   "outputs": [
    {
     "data": {
      "text/html": [
       "<div>\n",
       "<style scoped>\n",
       "    .dataframe tbody tr th:only-of-type {\n",
       "        vertical-align: middle;\n",
       "    }\n",
       "\n",
       "    .dataframe tbody tr th {\n",
       "        vertical-align: top;\n",
       "    }\n",
       "\n",
       "    .dataframe thead th {\n",
       "        text-align: right;\n",
       "    }\n",
       "</style>\n",
       "<table border=\"1\" class=\"dataframe\">\n",
       "  <thead>\n",
       "    <tr style=\"text-align: right;\">\n",
       "      <th></th>\n",
       "      <th>max_depth</th>\n",
       "      <th>min_leaves</th>\n",
       "      <th>train_accuracy</th>\n",
       "      <th>validate_accuracy</th>\n",
       "      <th>difference</th>\n",
       "    </tr>\n",
       "  </thead>\n",
       "  <tbody>\n",
       "    <tr>\n",
       "      <th>161</th>\n",
       "      <td>12</td>\n",
       "      <td>2</td>\n",
       "      <td>0.921687</td>\n",
       "      <td>0.841121</td>\n",
       "      <td>0.080565</td>\n",
       "    </tr>\n",
       "    <tr>\n",
       "      <th>201</th>\n",
       "      <td>10</td>\n",
       "      <td>2</td>\n",
       "      <td>0.923695</td>\n",
       "      <td>0.841121</td>\n",
       "      <td>0.082573</td>\n",
       "    </tr>\n",
       "    <tr>\n",
       "      <th>61</th>\n",
       "      <td>17</td>\n",
       "      <td>2</td>\n",
       "      <td>0.921687</td>\n",
       "      <td>0.836449</td>\n",
       "      <td>0.085238</td>\n",
       "    </tr>\n",
       "    <tr>\n",
       "      <th>62</th>\n",
       "      <td>17</td>\n",
       "      <td>3</td>\n",
       "      <td>0.903614</td>\n",
       "      <td>0.831776</td>\n",
       "      <td>0.071839</td>\n",
       "    </tr>\n",
       "    <tr>\n",
       "      <th>260</th>\n",
       "      <td>7</td>\n",
       "      <td>1</td>\n",
       "      <td>0.925703</td>\n",
       "      <td>0.831776</td>\n",
       "      <td>0.093927</td>\n",
       "    </tr>\n",
       "    <tr>\n",
       "      <th>...</th>\n",
       "      <td>...</td>\n",
       "      <td>...</td>\n",
       "      <td>...</td>\n",
       "      <td>...</td>\n",
       "      <td>...</td>\n",
       "    </tr>\n",
       "    <tr>\n",
       "      <th>396</th>\n",
       "      <td>1</td>\n",
       "      <td>17</td>\n",
       "      <td>0.775100</td>\n",
       "      <td>0.752336</td>\n",
       "      <td>0.022764</td>\n",
       "    </tr>\n",
       "    <tr>\n",
       "      <th>389</th>\n",
       "      <td>1</td>\n",
       "      <td>10</td>\n",
       "      <td>0.787149</td>\n",
       "      <td>0.752336</td>\n",
       "      <td>0.034812</td>\n",
       "    </tr>\n",
       "    <tr>\n",
       "      <th>398</th>\n",
       "      <td>1</td>\n",
       "      <td>19</td>\n",
       "      <td>0.789157</td>\n",
       "      <td>0.752336</td>\n",
       "      <td>0.036820</td>\n",
       "    </tr>\n",
       "    <tr>\n",
       "      <th>279</th>\n",
       "      <td>7</td>\n",
       "      <td>20</td>\n",
       "      <td>0.811245</td>\n",
       "      <td>0.752336</td>\n",
       "      <td>0.058909</td>\n",
       "    </tr>\n",
       "    <tr>\n",
       "      <th>387</th>\n",
       "      <td>1</td>\n",
       "      <td>8</td>\n",
       "      <td>0.793173</td>\n",
       "      <td>0.747664</td>\n",
       "      <td>0.045509</td>\n",
       "    </tr>\n",
       "  </tbody>\n",
       "</table>\n",
       "<p>380 rows × 5 columns</p>\n",
       "</div>"
      ],
      "text/plain": [
       "     max_depth  min_leaves  train_accuracy  validate_accuracy  difference\n",
       "161         12           2        0.921687           0.841121    0.080565\n",
       "201         10           2        0.923695           0.841121    0.082573\n",
       "61          17           2        0.921687           0.836449    0.085238\n",
       "62          17           3        0.903614           0.831776    0.071839\n",
       "260          7           1        0.925703           0.831776    0.093927\n",
       "..         ...         ...             ...                ...         ...\n",
       "396          1          17        0.775100           0.752336    0.022764\n",
       "389          1          10        0.787149           0.752336    0.034812\n",
       "398          1          19        0.789157           0.752336    0.036820\n",
       "279          7          20        0.811245           0.752336    0.058909\n",
       "387          1           8        0.793173           0.747664    0.045509\n",
       "\n",
       "[380 rows x 5 columns]"
      ]
     },
     "execution_count": 60,
     "metadata": {},
     "output_type": "execute_result"
    }
   ],
   "source": [
    "df[df.difference <= 0.1].sort_values(by=['validate_accuracy', 'difference'], ascending = [False,True])"
   ]
  },
  {
   "cell_type": "markdown",
   "id": "02c54c04",
   "metadata": {},
   "source": [
    "# KNN EXERCISES"
   ]
  },
  {
   "cell_type": "markdown",
   "id": "86f82d97",
   "metadata": {},
   "source": [
    "### 1. Fit a K-Nearest Neighbors classifier to your training sample and transform (i.e. make predictions on the training sample)"
   ]
  },
  {
   "cell_type": "code",
   "execution_count": 61,
   "id": "21887801",
   "metadata": {},
   "outputs": [
    {
     "data": {
      "text/html": [
       "<div>\n",
       "<style scoped>\n",
       "    .dataframe tbody tr th:only-of-type {\n",
       "        vertical-align: middle;\n",
       "    }\n",
       "\n",
       "    .dataframe tbody tr th {\n",
       "        vertical-align: top;\n",
       "    }\n",
       "\n",
       "    .dataframe thead th {\n",
       "        text-align: right;\n",
       "    }\n",
       "</style>\n",
       "<table border=\"1\" class=\"dataframe\">\n",
       "  <thead>\n",
       "    <tr style=\"text-align: right;\">\n",
       "      <th></th>\n",
       "      <th>pclass</th>\n",
       "      <th>age</th>\n",
       "      <th>sibsp</th>\n",
       "      <th>parch</th>\n",
       "      <th>fare</th>\n",
       "      <th>alone</th>\n",
       "      <th>baseline_prediction</th>\n",
       "      <th>sex_male</th>\n",
       "      <th>embark_town_Queenstown</th>\n",
       "      <th>embark_town_Southampton</th>\n",
       "    </tr>\n",
       "  </thead>\n",
       "  <tbody>\n",
       "    <tr>\n",
       "      <th>583</th>\n",
       "      <td>1</td>\n",
       "      <td>36.000000</td>\n",
       "      <td>0</td>\n",
       "      <td>0</td>\n",
       "      <td>40.1250</td>\n",
       "      <td>1</td>\n",
       "      <td>0</td>\n",
       "      <td>1</td>\n",
       "      <td>0</td>\n",
       "      <td>0</td>\n",
       "    </tr>\n",
       "    <tr>\n",
       "      <th>165</th>\n",
       "      <td>3</td>\n",
       "      <td>9.000000</td>\n",
       "      <td>0</td>\n",
       "      <td>2</td>\n",
       "      <td>20.5250</td>\n",
       "      <td>0</td>\n",
       "      <td>0</td>\n",
       "      <td>1</td>\n",
       "      <td>0</td>\n",
       "      <td>1</td>\n",
       "    </tr>\n",
       "    <tr>\n",
       "      <th>50</th>\n",
       "      <td>3</td>\n",
       "      <td>7.000000</td>\n",
       "      <td>4</td>\n",
       "      <td>1</td>\n",
       "      <td>39.6875</td>\n",
       "      <td>0</td>\n",
       "      <td>0</td>\n",
       "      <td>1</td>\n",
       "      <td>0</td>\n",
       "      <td>1</td>\n",
       "    </tr>\n",
       "    <tr>\n",
       "      <th>259</th>\n",
       "      <td>2</td>\n",
       "      <td>50.000000</td>\n",
       "      <td>0</td>\n",
       "      <td>1</td>\n",
       "      <td>26.0000</td>\n",
       "      <td>0</td>\n",
       "      <td>0</td>\n",
       "      <td>0</td>\n",
       "      <td>0</td>\n",
       "      <td>1</td>\n",
       "    </tr>\n",
       "    <tr>\n",
       "      <th>306</th>\n",
       "      <td>1</td>\n",
       "      <td>29.678105</td>\n",
       "      <td>0</td>\n",
       "      <td>0</td>\n",
       "      <td>110.8833</td>\n",
       "      <td>1</td>\n",
       "      <td>0</td>\n",
       "      <td>0</td>\n",
       "      <td>0</td>\n",
       "      <td>0</td>\n",
       "    </tr>\n",
       "  </tbody>\n",
       "</table>\n",
       "</div>"
      ],
      "text/plain": [
       "     pclass        age  sibsp  parch      fare  alone  baseline_prediction  \\\n",
       "583       1  36.000000      0      0   40.1250      1                    0   \n",
       "165       3   9.000000      0      2   20.5250      0                    0   \n",
       "50        3   7.000000      4      1   39.6875      0                    0   \n",
       "259       2  50.000000      0      1   26.0000      0                    0   \n",
       "306       1  29.678105      0      0  110.8833      1                    0   \n",
       "\n",
       "     sex_male  embark_town_Queenstown  embark_town_Southampton  \n",
       "583         1                       0                        0  \n",
       "165         1                       0                        1  \n",
       "50          1                       0                        1  \n",
       "259         0                       0                        1  \n",
       "306         0                       0                        0  "
      ]
     },
     "execution_count": 61,
     "metadata": {},
     "output_type": "execute_result"
    }
   ],
   "source": [
    "X_train.head()"
   ]
  },
  {
   "cell_type": "code",
   "execution_count": 62,
   "id": "1ea11c23",
   "metadata": {},
   "outputs": [],
   "source": [
    "from sklearn.neighbors import KNeighborsClassifier\n",
    "\n"
   ]
  },
  {
   "cell_type": "code",
   "execution_count": 63,
   "id": "366c3d99",
   "metadata": {},
   "outputs": [],
   "source": [
    "#per Adam's lecture, we're getting rid of encoded columns here\n",
    "\n",
    "x_cols = ['pclass', 'age', 'alone', 'fare']\n",
    "y_col = 'survived'\n",
    "\n",
    "X_train, y_train = train[x_cols], train[y_col]\n",
    "X_validate, y_validate = validate[x_cols], validate[y_col]\n",
    "X_test, y_test = test[x_cols], test[y_col]"
   ]
  },
  {
   "cell_type": "code",
   "execution_count": 64,
   "id": "134f6eae",
   "metadata": {},
   "outputs": [
    {
     "data": {
      "text/html": [
       "<div>\n",
       "<style scoped>\n",
       "    .dataframe tbody tr th:only-of-type {\n",
       "        vertical-align: middle;\n",
       "    }\n",
       "\n",
       "    .dataframe tbody tr th {\n",
       "        vertical-align: top;\n",
       "    }\n",
       "\n",
       "    .dataframe thead th {\n",
       "        text-align: right;\n",
       "    }\n",
       "</style>\n",
       "<table border=\"1\" class=\"dataframe\">\n",
       "  <thead>\n",
       "    <tr style=\"text-align: right;\">\n",
       "      <th></th>\n",
       "      <th>pclass</th>\n",
       "      <th>age</th>\n",
       "      <th>alone</th>\n",
       "      <th>fare</th>\n",
       "    </tr>\n",
       "  </thead>\n",
       "  <tbody>\n",
       "    <tr>\n",
       "      <th>583</th>\n",
       "      <td>1</td>\n",
       "      <td>36.000000</td>\n",
       "      <td>1</td>\n",
       "      <td>40.1250</td>\n",
       "    </tr>\n",
       "    <tr>\n",
       "      <th>165</th>\n",
       "      <td>3</td>\n",
       "      <td>9.000000</td>\n",
       "      <td>0</td>\n",
       "      <td>20.5250</td>\n",
       "    </tr>\n",
       "    <tr>\n",
       "      <th>50</th>\n",
       "      <td>3</td>\n",
       "      <td>7.000000</td>\n",
       "      <td>0</td>\n",
       "      <td>39.6875</td>\n",
       "    </tr>\n",
       "    <tr>\n",
       "      <th>259</th>\n",
       "      <td>2</td>\n",
       "      <td>50.000000</td>\n",
       "      <td>0</td>\n",
       "      <td>26.0000</td>\n",
       "    </tr>\n",
       "    <tr>\n",
       "      <th>306</th>\n",
       "      <td>1</td>\n",
       "      <td>29.678105</td>\n",
       "      <td>1</td>\n",
       "      <td>110.8833</td>\n",
       "    </tr>\n",
       "  </tbody>\n",
       "</table>\n",
       "</div>"
      ],
      "text/plain": [
       "     pclass        age  alone      fare\n",
       "583       1  36.000000      1   40.1250\n",
       "165       3   9.000000      0   20.5250\n",
       "50        3   7.000000      0   39.6875\n",
       "259       2  50.000000      0   26.0000\n",
       "306       1  29.678105      1  110.8833"
      ]
     },
     "execution_count": 64,
     "metadata": {},
     "output_type": "execute_result"
    }
   ],
   "source": [
    "X_train.head()"
   ]
  },
  {
   "cell_type": "code",
   "execution_count": 65,
   "id": "107c3e17",
   "metadata": {},
   "outputs": [],
   "source": [
    "knn = KNeighborsClassifier(n_neighbors=1, weights='uniform')"
   ]
  },
  {
   "cell_type": "code",
   "execution_count": 66,
   "id": "3eebfa84",
   "metadata": {},
   "outputs": [
    {
     "data": {
      "text/plain": [
       "KNeighborsClassifier(n_neighbors=1)"
      ]
     },
     "execution_count": 66,
     "metadata": {},
     "output_type": "execute_result"
    }
   ],
   "source": [
    "knn.fit(X_train,y_train)"
   ]
  },
  {
   "cell_type": "code",
   "execution_count": 67,
   "id": "0eebb934",
   "metadata": {},
   "outputs": [
    {
     "data": {
      "text/plain": [
       "array([0, 1, 0, 1, 1])"
      ]
     },
     "execution_count": 67,
     "metadata": {},
     "output_type": "execute_result"
    }
   ],
   "source": [
    "y_pred = knn.predict(X_train)\n",
    "y_pred[0:5]"
   ]
  },
  {
   "cell_type": "code",
   "execution_count": 68,
   "id": "b647adc5",
   "metadata": {},
   "outputs": [
    {
     "data": {
      "text/plain": [
       "(array([0, 1]),\n",
       " array([[1., 0.],\n",
       "        [0., 1.],\n",
       "        [1., 0.],\n",
       "        [0., 1.],\n",
       "        [0., 1.],\n",
       "        [1., 0.],\n",
       "        [1., 0.],\n",
       "        [1., 0.],\n",
       "        [0., 1.],\n",
       "        [1., 0.]]))"
      ]
     },
     "execution_count": 68,
     "metadata": {},
     "output_type": "execute_result"
    }
   ],
   "source": [
    "y_pred_proba = knn.predict_proba(X_train)\n",
    "knn.classes_, y_pred_proba[0:10]"
   ]
  },
  {
   "cell_type": "markdown",
   "id": "3d4085ff",
   "metadata": {},
   "source": [
    "### 2. Evaluate your results using the model score, confusion matrix, and classification report."
   ]
  },
  {
   "cell_type": "code",
   "execution_count": 69,
   "id": "1522de11",
   "metadata": {},
   "outputs": [
    {
     "name": "stdout",
     "output_type": "stream",
     "text": [
      "Accuracy of KNN classifier on training set: 0.97\n"
     ]
    }
   ],
   "source": [
    "print('Accuracy of KNN classifier on training set: {:.2f}'\n",
    "     .format(knn.score(X_train, y_train)))"
   ]
  },
  {
   "cell_type": "code",
   "execution_count": 70,
   "id": "f4c822a4",
   "metadata": {},
   "outputs": [
    {
     "name": "stdout",
     "output_type": "stream",
     "text": [
      "[[300   7]\n",
      " [  6 185]]\n"
     ]
    }
   ],
   "source": [
    "# confusion matrix - actual on left, predicted on top\n",
    "\n",
    "# 0 = 'perished', 1= 'survived'\n",
    "\n",
    "print(confusion_matrix(y_train, y_pred))\n",
    "\n",
    "# do a crosstab with a pd. here"
   ]
  },
  {
   "cell_type": "code",
   "execution_count": 71,
   "id": "d5a030d8",
   "metadata": {},
   "outputs": [
    {
     "name": "stdout",
     "output_type": "stream",
     "text": [
      "              precision    recall  f1-score   support\n",
      "\n",
      "           0       0.98      0.98      0.98       307\n",
      "           1       0.96      0.97      0.97       191\n",
      "\n",
      "    accuracy                           0.97       498\n",
      "   macro avg       0.97      0.97      0.97       498\n",
      "weighted avg       0.97      0.97      0.97       498\n",
      "\n"
     ]
    }
   ],
   "source": [
    "print(classification_report(y_train, y_pred))"
   ]
  },
  {
   "cell_type": "markdown",
   "id": "5b6d8c7c",
   "metadata": {},
   "source": [
    "### 3. Print and clearly label the following: Accuracy, true positive rate, false positive rate, true negative rate, false negative rate, precision, recall, f1-score, and support."
   ]
  },
  {
   "cell_type": "code",
   "execution_count": 72,
   "id": "bc38d0b1",
   "metadata": {},
   "outputs": [
    {
     "data": {
      "text/plain": [
       "(300, 7, 6, 185)"
      ]
     },
     "execution_count": 72,
     "metadata": {},
     "output_type": "execute_result"
    }
   ],
   "source": [
    "# i love this: check out the .ravel function\n",
    "\n",
    "TN, FP, FN, TP = confusion_matrix(y_train,y_pred).ravel()\n",
    "ALL = TP + TN + FP + FN\n",
    "\n",
    "TN, FP, FN, TP \n",
    "\n",
    "# also, adam has flipped this around so that '1' = 'survived'"
   ]
  },
  {
   "cell_type": "code",
   "execution_count": 73,
   "id": "cc2d0cde",
   "metadata": {},
   "outputs": [
    {
     "name": "stdout",
     "output_type": "stream",
     "text": [
      "Accuracy: 0.9738955823293173\n",
      "True Positive Rate: 0.9685863874345549\n",
      "False Positive Rate: 0.02280130293159609\n",
      "True Negative Rate: 0.9771986970684039\n",
      "False Negative Rate: 0.031413612565445025\n",
      "Precision: 0.9635416666666666\n",
      "Recall: 0.9685863874345549\n",
      "F1 Score: 0.9660574412532636\n",
      "Support (0): 191\n",
      "Support (1): 307\n"
     ]
    }
   ],
   "source": [
    "# check out the .ravel function of confusion_matrix()\n",
    "\n",
    "\n",
    "accuracy = (TP + TN)/ALL\n",
    "print(f\"Accuracy: {accuracy}\")\n",
    "\n",
    "true_positive_rate = TP/(TP+FN)\n",
    "print(f\"True Positive Rate: {true_positive_rate}\")\n",
    "\n",
    "false_positive_rate = FP/(FP+TN)\n",
    "print(f\"False Positive Rate: {false_positive_rate}\")\n",
    "\n",
    "true_negative_rate = TN/(TN+FP)\n",
    "print(f\"True Negative Rate: {true_negative_rate}\")\n",
    "\n",
    "false_negative_rate = FN/(FN+TP)\n",
    "print(f\"False Negative Rate: {false_negative_rate}\")\n",
    "\n",
    "precision = TP/(TP+FP)\n",
    "print(f\"Precision: {precision}\")\n",
    "\n",
    "recall = TP/(TP+FN)\n",
    "print(f\"Recall: {recall}\")\n",
    "\n",
    "f1_score = 2*(precision*recall)/(precision+recall)\n",
    "print(f\"F1 Score: {f1_score}\")\n",
    "\n",
    "support_pos = TP + FN\n",
    "print(f\"Support (0): {support_pos}\")\n",
    "\n",
    "support_neg = FP + TN\n",
    "print(f\"Support (1): {support_neg}\")"
   ]
  },
  {
   "cell_type": "code",
   "execution_count": null,
   "id": "eeed28ac",
   "metadata": {},
   "outputs": [],
   "source": []
  },
  {
   "cell_type": "code",
   "execution_count": null,
   "id": "e793cb50",
   "metadata": {},
   "outputs": [],
   "source": []
  },
  {
   "cell_type": "code",
   "execution_count": null,
   "id": "adab1f99",
   "metadata": {},
   "outputs": [],
   "source": []
  },
  {
   "cell_type": "markdown",
   "id": "826c83cd",
   "metadata": {},
   "source": [
    "### Run through steps 2-4 setting k to 10"
   ]
  },
  {
   "cell_type": "code",
   "execution_count": 74,
   "id": "e748d4d3",
   "metadata": {},
   "outputs": [
    {
     "data": {
      "text/plain": [
       "KNeighborsClassifier(n_neighbors=10)"
      ]
     },
     "execution_count": 74,
     "metadata": {},
     "output_type": "execute_result"
    }
   ],
   "source": [
    "knn = KNeighborsClassifier(n_neighbors=10, weights='uniform')\n",
    "knn.fit(X_train,y_train)"
   ]
  },
  {
   "cell_type": "code",
   "execution_count": 75,
   "id": "45921c3e",
   "metadata": {},
   "outputs": [
    {
     "data": {
      "text/plain": [
       "array([1, 1, 0, 0, 1])"
      ]
     },
     "execution_count": 75,
     "metadata": {},
     "output_type": "execute_result"
    }
   ],
   "source": [
    "y_pred = knn.predict(X_train)\n",
    "y_pred[0:5]"
   ]
  },
  {
   "cell_type": "code",
   "execution_count": 76,
   "id": "fada12a1",
   "metadata": {},
   "outputs": [
    {
     "data": {
      "text/plain": [
       "(array([0, 1]),\n",
       " array([[0.4, 0.6],\n",
       "        [0.4, 0.6],\n",
       "        [0.6, 0.4],\n",
       "        [0.5, 0.5],\n",
       "        [0.2, 0.8],\n",
       "        [0.6, 0.4],\n",
       "        [0.5, 0.5],\n",
       "        [0.6, 0.4],\n",
       "        [0.5, 0.5],\n",
       "        [0.8, 0.2]]))"
      ]
     },
     "execution_count": 76,
     "metadata": {},
     "output_type": "execute_result"
    }
   ],
   "source": [
    "y_pred_proba = knn.predict_proba(X_train)\n",
    "knn.classes_, y_pred_proba[0:10]"
   ]
  },
  {
   "cell_type": "code",
   "execution_count": 77,
   "id": "c17420d6",
   "metadata": {},
   "outputs": [
    {
     "name": "stdout",
     "output_type": "stream",
     "text": [
      "Accuracy of KNN classifier on training set: 0.72\n"
     ]
    }
   ],
   "source": [
    "print('Accuracy of KNN classifier on training set: {:.2f}'\n",
    "     .format(knn.score(X_train, y_train)))"
   ]
  },
  {
   "cell_type": "code",
   "execution_count": 78,
   "id": "659b8eab",
   "metadata": {},
   "outputs": [
    {
     "name": "stdout",
     "output_type": "stream",
     "text": [
      "[[275  32]\n",
      " [106  85]]\n"
     ]
    }
   ],
   "source": [
    "# confusion matrix - actual on left, predicted on top\n",
    "\n",
    "# 0 = 'perished', 1= 'survived'\n",
    "\n",
    "print(confusion_matrix(y_train, y_pred))"
   ]
  },
  {
   "cell_type": "code",
   "execution_count": 79,
   "id": "7f02a82c",
   "metadata": {},
   "outputs": [
    {
     "name": "stdout",
     "output_type": "stream",
     "text": [
      "              precision    recall  f1-score   support\n",
      "\n",
      "           0       0.72      0.90      0.80       307\n",
      "           1       0.73      0.45      0.55       191\n",
      "\n",
      "    accuracy                           0.72       498\n",
      "   macro avg       0.72      0.67      0.68       498\n",
      "weighted avg       0.72      0.72      0.70       498\n",
      "\n"
     ]
    }
   ],
   "source": [
    "print(classification_report(y_train, y_pred))"
   ]
  },
  {
   "cell_type": "markdown",
   "id": "843fd981",
   "metadata": {},
   "source": [
    "### Run through setps 2-4 setting k to 20"
   ]
  },
  {
   "cell_type": "code",
   "execution_count": 80,
   "id": "2c237dd2",
   "metadata": {},
   "outputs": [
    {
     "data": {
      "text/plain": [
       "KNeighborsClassifier(n_neighbors=20)"
      ]
     },
     "execution_count": 80,
     "metadata": {},
     "output_type": "execute_result"
    }
   ],
   "source": [
    "knn = KNeighborsClassifier(n_neighbors=20, weights='uniform')\n",
    "knn.fit(X_train,y_train)"
   ]
  },
  {
   "cell_type": "code",
   "execution_count": 81,
   "id": "74a622e4",
   "metadata": {},
   "outputs": [
    {
     "data": {
      "text/plain": [
       "array([0, 1, 0, 0, 1])"
      ]
     },
     "execution_count": 81,
     "metadata": {},
     "output_type": "execute_result"
    }
   ],
   "source": [
    "y_pred = knn.predict(X_train)\n",
    "y_pred[0:5]"
   ]
  },
  {
   "cell_type": "code",
   "execution_count": 82,
   "id": "4179c742",
   "metadata": {},
   "outputs": [
    {
     "data": {
      "text/plain": [
       "(array([0, 1]),\n",
       " array([[0.55, 0.45],\n",
       "        [0.4 , 0.6 ],\n",
       "        [0.6 , 0.4 ],\n",
       "        [0.6 , 0.4 ],\n",
       "        [0.3 , 0.7 ],\n",
       "        [0.55, 0.45],\n",
       "        [0.55, 0.45],\n",
       "        [0.65, 0.35],\n",
       "        [0.45, 0.55],\n",
       "        [0.6 , 0.4 ]]))"
      ]
     },
     "execution_count": 82,
     "metadata": {},
     "output_type": "execute_result"
    }
   ],
   "source": [
    "y_pred_proba = knn.predict_proba(X_train)\n",
    "knn.classes_, y_pred_proba[0:10]"
   ]
  },
  {
   "cell_type": "code",
   "execution_count": 83,
   "id": "ecf01ac1",
   "metadata": {},
   "outputs": [
    {
     "name": "stdout",
     "output_type": "stream",
     "text": [
      "Accuracy of KNN classifier on training set: 0.71\n"
     ]
    }
   ],
   "source": [
    "print('Accuracy of KNN classifier on training set: {:.2f}'\n",
    "     .format(knn.score(X_train, y_train)))"
   ]
  },
  {
   "cell_type": "code",
   "execution_count": 84,
   "id": "4eedc074",
   "metadata": {},
   "outputs": [
    {
     "name": "stdout",
     "output_type": "stream",
     "text": [
      "[[272  35]\n",
      " [110  81]]\n"
     ]
    }
   ],
   "source": [
    "# confusion matrix - actual on left, predicted on top\n",
    "\n",
    "# 0 = 'perished', 1= 'survived'\n",
    "\n",
    "print(confusion_matrix(y_train, y_pred))"
   ]
  },
  {
   "cell_type": "code",
   "execution_count": 85,
   "id": "225ba745",
   "metadata": {},
   "outputs": [
    {
     "name": "stdout",
     "output_type": "stream",
     "text": [
      "              precision    recall  f1-score   support\n",
      "\n",
      "           0       0.71      0.89      0.79       307\n",
      "           1       0.70      0.42      0.53       191\n",
      "\n",
      "    accuracy                           0.71       498\n",
      "   macro avg       0.71      0.66      0.66       498\n",
      "weighted avg       0.71      0.71      0.69       498\n",
      "\n"
     ]
    }
   ],
   "source": [
    "print(classification_report(y_train, y_pred))"
   ]
  },
  {
   "cell_type": "markdown",
   "id": "0982316d",
   "metadata": {},
   "source": [
    "### What are the differences in the evaluation metrics? Which performs better on your in-sample data? Why?"
   ]
  },
  {
   "cell_type": "markdown",
   "id": "6e1c9913",
   "metadata": {},
   "source": [
    "- as the number of neighbors goes up, the accuracy goes down.  This must be bc as the neighbors increase,\n",
    "- the estimated value of the target becomes closer to the mean of the whole set"
   ]
  },
  {
   "cell_type": "code",
   "execution_count": null,
   "id": "3286ff91",
   "metadata": {},
   "outputs": [],
   "source": []
  },
  {
   "cell_type": "markdown",
   "id": "d4e82c28",
   "metadata": {},
   "source": [
    "### Which model performs best on our out-of-sample data from validate?"
   ]
  },
  {
   "cell_type": "code",
   "execution_count": 86,
   "id": "93b2dae5",
   "metadata": {},
   "outputs": [
    {
     "data": {
      "image/png": "[encoded data removed]",
      "text/plain": [
       "<Figure size 1152x648 with 1 Axes>"
      ]
     },
     "metadata": {
      "needs_background": "light"
     },
     "output_type": "display_data"
    }
   ],
   "source": [
    "metrics = []\n",
    "\n",
    "for i in range(1,21):\n",
    "    # Make the model\n",
    "    knn = KNeighborsClassifier(n_neighbors=i, weights='uniform')\n",
    "\n",
    "\n",
    "    # Fit the model (on train and only train)\n",
    "    knn.fit(X_train, y_train)\n",
    "\n",
    "    # We'll evaluate the model's performance on train and validate\n",
    "    train_accuracy = knn.score(X_train, y_train)\n",
    "    validate_accuracy = knn.score(X_validate, y_validate)\n",
    "\n",
    "    output = {\n",
    "        \"i\": i,\n",
    "        \"train_accuracy\": train_accuracy,\n",
    "        \"validate_accuracy\": validate_accuracy\n",
    "    }\n",
    "    \n",
    "    metrics.append(output)\n",
    "    # Produce the classification report on the actual y values and this model's predicted y values\n",
    "results = pd.DataFrame(metrics)\n",
    "    \n",
    "# plot it\n",
    "results.set_index('i').plot(figsize = (16,9))\n",
    "plt.ylabel('accuracy')\n",
    "plt.xticks(np.arange(0,21,1))\n",
    "plt.grid()"
   ]
  },
  {
   "cell_type": "code",
   "execution_count": 87,
   "id": "def7d4b0",
   "metadata": {},
   "outputs": [],
   "source": [
    "# 1 neighbor got us to 99% accuracy.  Is this overfit? sounds like it, from review"
   ]
  },
  {
   "cell_type": "markdown",
   "id": "4316508e",
   "metadata": {},
   "source": [
    "# In these exercises, we'll continue working with the titanic dataset and building logistic regression models. \n",
    "- Throughout this exercise, be sure you are training, evaluation, and comparing models on the train and validate datasets. The test dataset should only be used for your final model."
   ]
  },
  {
   "cell_type": "markdown",
   "id": "f9319d62",
   "metadata": {},
   "source": [
    "### For all of the models you create, choose a threshold that optimizes for accuracy."
   ]
  },
  {
   "cell_type": "code",
   "execution_count": 88,
   "id": "75f12d73",
   "metadata": {},
   "outputs": [
    {
     "data": {
      "text/html": [
       "<div>\n",
       "<style scoped>\n",
       "    .dataframe tbody tr th:only-of-type {\n",
       "        vertical-align: middle;\n",
       "    }\n",
       "\n",
       "    .dataframe tbody tr th {\n",
       "        vertical-align: top;\n",
       "    }\n",
       "\n",
       "    .dataframe thead th {\n",
       "        text-align: right;\n",
       "    }\n",
       "</style>\n",
       "<table border=\"1\" class=\"dataframe\">\n",
       "  <thead>\n",
       "    <tr style=\"text-align: right;\">\n",
       "      <th></th>\n",
       "      <th>passenger_id</th>\n",
       "      <th>survived</th>\n",
       "      <th>pclass</th>\n",
       "      <th>sex</th>\n",
       "      <th>age</th>\n",
       "      <th>sibsp</th>\n",
       "      <th>parch</th>\n",
       "      <th>fare</th>\n",
       "      <th>embark_town</th>\n",
       "      <th>alone</th>\n",
       "      <th>baseline_prediction</th>\n",
       "      <th>sex_male</th>\n",
       "      <th>embark_town_Queenstown</th>\n",
       "      <th>embark_town_Southampton</th>\n",
       "    </tr>\n",
       "  </thead>\n",
       "  <tbody>\n",
       "    <tr>\n",
       "      <th>583</th>\n",
       "      <td>583</td>\n",
       "      <td>0</td>\n",
       "      <td>1</td>\n",
       "      <td>male</td>\n",
       "      <td>36.000000</td>\n",
       "      <td>0</td>\n",
       "      <td>0</td>\n",
       "      <td>40.1250</td>\n",
       "      <td>Cherbourg</td>\n",
       "      <td>1</td>\n",
       "      <td>0</td>\n",
       "      <td>1</td>\n",
       "      <td>0</td>\n",
       "      <td>0</td>\n",
       "    </tr>\n",
       "    <tr>\n",
       "      <th>165</th>\n",
       "      <td>165</td>\n",
       "      <td>1</td>\n",
       "      <td>3</td>\n",
       "      <td>male</td>\n",
       "      <td>9.000000</td>\n",
       "      <td>0</td>\n",
       "      <td>2</td>\n",
       "      <td>20.5250</td>\n",
       "      <td>Southampton</td>\n",
       "      <td>0</td>\n",
       "      <td>0</td>\n",
       "      <td>1</td>\n",
       "      <td>0</td>\n",
       "      <td>1</td>\n",
       "    </tr>\n",
       "    <tr>\n",
       "      <th>50</th>\n",
       "      <td>50</td>\n",
       "      <td>0</td>\n",
       "      <td>3</td>\n",
       "      <td>male</td>\n",
       "      <td>7.000000</td>\n",
       "      <td>4</td>\n",
       "      <td>1</td>\n",
       "      <td>39.6875</td>\n",
       "      <td>Southampton</td>\n",
       "      <td>0</td>\n",
       "      <td>0</td>\n",
       "      <td>1</td>\n",
       "      <td>0</td>\n",
       "      <td>1</td>\n",
       "    </tr>\n",
       "    <tr>\n",
       "      <th>259</th>\n",
       "      <td>259</td>\n",
       "      <td>1</td>\n",
       "      <td>2</td>\n",
       "      <td>female</td>\n",
       "      <td>50.000000</td>\n",
       "      <td>0</td>\n",
       "      <td>1</td>\n",
       "      <td>26.0000</td>\n",
       "      <td>Southampton</td>\n",
       "      <td>0</td>\n",
       "      <td>0</td>\n",
       "      <td>0</td>\n",
       "      <td>0</td>\n",
       "      <td>1</td>\n",
       "    </tr>\n",
       "    <tr>\n",
       "      <th>306</th>\n",
       "      <td>306</td>\n",
       "      <td>1</td>\n",
       "      <td>1</td>\n",
       "      <td>female</td>\n",
       "      <td>29.678105</td>\n",
       "      <td>0</td>\n",
       "      <td>0</td>\n",
       "      <td>110.8833</td>\n",
       "      <td>Cherbourg</td>\n",
       "      <td>1</td>\n",
       "      <td>0</td>\n",
       "      <td>0</td>\n",
       "      <td>0</td>\n",
       "      <td>0</td>\n",
       "    </tr>\n",
       "  </tbody>\n",
       "</table>\n",
       "</div>"
      ],
      "text/plain": [
       "     passenger_id  survived  pclass     sex        age  sibsp  parch  \\\n",
       "583           583         0       1    male  36.000000      0      0   \n",
       "165           165         1       3    male   9.000000      0      2   \n",
       "50             50         0       3    male   7.000000      4      1   \n",
       "259           259         1       2  female  50.000000      0      1   \n",
       "306           306         1       1  female  29.678105      0      0   \n",
       "\n",
       "         fare  embark_town  alone  baseline_prediction  sex_male  \\\n",
       "583   40.1250    Cherbourg      1                    0         1   \n",
       "165   20.5250  Southampton      0                    0         1   \n",
       "50    39.6875  Southampton      0                    0         1   \n",
       "259   26.0000  Southampton      0                    0         0   \n",
       "306  110.8833    Cherbourg      1                    0         0   \n",
       "\n",
       "     embark_town_Queenstown  embark_town_Southampton  \n",
       "583                       0                        0  \n",
       "165                       0                        1  \n",
       "50                        0                        1  \n",
       "259                       0                        1  \n",
       "306                       0                        0  "
      ]
     },
     "execution_count": 88,
     "metadata": {},
     "output_type": "execute_result"
    }
   ],
   "source": [
    "train.head()\n"
   ]
  },
  {
   "cell_type": "code",
   "execution_count": 89,
   "id": "06c20fb9",
   "metadata": {},
   "outputs": [],
   "source": [
    "# the string features were causing problems with the DecisionTreeClassifier\n",
    "X_train = train.drop(columns=['survived', 'sex','passenger_id', 'embark_town'])\n",
    "y_train = train.survived\n",
    "\n",
    "X_validate = validate.drop(columns=['survived', 'sex','passenger_id','embark_town'])\n",
    "y_validate = validate.survived\n",
    "\n",
    "X_test = test.drop(columns=['survived'])\n",
    "y_test = test.survived"
   ]
  },
  {
   "cell_type": "code",
   "execution_count": 90,
   "id": "eacfa2eb",
   "metadata": {},
   "outputs": [
    {
     "data": {
      "text/html": [
       "<div>\n",
       "<style scoped>\n",
       "    .dataframe tbody tr th:only-of-type {\n",
       "        vertical-align: middle;\n",
       "    }\n",
       "\n",
       "    .dataframe tbody tr th {\n",
       "        vertical-align: top;\n",
       "    }\n",
       "\n",
       "    .dataframe thead th {\n",
       "        text-align: right;\n",
       "    }\n",
       "</style>\n",
       "<table border=\"1\" class=\"dataframe\">\n",
       "  <thead>\n",
       "    <tr style=\"text-align: right;\">\n",
       "      <th></th>\n",
       "      <th>pclass</th>\n",
       "      <th>age</th>\n",
       "      <th>sibsp</th>\n",
       "      <th>parch</th>\n",
       "      <th>fare</th>\n",
       "      <th>alone</th>\n",
       "      <th>baseline_prediction</th>\n",
       "      <th>sex_male</th>\n",
       "      <th>embark_town_Queenstown</th>\n",
       "      <th>embark_town_Southampton</th>\n",
       "    </tr>\n",
       "  </thead>\n",
       "  <tbody>\n",
       "    <tr>\n",
       "      <th>583</th>\n",
       "      <td>1</td>\n",
       "      <td>36.000000</td>\n",
       "      <td>0</td>\n",
       "      <td>0</td>\n",
       "      <td>40.1250</td>\n",
       "      <td>1</td>\n",
       "      <td>0</td>\n",
       "      <td>1</td>\n",
       "      <td>0</td>\n",
       "      <td>0</td>\n",
       "    </tr>\n",
       "    <tr>\n",
       "      <th>165</th>\n",
       "      <td>3</td>\n",
       "      <td>9.000000</td>\n",
       "      <td>0</td>\n",
       "      <td>2</td>\n",
       "      <td>20.5250</td>\n",
       "      <td>0</td>\n",
       "      <td>0</td>\n",
       "      <td>1</td>\n",
       "      <td>0</td>\n",
       "      <td>1</td>\n",
       "    </tr>\n",
       "    <tr>\n",
       "      <th>50</th>\n",
       "      <td>3</td>\n",
       "      <td>7.000000</td>\n",
       "      <td>4</td>\n",
       "      <td>1</td>\n",
       "      <td>39.6875</td>\n",
       "      <td>0</td>\n",
       "      <td>0</td>\n",
       "      <td>1</td>\n",
       "      <td>0</td>\n",
       "      <td>1</td>\n",
       "    </tr>\n",
       "    <tr>\n",
       "      <th>259</th>\n",
       "      <td>2</td>\n",
       "      <td>50.000000</td>\n",
       "      <td>0</td>\n",
       "      <td>1</td>\n",
       "      <td>26.0000</td>\n",
       "      <td>0</td>\n",
       "      <td>0</td>\n",
       "      <td>0</td>\n",
       "      <td>0</td>\n",
       "      <td>1</td>\n",
       "    </tr>\n",
       "    <tr>\n",
       "      <th>306</th>\n",
       "      <td>1</td>\n",
       "      <td>29.678105</td>\n",
       "      <td>0</td>\n",
       "      <td>0</td>\n",
       "      <td>110.8833</td>\n",
       "      <td>1</td>\n",
       "      <td>0</td>\n",
       "      <td>0</td>\n",
       "      <td>0</td>\n",
       "      <td>0</td>\n",
       "    </tr>\n",
       "  </tbody>\n",
       "</table>\n",
       "</div>"
      ],
      "text/plain": [
       "     pclass        age  sibsp  parch      fare  alone  baseline_prediction  \\\n",
       "583       1  36.000000      0      0   40.1250      1                    0   \n",
       "165       3   9.000000      0      2   20.5250      0                    0   \n",
       "50        3   7.000000      4      1   39.6875      0                    0   \n",
       "259       2  50.000000      0      1   26.0000      0                    0   \n",
       "306       1  29.678105      0      0  110.8833      1                    0   \n",
       "\n",
       "     sex_male  embark_town_Queenstown  embark_town_Southampton  \n",
       "583         1                       0                        0  \n",
       "165         1                       0                        1  \n",
       "50          1                       0                        1  \n",
       "259         0                       0                        1  \n",
       "306         0                       0                        0  "
      ]
     },
     "execution_count": 90,
     "metadata": {},
     "output_type": "execute_result"
    }
   ],
   "source": [
    "X_train.head()"
   ]
  },
  {
   "cell_type": "code",
   "execution_count": 91,
   "id": "474721e3",
   "metadata": {},
   "outputs": [],
   "source": [
    "#i'm going to hold off on doing a 'for' loop for the moment.  issues with range and step: we want to start \n",
    "# at .1 and go up to as high as 1000"
   ]
  },
  {
   "cell_type": "code",
   "execution_count": 92,
   "id": "725e1750",
   "metadata": {},
   "outputs": [
    {
     "data": {
      "text/plain": [
       "LogisticRegression(C=100)"
      ]
     },
     "execution_count": 92,
     "metadata": {},
     "output_type": "execute_result"
    }
   ],
   "source": [
    "# Define the logistic regression model\n",
    "logit = LogisticRegression(C=100)\n",
    "#  fit the model on train data\n",
    "logit.fit(X_train, y_train)"
   ]
  },
  {
   "cell_type": "code",
   "execution_count": 93,
   "id": "16b60d0d",
   "metadata": {},
   "outputs": [
    {
     "data": {
      "text/plain": [
       "array([0, 0, 0, 1, 1, 0, 0, 0, 0, 0])"
      ]
     },
     "execution_count": 93,
     "metadata": {},
     "output_type": "execute_result"
    }
   ],
   "source": [
    "# now use the model to make predictions\n",
    "y_pred = logit.predict(X_train)\n",
    "y_pred[0:10]"
   ]
  },
  {
   "cell_type": "code",
   "execution_count": 94,
   "id": "b9f35316",
   "metadata": {},
   "outputs": [
    {
     "data": {
      "text/plain": [
       "array([[0.67330125, 0.32669875],\n",
       "       [0.81448394, 0.18551606],\n",
       "       [0.97206272, 0.02793728],\n",
       "       [0.1889842 , 0.8110158 ],\n",
       "       [0.05591758, 0.94408242],\n",
       "       [0.88012475, 0.11987525],\n",
       "       [0.88268063, 0.11731937],\n",
       "       [0.7571255 , 0.2428745 ],\n",
       "       [0.89006013, 0.10993987],\n",
       "       [0.9743272 , 0.0256728 ]])"
      ]
     },
     "execution_count": 94,
     "metadata": {},
     "output_type": "execute_result"
    }
   ],
   "source": [
    "logit.predict_proba(X_train)[0:10]"
   ]
  },
  {
   "cell_type": "code",
   "execution_count": 95,
   "id": "5ec91289",
   "metadata": {
    "scrolled": true
   },
   "outputs": [
    {
     "name": "stdout",
     "output_type": "stream",
     "text": [
      "              precision    recall  f1-score   support\n",
      "\n",
      "           0       0.83      0.87      0.85       307\n",
      "           1       0.77      0.72      0.74       191\n",
      "\n",
      "    accuracy                           0.81       498\n",
      "   macro avg       0.80      0.79      0.80       498\n",
      "weighted avg       0.81      0.81      0.81       498\n",
      "\n"
     ]
    }
   ],
   "source": [
    "# classification report\n",
    "\n",
    "\n",
    "print(classification_report(y_train, y_pred))"
   ]
  },
  {
   "cell_type": "markdown",
   "id": "25d4ebf4",
   "metadata": {},
   "source": [
    "### 1. Create a model that includes age in addition to fare and pclass. Does this model perform better than your baseline?"
   ]
  },
  {
   "cell_type": "code",
   "execution_count": null,
   "id": "ebf33fba",
   "metadata": {},
   "outputs": [],
   "source": []
  },
  {
   "cell_type": "code",
   "execution_count": 96,
   "id": "63e8c86a",
   "metadata": {},
   "outputs": [
    {
     "name": "stdout",
     "output_type": "stream",
     "text": [
      "              precision    recall  f1-score   support\n",
      "\n",
      "           0       0.62      1.00      0.76       307\n",
      "           1       0.00      0.00      0.00       191\n",
      "\n",
      "    accuracy                           0.62       498\n",
      "   macro avg       0.31      0.50      0.38       498\n",
      "weighted avg       0.38      0.62      0.47       498\n",
      "\n"
     ]
    }
   ],
   "source": [
    "print(classification_report(y_train,X_train.baseline_prediction))\n",
    "\n",
    "# see the baseline accuracy in its classification report"
   ]
  },
  {
   "cell_type": "code",
   "execution_count": 101,
   "id": "46708b78",
   "metadata": {},
   "outputs": [
    {
     "data": {
      "text/plain": [
       "0.616"
      ]
     },
     "execution_count": 101,
     "metadata": {},
     "output_type": "execute_result"
    }
   ],
   "source": [
    "baseline_accuracy = (train.survived == 0).mean()\n",
    "round(baseline_accuracy, 3)"
   ]
  },
  {
   "cell_type": "code",
   "execution_count": 103,
   "id": "897c6c49",
   "metadata": {},
   "outputs": [
    {
     "name": "stdout",
     "output_type": "stream",
     "text": [
      "Baseline is 0.62\n",
      "Logistic Regression using age, pclass, and fare features\n",
      "Accuracy of Logistic Regression classifier on training set: 0.70\n"
     ]
    }
   ],
   "source": [
    "# teacher solution below; my classification report above resolved the question mostly\n",
    "\n",
    "# Create the logistic regression\n",
    "logit = LogisticRegression(random_state=123)\n",
    "\n",
    "# specify the features we're using\n",
    "features = [\"age\", \"pclass\", \"fare\"]\n",
    "\n",
    "# Fit a model using only these specified features\n",
    "# logit.fit(X_train[[\"age\", \"pclass\", \"fare\"]], y_train)\n",
    "logit.fit(X_train[features], y_train)\n",
    "\n",
    "# Since we .fit on a subset, we .predict on that same subset of features\n",
    "y_pred = logit.predict(X_train[features])\n",
    "\n",
    "print(\"Baseline is\", round(baseline_accuracy, 2))\n",
    "print(\"Logistic Regression using age, pclass, and fare features\")\n",
    "print('Accuracy of Logistic Regression classifier on training set: {:.2f}'\n",
    "     .format(logit.score(X_train[features], y_train)))"
   ]
  },
  {
   "cell_type": "code",
   "execution_count": null,
   "id": "593ad391",
   "metadata": {},
   "outputs": [],
   "source": []
  },
  {
   "cell_type": "markdown",
   "id": "24d2351c",
   "metadata": {},
   "source": [
    "### 2. Include sex in your model as well. Note that you'll need to encode or create a dummy variable of this feature before including it in a model."
   ]
  },
  {
   "cell_type": "code",
   "execution_count": 105,
   "id": "26d33658",
   "metadata": {},
   "outputs": [
    {
     "data": {
      "text/html": [
       "<div>\n",
       "<style scoped>\n",
       "    .dataframe tbody tr th:only-of-type {\n",
       "        vertical-align: middle;\n",
       "    }\n",
       "\n",
       "    .dataframe tbody tr th {\n",
       "        vertical-align: top;\n",
       "    }\n",
       "\n",
       "    .dataframe thead th {\n",
       "        text-align: right;\n",
       "    }\n",
       "</style>\n",
       "<table border=\"1\" class=\"dataframe\">\n",
       "  <thead>\n",
       "    <tr style=\"text-align: right;\">\n",
       "      <th></th>\n",
       "      <th>pclass</th>\n",
       "      <th>age</th>\n",
       "      <th>sibsp</th>\n",
       "      <th>parch</th>\n",
       "      <th>fare</th>\n",
       "      <th>alone</th>\n",
       "      <th>baseline_prediction</th>\n",
       "      <th>sex_male</th>\n",
       "      <th>embark_town_Queenstown</th>\n",
       "      <th>embark_town_Southampton</th>\n",
       "    </tr>\n",
       "  </thead>\n",
       "  <tbody>\n",
       "    <tr>\n",
       "      <th>583</th>\n",
       "      <td>1</td>\n",
       "      <td>36.000000</td>\n",
       "      <td>0</td>\n",
       "      <td>0</td>\n",
       "      <td>40.1250</td>\n",
       "      <td>1</td>\n",
       "      <td>0</td>\n",
       "      <td>1</td>\n",
       "      <td>0</td>\n",
       "      <td>0</td>\n",
       "    </tr>\n",
       "    <tr>\n",
       "      <th>165</th>\n",
       "      <td>3</td>\n",
       "      <td>9.000000</td>\n",
       "      <td>0</td>\n",
       "      <td>2</td>\n",
       "      <td>20.5250</td>\n",
       "      <td>0</td>\n",
       "      <td>0</td>\n",
       "      <td>1</td>\n",
       "      <td>0</td>\n",
       "      <td>1</td>\n",
       "    </tr>\n",
       "    <tr>\n",
       "      <th>50</th>\n",
       "      <td>3</td>\n",
       "      <td>7.000000</td>\n",
       "      <td>4</td>\n",
       "      <td>1</td>\n",
       "      <td>39.6875</td>\n",
       "      <td>0</td>\n",
       "      <td>0</td>\n",
       "      <td>1</td>\n",
       "      <td>0</td>\n",
       "      <td>1</td>\n",
       "    </tr>\n",
       "    <tr>\n",
       "      <th>259</th>\n",
       "      <td>2</td>\n",
       "      <td>50.000000</td>\n",
       "      <td>0</td>\n",
       "      <td>1</td>\n",
       "      <td>26.0000</td>\n",
       "      <td>0</td>\n",
       "      <td>0</td>\n",
       "      <td>0</td>\n",
       "      <td>0</td>\n",
       "      <td>1</td>\n",
       "    </tr>\n",
       "    <tr>\n",
       "      <th>306</th>\n",
       "      <td>1</td>\n",
       "      <td>29.678105</td>\n",
       "      <td>0</td>\n",
       "      <td>0</td>\n",
       "      <td>110.8833</td>\n",
       "      <td>1</td>\n",
       "      <td>0</td>\n",
       "      <td>0</td>\n",
       "      <td>0</td>\n",
       "      <td>0</td>\n",
       "    </tr>\n",
       "  </tbody>\n",
       "</table>\n",
       "</div>"
      ],
      "text/plain": [
       "     pclass        age  sibsp  parch      fare  alone  baseline_prediction  \\\n",
       "583       1  36.000000      0      0   40.1250      1                    0   \n",
       "165       3   9.000000      0      2   20.5250      0                    0   \n",
       "50        3   7.000000      4      1   39.6875      0                    0   \n",
       "259       2  50.000000      0      1   26.0000      0                    0   \n",
       "306       1  29.678105      0      0  110.8833      1                    0   \n",
       "\n",
       "     sex_male  embark_town_Queenstown  embark_town_Southampton  \n",
       "583         1                       0                        0  \n",
       "165         1                       0                        1  \n",
       "50          1                       0                        1  \n",
       "259         0                       0                        1  \n",
       "306         0                       0                        0  "
      ]
     },
     "execution_count": 105,
     "metadata": {},
     "output_type": "execute_result"
    }
   ],
   "source": [
    "X_train.head()"
   ]
  },
  {
   "cell_type": "code",
   "execution_count": 106,
   "id": "3be8a975",
   "metadata": {},
   "outputs": [
    {
     "name": "stdout",
     "output_type": "stream",
     "text": [
      "Logistic Regression using age, pclass, fare, and gender features\n",
      "Accuracy of Logistic Regression classifier on training set: 0.81\n"
     ]
    }
   ],
   "source": [
    "# Create the logistic regression\n",
    "logit1 = LogisticRegression(random_state=123)\n",
    "\n",
    "# specify the features we're using\n",
    "features = [\"age\", \"pclass\", \"fare\", \"sex_male\"]\n",
    "\n",
    "# Fit a model using only these specified features\n",
    "logit1.fit(X_train[features], y_train)\n",
    "\n",
    "y_pred = logit1.predict(X_train[features])\n",
    "\n",
    "print(\"Logistic Regression using age, pclass, fare, and gender features\")\n",
    "print('Accuracy of Logistic Regression classifier on training set: {:.2f}'\n",
    "     .format(logit1.score(X_train[features], y_train)))"
   ]
  },
  {
   "cell_type": "code",
   "execution_count": null,
   "id": "795dd3ba",
   "metadata": {},
   "outputs": [],
   "source": []
  },
  {
   "cell_type": "markdown",
   "id": "7859e4a8",
   "metadata": {},
   "source": [
    "### 3. Try out other combinations of features and models."
   ]
  },
  {
   "cell_type": "code",
   "execution_count": 107,
   "id": "e56f0b6a",
   "metadata": {},
   "outputs": [
    {
     "data": {
      "text/html": [
       "<div>\n",
       "<style scoped>\n",
       "    .dataframe tbody tr th:only-of-type {\n",
       "        vertical-align: middle;\n",
       "    }\n",
       "\n",
       "    .dataframe tbody tr th {\n",
       "        vertical-align: top;\n",
       "    }\n",
       "\n",
       "    .dataframe thead th {\n",
       "        text-align: right;\n",
       "    }\n",
       "</style>\n",
       "<table border=\"1\" class=\"dataframe\">\n",
       "  <thead>\n",
       "    <tr style=\"text-align: right;\">\n",
       "      <th></th>\n",
       "      <th>passenger_id</th>\n",
       "      <th>survived</th>\n",
       "      <th>pclass</th>\n",
       "      <th>sex</th>\n",
       "      <th>age</th>\n",
       "      <th>sibsp</th>\n",
       "      <th>parch</th>\n",
       "      <th>fare</th>\n",
       "      <th>embark_town</th>\n",
       "      <th>alone</th>\n",
       "      <th>baseline_prediction</th>\n",
       "      <th>sex_male</th>\n",
       "      <th>embark_town_Queenstown</th>\n",
       "      <th>embark_town_Southampton</th>\n",
       "    </tr>\n",
       "  </thead>\n",
       "  <tbody>\n",
       "    <tr>\n",
       "      <th>670</th>\n",
       "      <td>670</td>\n",
       "      <td>1</td>\n",
       "      <td>2</td>\n",
       "      <td>female</td>\n",
       "      <td>40.0</td>\n",
       "      <td>1</td>\n",
       "      <td>1</td>\n",
       "      <td>39.0</td>\n",
       "      <td>Southampton</td>\n",
       "      <td>0</td>\n",
       "      <td>0</td>\n",
       "      <td>0</td>\n",
       "      <td>0</td>\n",
       "      <td>1</td>\n",
       "    </tr>\n",
       "  </tbody>\n",
       "</table>\n",
       "</div>"
      ],
      "text/plain": [
       "     passenger_id  survived  pclass     sex   age  sibsp  parch  fare  \\\n",
       "670           670         1       2  female  40.0      1      1  39.0   \n",
       "\n",
       "     embark_town  alone  baseline_prediction  sex_male  \\\n",
       "670  Southampton      0                    0         0   \n",
       "\n",
       "     embark_town_Queenstown  embark_town_Southampton  \n",
       "670                       0                        1  "
      ]
     },
     "execution_count": 107,
     "metadata": {},
     "output_type": "execute_result"
    }
   ],
   "source": [
    "train.sample()"
   ]
  },
  {
   "cell_type": "markdown",
   "id": "4e0d9ad9",
   "metadata": {},
   "source": [
    "- Models Created:\n",
    "- logit2, all Features, 0.81 accuracy\n",
    "- logit3, all features with class_weight=\"balanced\", .80 accuracy\n",
    "- logit4, only age, .62 accuracy\n",
    "- logit5, only pclass, .67 accuracy\n",
    "- logit6, C hyperparameter close to zero, .62 accuracy"
   ]
  },
  {
   "cell_type": "code",
   "execution_count": 119,
   "id": "9128c461",
   "metadata": {},
   "outputs": [
    {
     "data": {
      "text/plain": [
       "0.8172690763052208"
      ]
     },
     "execution_count": 119,
     "metadata": {},
     "output_type": "execute_result"
    }
   ],
   "source": [
    "# all features\n",
    "logit2 = LogisticRegression(random_state=123)\n",
    "logit2.fit(X_train, y_train)\n",
    "y_pred = logit2.predict(X_train)\n",
    "logit2.score(X_train, y_train)"
   ]
  },
  {
   "cell_type": "code",
   "execution_count": 120,
   "id": "f8dd4cd1",
   "metadata": {},
   "outputs": [
    {
     "data": {
      "text/plain": [
       "0.8072289156626506"
      ]
     },
     "execution_count": 120,
     "metadata": {},
     "output_type": "execute_result"
    }
   ],
   "source": [
    "# all features, class_weight = 'balanced'\n",
    "logit3 = LogisticRegression(class_weight='balanced',random_state=123)\n",
    "logit3.fit(X_train, y_train)\n",
    "y_pred = logit3.predict(X_train)\n",
    "logit3.score(X_train, y_train)"
   ]
  },
  {
   "cell_type": "code",
   "execution_count": 122,
   "id": "fdecd5dc",
   "metadata": {},
   "outputs": [
    {
     "data": {
      "text/plain": [
       "0.6164658634538153"
      ]
     },
     "execution_count": 122,
     "metadata": {},
     "output_type": "execute_result"
    }
   ],
   "source": [
    "# only age\n",
    "features = [\"age\"]\n",
    "logit4 = LogisticRegression(random_state=123)\n",
    "logit4.fit(X_train[features], y_train)\n",
    "y_pred = logit4.predict(X_train[features])\n",
    "logit4.score(X_train[features], y_train)"
   ]
  },
  {
   "cell_type": "code",
   "execution_count": 123,
   "id": "0e42834e",
   "metadata": {},
   "outputs": [
    {
     "data": {
      "text/plain": [
       "0.6666666666666666"
      ]
     },
     "execution_count": 123,
     "metadata": {},
     "output_type": "execute_result"
    }
   ],
   "source": [
    "#pclass only\n",
    "features = [\"pclass\"]\n",
    "logit5 = LogisticRegression(random_state=123)\n",
    "logit5.fit(X_train[features], y_train)\n",
    "y_pred = logit5.predict(X_train[features])\n",
    "logit5.score(X_train[features], y_train)"
   ]
  },
  {
   "cell_type": "code",
   "execution_count": 127,
   "id": "4f1e9f44",
   "metadata": {},
   "outputs": [
    {
     "data": {
      "text/plain": [
       "0.6164658634538153"
      ]
     },
     "execution_count": 127,
     "metadata": {},
     "output_type": "execute_result"
    }
   ],
   "source": [
    "# all features, c hyperparameter close to 0\n",
    "logit6 = LogisticRegression(C=.00000001,random_state=123)\n",
    "logit6.fit(X_train, y_train)\n",
    "y_pred = logit6.predict(X_train)\n",
    "logit6.score(X_train, y_train)"
   ]
  },
  {
   "cell_type": "markdown",
   "id": "66b5ace2",
   "metadata": {},
   "source": [
    "### 4. Use you best 3 models to predict and evaluate on your validate sample.\n",
    "- choose from any of the model types"
   ]
  },
  {
   "cell_type": "code",
   "execution_count": null,
   "id": "29789d95",
   "metadata": {},
   "outputs": [],
   "source": [
    "# best accuracy was using all features at approx 82%"
   ]
  },
  {
   "cell_type": "code",
   "execution_count": null,
   "id": "dda10b21",
   "metadata": {},
   "outputs": [],
   "source": []
  },
  {
   "cell_type": "code",
   "execution_count": null,
   "id": "4b54260c",
   "metadata": {},
   "outputs": [],
   "source": []
  },
  {
   "cell_type": "markdown",
   "id": "1ffb959f",
   "metadata": {},
   "source": [
    "### 5. Choose you best model from the validation performation, and evaluate it on the test dataset. How do the performance metrics compare to validate? to train?"
   ]
  },
  {
   "cell_type": "code",
   "execution_count": 129,
   "id": "568ce68b",
   "metadata": {},
   "outputs": [
    {
     "name": "stdout",
     "output_type": "stream",
     "text": [
      "Logistic Regression using age, pclass, fare, and gender features\n",
      "Accuracy of Logistic Regression classifier on training set: 0.79\n"
     ]
    }
   ],
   "source": [
    "# Create the logistic regression\n",
    "logit1 = LogisticRegression(random_state=123)\n",
    "\n",
    "# specify the features we're using\n",
    "features = [\"age\", \"pclass\", \"fare\", \"sex_male\"]\n",
    "\n",
    "# Fit a model using only these specified features\n",
    "logit1.fit(X_validate[features], y_validate)\n",
    "\n",
    "y_pred = logit1.predict(X_validate[features])\n",
    "\n",
    "print(\"Logistic Regression using age, pclass, fare, and gender features\")\n",
    "print('Accuracy of Logistic Regression classifier on training set: {:.2f}'\n",
    "     .format(logit1.score(X_validate[features], y_validate)))"
   ]
  },
  {
   "cell_type": "code",
   "execution_count": 130,
   "id": "6ad8578f",
   "metadata": {},
   "outputs": [
    {
     "data": {
      "text/plain": [
       "0.7990654205607477"
      ]
     },
     "execution_count": 130,
     "metadata": {},
     "output_type": "execute_result"
    }
   ],
   "source": [
    "# all features\n",
    "logit2 = LogisticRegression(random_state=123)\n",
    "logit2.fit(X_validate, y_validate)\n",
    "y_pred = logit2.predict(X_validate)\n",
    "logit2.score(X_validate, y_validate)"
   ]
  },
  {
   "cell_type": "markdown",
   "id": "ff34269a",
   "metadata": {},
   "source": [
    "What next?\n",
    "- Consider the precision and recall values from each model.\n",
    "- Experiment with more hyperparameter values and combinations\n",
    "- Handle the age nulls differently\n",
    "- We could try filling the nulls with median age instead of average age\n",
    "- We could drop the nulls if they weren't such a large proportion of the dataset\n",
    "- Feature engineering\n",
    "- Handling outliers\n",
    "- Scaling (we'll do this later)\n",
    "\n",
    "Once we have a single model doing really well on validate, then we'll select that model to evaluate on test."
   ]
  },
  {
   "cell_type": "markdown",
   "id": "ffee7407",
   "metadata": {},
   "source": [
    "### bonus and extra bonus"
   ]
  },
  {
   "cell_type": "markdown",
   "id": "09b85873",
   "metadata": {},
   "source": [
    "# Please see ravinder's neat code in the exercise review"
   ]
  },
  {
   "cell_type": "code",
   "execution_count": null,
   "id": "c29f5c38",
   "metadata": {},
   "outputs": [],
   "source": []
  }
 ],
 "metadata": {
  "kernelspec": {
   "display_name": "Python 3",
   "language": "python",
   "name": "python3"
  },
  "language_info": {
   "codemirror_mode": {
    "name": "ipython",
    "version": 3
   },
   "file_extension": ".py",
   "mimetype": "text/x-python",
   "name": "python",
   "nbconvert_exporter": "python",
   "pygments_lexer": "ipython3",
   "version": "3.8.8"
  }
 },
 "nbformat": 4,
 "nbformat_minor": 5
}
