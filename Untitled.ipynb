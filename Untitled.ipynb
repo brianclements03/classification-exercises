{
 "cells": [
  {
   "cell_type": "markdown",
   "id": "7cd48cf7",
   "metadata": {},
   "source": [
    "age is missing like 20% of values\n",
    "\n",
    "deck is missing 80%\n",
    "\n",
    "(see the isna() command in the explore_notes doc)"
   ]
  },
  {
   "cell_type": "markdown",
   "id": "c780b588",
   "metadata": {},
   "source": [
    "# FROM RYAN'S LESSON:"
   ]
  },
  {
   "cell_type": "markdown",
   "id": "353c88fc",
   "metadata": {},
   "source": [
    "Prepare the Titanic data. We apply the same steps before splitting so that we handle edge cases identically.\n",
    "\n",
    "- drop deck since most of the data is missing\n",
    "- drop rows where age or embarked is missing\n",
    "- drop passenger_id, since it adds no new information\n",
    "- drop class, as encoded values are in pclass\n",
    "- create dummy vars & drop sex, embark_town"
   ]
  },
  {
   "cell_type": "code",
   "execution_count": null,
   "id": "fe80d3ed",
   "metadata": {},
   "outputs": [],
   "source": []
  }
 ],
 "metadata": {
  "kernelspec": {
   "display_name": "Python 3",
   "language": "python",
   "name": "python3"
  },
  "language_info": {
   "codemirror_mode": {
    "name": "ipython",
    "version": 3
   },
   "file_extension": ".py",
   "mimetype": "text/x-python",
   "name": "python",
   "nbconvert_exporter": "python",
   "pygments_lexer": "ipython3",
   "version": "3.8.8"
  }
 },
 "nbformat": 4,
 "nbformat_minor": 5
}
