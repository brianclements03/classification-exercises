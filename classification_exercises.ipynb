{
 "cells": [
  {
   "cell_type": "markdown",
   "id": "192e64db",
   "metadata": {},
   "source": [
    "# IN THIS NOTEBOOK, THERE ARE SOME EARLY EXERCISES AT THE TOP, THEN THE IRIS, TITANIC, AND TELCO EXERCISES ARE SPLIT RESPECTIVELY"
   ]
  },
  {
   "cell_type": "code",
   "execution_count": 4,
   "id": "5c9ff20f",
   "metadata": {},
   "outputs": [],
   "source": [
    "import matplotlib.pyplot as plt\n",
    "import numpy as np\n",
    "import pandas as pd\n",
    "from pydataset import data\n",
    "import statistics\n",
    "import seaborn as sns\n",
    "import env\n",
    "from sklearn.model_selection import train_test_split\n",
    "from sklearn.impute import SimpleImputer\n",
    "import scipy\n",
    "import acquire\n",
    "import prepare\n",
    "#from pydataset: data('')\n",
    "#from seaborn: sns.load_dataset('')"
   ]
  },
  {
   "cell_type": "markdown",
   "id": "a648c1cd",
   "metadata": {},
   "source": [
    "### 4. In a jupyter notebook, `classification_exercises.ipynb`, use a python module (pydata or seaborn datasets) containing datasets as a source from the iris data. Create a pandas dataframe, `df_iris`, from this data."
   ]
  },
  {
   "cell_type": "markdown",
   "id": "986ef884",
   "metadata": {},
   "source": [
    "    - print the first 3 rows"
   ]
  },
  {
   "cell_type": "code",
   "execution_count": null,
   "id": "73606479",
   "metadata": {},
   "outputs": [],
   "source": [
    "df_iris = sns.load_dataset('iris')\n",
    "df_iris.head(3)"
   ]
  },
  {
   "cell_type": "markdown",
   "id": "f6057f5c",
   "metadata": {},
   "source": [
    "    - print the number of rows and columns (shape)"
   ]
  },
  {
   "cell_type": "code",
   "execution_count": null,
   "id": "ec767a91",
   "metadata": {},
   "outputs": [],
   "source": [
    "df_iris.shape"
   ]
  },
  {
   "cell_type": "markdown",
   "id": "40ac1aa9",
   "metadata": {},
   "source": [
    "    - print the column names"
   ]
  },
  {
   "cell_type": "code",
   "execution_count": null,
   "id": "749747b3",
   "metadata": {},
   "outputs": [],
   "source": [
    "df_iris.columns"
   ]
  },
  {
   "cell_type": "markdown",
   "id": "6f737ced",
   "metadata": {},
   "source": [
    "    - print the data type of each column"
   ]
  },
  {
   "cell_type": "code",
   "execution_count": null,
   "id": "9a37cb5f",
   "metadata": {},
   "outputs": [],
   "source": [
    "df_iris.columns.to_list()"
   ]
  },
  {
   "cell_type": "code",
   "execution_count": null,
   "id": "f36f0dee",
   "metadata": {},
   "outputs": [],
   "source": [
    "df_iris.dtypes"
   ]
  },
  {
   "cell_type": "markdown",
   "id": "b41cc0df",
   "metadata": {},
   "source": [
    "    - print the summary statistics for each of the numeric variables. Would you\n",
    "      recommend rescaling the data based on these statistics?"
   ]
  },
  {
   "cell_type": "code",
   "execution_count": null,
   "id": "5bc956d1",
   "metadata": {},
   "outputs": [],
   "source": [
    "stats = df_iris.describe().T\n",
    "stats\n",
    "# no need to rescale, all scales the same. Ravinder says we will address in detail later"
   ]
  },
  {
   "cell_type": "code",
   "execution_count": null,
   "id": "87637f27",
   "metadata": {},
   "outputs": [],
   "source": [
    "stats['range'] = stats['max'] - stats['min']\n",
    "stats"
   ]
  },
  {
   "cell_type": "markdown",
   "id": "5b45eca4",
   "metadata": {},
   "source": [
    "### 5. Read the `Table1_CustDetails` table from the `Excel_Exercises.xlsx` file into a dataframe named `df_excel`."
   ]
  },
  {
   "cell_type": "code",
   "execution_count": null,
   "id": "8feb4526",
   "metadata": {},
   "outputs": [],
   "source": [
    "df_excel = pd.read_excel('Excel_Exercises.xlsx', sheet_name=\"Table1_CustDetails\")\n",
    "df_excel.head()"
   ]
  },
  {
   "cell_type": "markdown",
   "id": "62c003c4",
   "metadata": {},
   "source": [
    "    - assign the first 100 rows to a new dataframe, `df_excel_sample`"
   ]
  },
  {
   "cell_type": "code",
   "execution_count": null,
   "id": "34f6ca95",
   "metadata": {},
   "outputs": [],
   "source": [
    "df_excel_sample = pd.read_excel('Excel_Exercises.xlsx', nrows= 100)\n",
    "df_excel_sample\n",
    "\n"
   ]
  },
  {
   "cell_type": "markdown",
   "id": "b2dc723d",
   "metadata": {},
   "source": [
    "    - print the number of rows of your original dataframe"
   ]
  },
  {
   "cell_type": "code",
   "execution_count": null,
   "id": "c78798d6",
   "metadata": {},
   "outputs": [],
   "source": [
    "df_excel.shape[0]"
   ]
  },
  {
   "cell_type": "markdown",
   "id": "a9318ad9",
   "metadata": {},
   "source": [
    "    - print the first 5 column names"
   ]
  },
  {
   "cell_type": "code",
   "execution_count": null,
   "id": "fb0d1766",
   "metadata": {},
   "outputs": [],
   "source": [
    "df_excel.columns[:5]"
   ]
  },
  {
   "cell_type": "markdown",
   "id": "425699fe",
   "metadata": {},
   "source": [
    "    - print the column names that have a data type of `object`"
   ]
  },
  {
   "cell_type": "code",
   "execution_count": null,
   "id": "df4d91cc",
   "metadata": {},
   "outputs": [],
   "source": [
    "df_excel.select_dtypes('object')"
   ]
  },
  {
   "cell_type": "code",
   "execution_count": null,
   "id": "7ed0fc24",
   "metadata": {},
   "outputs": [],
   "source": [
    "df_excel.select_dtypes('object').columns.tolist()"
   ]
  },
  {
   "cell_type": "code",
   "execution_count": null,
   "id": "6f11e21e",
   "metadata": {},
   "outputs": [],
   "source": [
    "df_excel.dtypes"
   ]
  },
  {
   "cell_type": "markdown",
   "id": "35f92470",
   "metadata": {},
   "source": [
    "\n",
    "    - compute the range for each of the numeric variables."
   ]
  },
  {
   "cell_type": "code",
   "execution_count": null,
   "id": "c6a2f83f",
   "metadata": {},
   "outputs": [],
   "source": [
    "df_excel.describe()"
   ]
  },
  {
   "cell_type": "code",
   "execution_count": null,
   "id": "0b0f7e12",
   "metadata": {},
   "outputs": [],
   "source": [
    "monthly_charges_range = df_excel.monthly_charges.max() - df_excel.monthly_charges.min()\n",
    "monthly_charges_range"
   ]
  },
  {
   "cell_type": "code",
   "execution_count": null,
   "id": "41614c1b",
   "metadata": {},
   "outputs": [],
   "source": [
    "total_charges_range = df_excel.total_charges.max() - df_excel.total_charges.min()\n",
    "total_charges_range"
   ]
  },
  {
   "cell_type": "code",
   "execution_count": null,
   "id": "22e27eaa",
   "metadata": {},
   "outputs": [],
   "source": [
    "telco_stats = df_excel.describe().T\n",
    "telco_stats"
   ]
  },
  {
   "cell_type": "code",
   "execution_count": null,
   "id": "b7209984",
   "metadata": {},
   "outputs": [],
   "source": [
    "telco_stats['range'] = telco_stats['max'] - telco_stats['min']\n",
    "telco_stats"
   ]
  },
  {
   "cell_type": "markdown",
   "id": "f4922fa1",
   "metadata": {},
   "source": [
    "### 6. Read the data from [this google sheet](https://docs.google.com/spreadsheets/d/1Uhtml8KY19LILuZsrDtlsHHDC9wuDGUSe8LTEwvdI5g/edit?usp=sharing) into a dataframe, `df_google`\n",
    "\n",
    "    "
   ]
  },
  {
   "cell_type": "code",
   "execution_count": null,
   "id": "87eec24e",
   "metadata": {},
   "outputs": [],
   "source": [
    "sheet_url = 'https://docs.google.com/spreadsheets/d/1Uhtml8KY19LILuZsrDtlsHHDC9wuDGUSe8LTEwvdI5g/edit#gid=341089357'   \n",
    "\n",
    "csv_export_url = sheet_url.replace('/edit#gid=', '/export?format=csv&gid=')\n",
    "csv_export_url"
   ]
  },
  {
   "cell_type": "code",
   "execution_count": null,
   "id": "3a6a5d09",
   "metadata": {},
   "outputs": [],
   "source": [
    "df_google = pd.read_csv(csv_export_url)\n",
    "df_google.head()"
   ]
  },
  {
   "cell_type": "markdown",
   "id": "dee82a9c",
   "metadata": {},
   "source": [
    "    - print the first 3 rows\n",
    "    "
   ]
  },
  {
   "cell_type": "code",
   "execution_count": null,
   "id": "9b5a1058",
   "metadata": {},
   "outputs": [],
   "source": [
    "df_google.head(3)"
   ]
  },
  {
   "cell_type": "code",
   "execution_count": null,
   "id": "e1e70b14",
   "metadata": {},
   "outputs": [],
   "source": []
  },
  {
   "cell_type": "markdown",
   "id": "64a4cbcc",
   "metadata": {},
   "source": [
    "    - print the number of rows and columns\n",
    "    "
   ]
  },
  {
   "cell_type": "code",
   "execution_count": null,
   "id": "ab4733b6",
   "metadata": {},
   "outputs": [],
   "source": [
    "df_google.shape"
   ]
  },
  {
   "cell_type": "markdown",
   "id": "3f6971e1",
   "metadata": {},
   "source": [
    "    - print the column names\n",
    "    "
   ]
  },
  {
   "cell_type": "code",
   "execution_count": null,
   "id": "ada8c050",
   "metadata": {},
   "outputs": [],
   "source": [
    "df_google.columns.to_list()"
   ]
  },
  {
   "cell_type": "markdown",
   "id": "1fa59ed7",
   "metadata": {},
   "source": [
    "    - print the data type of each column\n",
    "    "
   ]
  },
  {
   "cell_type": "code",
   "execution_count": null,
   "id": "f76bad13",
   "metadata": {},
   "outputs": [],
   "source": [
    "df_google.dtypes"
   ]
  },
  {
   "cell_type": "markdown",
   "id": "508969b5",
   "metadata": {},
   "source": [
    "    - print the summary statistics for each of the numeric variables\n",
    "    "
   ]
  },
  {
   "cell_type": "code",
   "execution_count": null,
   "id": "d255737a",
   "metadata": {},
   "outputs": [],
   "source": [
    "df_google.describe()"
   ]
  },
  {
   "cell_type": "markdown",
   "id": "5fd92c40",
   "metadata": {},
   "source": [
    "    - print the unique values for each of your categorical variables"
   ]
  },
  {
   "cell_type": "code",
   "execution_count": null,
   "id": "fd91f200",
   "metadata": {},
   "outputs": [],
   "source": [
    "# for col in df_google:\n",
    "#     print(df_google[col].unique())"
   ]
  },
  {
   "cell_type": "code",
   "execution_count": null,
   "id": "37f61431",
   "metadata": {},
   "outputs": [],
   "source": [
    "# df_google.nunique(axis = 0)"
   ]
  },
  {
   "cell_type": "code",
   "execution_count": null,
   "id": "53bc5728",
   "metadata": {},
   "outputs": [],
   "source": [
    "pd.CategoricalIndex(df_google.Name), pd.CategoricalIndex(df_google.Survived), pd.CategoricalIndex(df_google.Pclass), pd.CategoricalIndex(df_google.Sex), pd.CategoricalIndex(df_google.Embarked)"
   ]
  },
  {
   "cell_type": "code",
   "execution_count": null,
   "id": "e3108963",
   "metadata": {},
   "outputs": [],
   "source": [
    "# df_google.sample(20)"
   ]
  },
  {
   "cell_type": "code",
   "execution_count": null,
   "id": "c0ab8047",
   "metadata": {},
   "outputs": [],
   "source": [
    "# pd.CategoricalIndex(df_google.Sex, )"
   ]
  },
  {
   "cell_type": "code",
   "execution_count": null,
   "id": "926fc08d",
   "metadata": {},
   "outputs": [],
   "source": [
    "category_list = list(df_google.select_dtypes(include = 'object').columns)#.append('Pclass')\n",
    "category_list.append('Pclass')\n",
    "category_list"
   ]
  },
  {
   "cell_type": "code",
   "execution_count": null,
   "id": "f6f24245",
   "metadata": {},
   "outputs": [],
   "source": [
    "df_google.Pclass.value_counts(dropna=False)"
   ]
  },
  {
   "cell_type": "markdown",
   "id": "c0a37a6f",
   "metadata": {},
   "source": [
    "# Using the Iris Data:"
   ]
  },
  {
   "cell_type": "markdown",
   "id": "f5885712",
   "metadata": {},
   "source": [
    "### Use the function defined in acquire.py to load the iris data."
   ]
  },
  {
   "cell_type": "code",
   "execution_count": null,
   "id": "688c42e6",
   "metadata": {},
   "outputs": [],
   "source": [
    "import acquire"
   ]
  },
  {
   "cell_type": "code",
   "execution_count": null,
   "id": "37812bc3",
   "metadata": {},
   "outputs": [],
   "source": [
    "iris_df = acquire.get_iris_data()\n",
    "iris_df.head()"
   ]
  },
  {
   "cell_type": "code",
   "execution_count": null,
   "id": "32a87c58",
   "metadata": {},
   "outputs": [],
   "source": [
    "iris_df.shape"
   ]
  },
  {
   "cell_type": "code",
   "execution_count": null,
   "id": "613d08f4",
   "metadata": {},
   "outputs": [],
   "source": [
    "iris_df.info()"
   ]
  },
  {
   "cell_type": "code",
   "execution_count": null,
   "id": "796bdd41",
   "metadata": {},
   "outputs": [],
   "source": [
    "iris_df.describe()"
   ]
  },
  {
   "cell_type": "code",
   "execution_count": null,
   "id": "da34b124",
   "metadata": {},
   "outputs": [],
   "source": [
    "num_cols = iris_df.columns[[iris_df[col].dtype == 'float64' for col in iris_df.columns]]\n",
    "num_cols"
   ]
  },
  {
   "cell_type": "code",
   "execution_count": null,
   "id": "2b7d7cfd",
   "metadata": {},
   "outputs": [],
   "source": [
    "for col in num_cols:\n",
    "    plt.hist(iris_df[col])\n",
    "    plt.title(col)\n",
    "    plt.show()\n",
    "    plt.boxplot(iris_df[col])\n",
    "    plt.show()"
   ]
  },
  {
   "cell_type": "code",
   "execution_count": null,
   "id": "1fdbd0b6",
   "metadata": {},
   "outputs": [],
   "source": [
    "obj_cols = iris_df.columns[[iris_df[col].dtype == 'O' for col in iris_df.columns]]\n",
    "obj_cols"
   ]
  },
  {
   "cell_type": "code",
   "execution_count": null,
   "id": "799d97d6",
   "metadata": {},
   "outputs": [],
   "source": [
    "for col in obj_cols:\n",
    "    print(iris_df[col].value_counts())\n",
    "    print(iris_df[col].value_counts(normalize = True, dropna=False))\n",
    "    print('------------------------')\n",
    "        "
   ]
  },
  {
   "cell_type": "code",
   "execution_count": null,
   "id": "d981db99",
   "metadata": {},
   "outputs": [],
   "source": []
  },
  {
   "cell_type": "code",
   "execution_count": null,
   "id": "1122553a",
   "metadata": {},
   "outputs": [],
   "source": [
    "iris_df.sample()"
   ]
  },
  {
   "cell_type": "markdown",
   "id": "c02ec2e4",
   "metadata": {},
   "source": [
    "### Drop the species_id and measurement_id columns."
   ]
  },
  {
   "cell_type": "code",
   "execution_count": null,
   "id": "770b319d",
   "metadata": {},
   "outputs": [],
   "source": [
    "cols_to_drop = ['species_id']\n",
    "iris_df = iris_df.drop(columns = cols_to_drop)\n",
    "iris_df.shape"
   ]
  },
  {
   "cell_type": "markdown",
   "id": "2d092ad5",
   "metadata": {},
   "source": [
    "### Rename the species_name column to just species."
   ]
  },
  {
   "cell_type": "code",
   "execution_count": null,
   "id": "5f1b0c52",
   "metadata": {},
   "outputs": [],
   "source": [
    "iris_df.rename(columns={'species_name': 'species'}, inplace=True)\n",
    "iris_df.iloc[105]"
   ]
  },
  {
   "cell_type": "markdown",
   "id": "dd54ed0a",
   "metadata": {},
   "source": [
    "### Create dummy variables of the species name and concatenate onto the iris dataframe."
   ]
  },
  {
   "cell_type": "code",
   "execution_count": null,
   "id": "d83b7401",
   "metadata": {},
   "outputs": [],
   "source": [
    "dummy_df = pd.get_dummies(iris_df[['species']], dummy_na=False, drop_first=[True,True])\n",
    "dummy_df.sample()"
   ]
  },
  {
   "cell_type": "code",
   "execution_count": null,
   "id": "2cf4606d",
   "metadata": {},
   "outputs": [],
   "source": [
    "iris_df = pd.concat([iris_df, dummy_df], axis = 1)\n",
    "iris_df.head()"
   ]
  },
  {
   "cell_type": "code",
   "execution_count": null,
   "id": "848d7620",
   "metadata": {},
   "outputs": [],
   "source": []
  },
  {
   "cell_type": "markdown",
   "id": "1e50ed50",
   "metadata": {},
   "source": [
    "### Create a function named prep_iris that accepts the untransformed iris data, and returns the data with the transformations above applied."
   ]
  },
  {
   "cell_type": "code",
   "execution_count": null,
   "id": "bb7387b9",
   "metadata": {},
   "outputs": [],
   "source": [
    "def prep_iris(iris_df):\n",
    "    '''\n",
    "    tranforms iris data set by dropping, renaming, adding columns\n",
    "    '''\n",
    "    iris_df = acquire.get_iris_data()\n",
    "    cols_to_drop = ['species_id']\n",
    "    iris_df = iris_df.drop(columns = cols_to_drop)\n",
    "    iris_df.rename(columns={'species_name': 'species'}, inplace=True)\n",
    "    dummy_df = pd.get_dummies(iris_df[['species']], dummy_na=False, drop_first=[True,True])\n",
    "    iris_df = pd.concat([iris_df, dummy_df], axis = 1)\n",
    "\n",
    "    return iris_df\n",
    "\n"
   ]
  },
  {
   "cell_type": "code",
   "execution_count": null,
   "id": "fdc3ae6d",
   "metadata": {},
   "outputs": [],
   "source": [
    "# iris_df = acquire.get_iris_data()\n",
    "# iris_df.head()"
   ]
  },
  {
   "cell_type": "markdown",
   "id": "dc011b6b",
   "metadata": {},
   "source": [
    "# 1. Acquire, prepare & split your data. (exploratory analysis lesson)"
   ]
  },
  {
   "cell_type": "code",
   "execution_count": null,
   "id": "e5cbf45e",
   "metadata": {},
   "outputs": [],
   "source": [
    "iris_df = prep_iris(iris_df)\n",
    "iris_df.head()"
   ]
  },
  {
   "cell_type": "code",
   "execution_count": null,
   "id": "b62b0f5a",
   "metadata": {},
   "outputs": [],
   "source": [
    "def split_data(iris_df):\n",
    "    '''\n",
    "    Takes in iris DF and returns train, validate, test sbusert dataframes\n",
    "    '''\n",
    "    iris_train, iris_test = train_test_split(iris_df, test_size = .2, stratify=iris_df.species)\n",
    "    iris_train, iris_validate = train_test_split(iris_train, test_size=.3, stratify=iris_train.species)\n",
    "    return iris_train, iris_validate, iris_test"
   ]
  },
  {
   "cell_type": "code",
   "execution_count": null,
   "id": "554d02d1",
   "metadata": {},
   "outputs": [],
   "source": [
    "iris_train, iris_validate, iris_test = split_data(iris_df)\n",
    "print(f'iris_train: {iris_train.shape}')\n",
    "print(f'iris_validate: {iris_validate.shape}')\n",
    "print(f'iris_test: {iris_test.shape}')\n",
    "\n",
    "# as you can see, we now have split the data into 3 sets"
   ]
  },
  {
   "cell_type": "markdown",
   "id": "66fb4bea",
   "metadata": {},
   "source": [
    "# Univariate Stats\n",
    "### For each measurement type (quantitative variable): create a histogram, boxplot, & compute descriptive statistics (using .describe())."
   ]
  },
  {
   "cell_type": "code",
   "execution_count": null,
   "id": "986d826f",
   "metadata": {},
   "outputs": [],
   "source": [
    "iris_train.sample()"
   ]
  },
  {
   "cell_type": "code",
   "execution_count": null,
   "id": "3ade79af",
   "metadata": {},
   "outputs": [],
   "source": [
    "iris_train.info()"
   ]
  },
  {
   "cell_type": "code",
   "execution_count": null,
   "id": "1e48988f",
   "metadata": {},
   "outputs": [],
   "source": [
    "iris_train.describe()"
   ]
  },
  {
   "cell_type": "code",
   "execution_count": null,
   "id": "15f2b2f7",
   "metadata": {},
   "outputs": [],
   "source": [
    "num_cols = iris_train.columns[[iris_train[col].dtype == 'float64' for col in iris_df.columns]]\n",
    "num_cols"
   ]
  },
  {
   "cell_type": "code",
   "execution_count": null,
   "id": "d37e3ce3",
   "metadata": {},
   "outputs": [],
   "source": [
    "for col in num_cols:\n",
    "    plt.hist(iris_df[col])\n",
    "    plt.title(col)\n",
    "    plt.show()\n",
    "    plt.boxplot(iris_df[col])\n",
    "    plt.show()"
   ]
  },
  {
   "cell_type": "markdown",
   "id": "ba0eb8ae",
   "metadata": {},
   "source": [
    "### For each species (categorical variable): create a frequency table and a bar plot of those frequencies."
   ]
  },
  {
   "cell_type": "code",
   "execution_count": null,
   "id": "be751623",
   "metadata": {},
   "outputs": [],
   "source": [
    "iris_train.species.value_counts()"
   ]
  },
  {
   "cell_type": "code",
   "execution_count": null,
   "id": "7fb0e9c0",
   "metadata": {},
   "outputs": [],
   "source": [
    "virginica = iris_train[iris_train.species == 'virginica']\n",
    "setosa = iris_train[iris_train.species == 'setosa']\n",
    "versicolor = iris_train[iris_train.species == 'versicolor']"
   ]
  },
  {
   "cell_type": "code",
   "execution_count": null,
   "id": "e92cff47",
   "metadata": {},
   "outputs": [],
   "source": [
    "virginica.hist()\n",
    "\n",
    "# takeaways:\n",
    "# for viriginica, sepal length and width are relatively normal\n",
    "# petal lenght and width aren't so normal"
   ]
  },
  {
   "cell_type": "code",
   "execution_count": null,
   "id": "0e88d07e",
   "metadata": {},
   "outputs": [],
   "source": [
    "virginica.boxplot()\n",
    "# note how the different measureable values are all over. relation btwn sepal lenght and width? petal?"
   ]
  },
  {
   "cell_type": "code",
   "execution_count": null,
   "id": "2823766a",
   "metadata": {},
   "outputs": [],
   "source": [
    "setosa.hist()\n",
    "# setosa takeways...petal widths are kind of discrete seeming. \n",
    "# all categories are sort of less normal distributed"
   ]
  },
  {
   "cell_type": "code",
   "execution_count": null,
   "id": "5a44f9ae",
   "metadata": {},
   "outputs": [],
   "source": [
    "setosa.boxplot()\n",
    "# all going down...no relation btwn each other, but maybe an identifying point related to virginica?"
   ]
  },
  {
   "cell_type": "code",
   "execution_count": null,
   "id": "bea551e2",
   "metadata": {},
   "outputs": [],
   "source": [
    "versicolor.hist()\n",
    "#versicolor takeaways: similar as with setosa"
   ]
  },
  {
   "cell_type": "code",
   "execution_count": null,
   "id": "56f4de1c",
   "metadata": {},
   "outputs": [],
   "source": [
    "versicolor.boxplot()\n",
    "# similar to what we saw on virginica"
   ]
  },
  {
   "cell_type": "markdown",
   "id": "9c94eb2e",
   "metadata": {},
   "source": [
    "### Document takeaways & any actions\n",
    "\n",
    "- see above"
   ]
  },
  {
   "cell_type": "markdown",
   "id": "5a2bdc89",
   "metadata": {},
   "source": [
    "# Bivariate Stats"
   ]
  },
  {
   "cell_type": "markdown",
   "id": "08390a18",
   "metadata": {},
   "source": [
    "### Visualize each measurement type (y-axis) with the species variable (x-axis) using barplots, adding a horizontal line showing the overall mean of the metric (y-axis).\n",
    "\n",
    "\n",
    "### For each measurement type, compute the descriptive statistics for each species"
   ]
  },
  {
   "cell_type": "code",
   "execution_count": null,
   "id": "2e42bff5",
   "metadata": {},
   "outputs": [],
   "source": [
    "iris_train.head(1)"
   ]
  },
  {
   "cell_type": "code",
   "execution_count": null,
   "id": "0fc1532c",
   "metadata": {},
   "outputs": [],
   "source": [
    "plt.title(\"Virginica have a longer Sepal\")\n",
    "sns.barplot(x=\"species\", y=\"sepal_length\", data=iris_train)\n",
    "mean_sepal_length = iris_train.sepal_length.mean()\n",
    "plt.axhline(mean_sepal_length, label=\"Mean Sepal Length\")\n",
    "plt.legend()\n",
    "plt.show()"
   ]
  },
  {
   "cell_type": "code",
   "execution_count": null,
   "id": "9a91d967",
   "metadata": {},
   "outputs": [],
   "source": [
    "iris_train.sepal_length.describe()"
   ]
  },
  {
   "cell_type": "code",
   "execution_count": null,
   "id": "cbebe9b3",
   "metadata": {},
   "outputs": [],
   "source": [
    "plt.title(\"Setosa have a Wider Sepal\")\n",
    "sns.barplot(x=\"species\", y=\"sepal_width\", data=iris_train)\n",
    "mean_sepal_width = iris_train.sepal_width.mean()\n",
    "plt.axhline(mean_sepal_width, label=\"Mean Sepal Width\")\n",
    "plt.legend()\n",
    "plt.show()"
   ]
  },
  {
   "cell_type": "code",
   "execution_count": null,
   "id": "cc1c12e1",
   "metadata": {},
   "outputs": [],
   "source": [
    "iris_train.sepal_width.describe()"
   ]
  },
  {
   "cell_type": "code",
   "execution_count": null,
   "id": "5e0114e7",
   "metadata": {},
   "outputs": [],
   "source": [
    "plt.title(\"Setosa have a Shorter Petal, Virginica Longer\")\n",
    "sns.barplot(x=\"species\", y=\"petal_length\", data=iris_train)\n",
    "mean_petal_length = iris_train.petal_length.mean()\n",
    "plt.axhline(mean_petal_length, label=\"Mean Petal Length\")\n",
    "plt.legend()\n",
    "plt.show()"
   ]
  },
  {
   "cell_type": "code",
   "execution_count": null,
   "id": "f2e322c7",
   "metadata": {},
   "outputs": [],
   "source": [
    "iris_train.petal_length.describe()"
   ]
  },
  {
   "cell_type": "code",
   "execution_count": null,
   "id": "7af31c30",
   "metadata": {},
   "outputs": [],
   "source": [
    "plt.title(\"Setosa have a Narrower Petal, Virginica Wider\")\n",
    "sns.barplot(x=\"species\", y=\"petal_width\", data=iris_train)\n",
    "mean_petal_width = iris_train.petal_width.mean()\n",
    "plt.axhline(mean_petal_width, label=\"Mean Petal Width\")\n",
    "plt.legend()\n",
    "plt.show()"
   ]
  },
  {
   "cell_type": "code",
   "execution_count": null,
   "id": "46bc95b7",
   "metadata": {},
   "outputs": [],
   "source": [
    "iris_train.petal_width.describe()"
   ]
  },
  {
   "cell_type": "markdown",
   "id": "57677658",
   "metadata": {},
   "source": [
    "### For virginica & versicolor: Compare the mean petal_width using the Mann-Whitney test (scipy.stats.mannwhitneyu) to see if there is a significant difference between the two groups. \n",
    "\n",
    "### Do the same for the other measurement types"
   ]
  },
  {
   "cell_type": "code",
   "execution_count": null,
   "id": "8a437e9c",
   "metadata": {},
   "outputs": [],
   "source": [
    "import scipy\n",
    "iris_train.sample()"
   ]
  },
  {
   "cell_type": "code",
   "execution_count": null,
   "id": "1f6d0ba4",
   "metadata": {},
   "outputs": [],
   "source": [
    "versicolor = iris_train[iris_train.species_versicolor == 1]\n",
    "virginica = iris_train[iris_train.species_virginica == 1]\n",
    "setosa = iris_train[(iris_train.species_versicolor == 0) & (iris_train.species_virginica == 0)]"
   ]
  },
  {
   "cell_type": "code",
   "execution_count": null,
   "id": "70469189",
   "metadata": {},
   "outputs": [],
   "source": [
    "versicolor.petal_width.var(), virginica.petal_width.var()"
   ]
  },
  {
   "cell_type": "code",
   "execution_count": null,
   "id": "9b48158b",
   "metadata": {},
   "outputs": [],
   "source": [
    "\n",
    "null_hypothesis = \"versicolor petal width is greater than or equal to that of virginica\"\n",
    "alternative_hypothesis = \"versicolor petal width is less than that of virginica\"\n",
    "\n"
   ]
  },
  {
   "cell_type": "code",
   "execution_count": null,
   "id": "df6de373",
   "metadata": {},
   "outputs": [],
   "source": [
    "alpha = .05\n",
    "t, p = scipy.stats.mannwhitneyu(versicolor.petal_width, virginica.petal_width)\n",
    "t, p"
   ]
  },
  {
   "cell_type": "code",
   "execution_count": null,
   "id": "03927d42",
   "metadata": {},
   "outputs": [],
   "source": [
    "if p < alpha:\n",
    "    print(\"We find evidence to reject the null hypothesis that\", null_hypothesis)\n",
    "    print(\"We find evidence evidence to move forward with the understaind that\", alternative_hypothesis)\n",
    "else:\n",
    "    print(\"We fail to reject the null hypothesis\")\n",
    "    print(\"There is no evidence that\", null_hypothesis)"
   ]
  },
  {
   "cell_type": "code",
   "execution_count": null,
   "id": "b355d79e",
   "metadata": {},
   "outputs": [],
   "source": []
  },
  {
   "cell_type": "code",
   "execution_count": null,
   "id": "82f78e03",
   "metadata": {},
   "outputs": [],
   "source": [
    "versicolor.petal_length.var(), virginica.petal_length.var()"
   ]
  },
  {
   "cell_type": "code",
   "execution_count": null,
   "id": "59e3bba5",
   "metadata": {},
   "outputs": [],
   "source": [
    "null_hypothesis = \"versicolor petal length is greater than or equal to that of virginica\"\n",
    "alternative_hypothesis = \"versicolor petal length is less than that of virginica\""
   ]
  },
  {
   "cell_type": "code",
   "execution_count": null,
   "id": "26966b57",
   "metadata": {},
   "outputs": [],
   "source": [
    "alpha = .05\n",
    "t, p = scipy.stats.mannwhitneyu(versicolor.petal_length, virginica.petal_length)\n",
    "t, p"
   ]
  },
  {
   "cell_type": "code",
   "execution_count": null,
   "id": "f688fca7",
   "metadata": {},
   "outputs": [],
   "source": [
    "if p < alpha:\n",
    "    print(\"We find evidence to reject the null hypothesis that\", null_hypothesis)\n",
    "    print(\"We find evidence evidence to move forward with the understaind that\", alternative_hypothesis)\n",
    "else:\n",
    "    print(\"We fail to reject the null hypothesis\")\n",
    "    print(\"There is no evidence that\", null_hypothesis)"
   ]
  },
  {
   "cell_type": "code",
   "execution_count": null,
   "id": "65298f9f",
   "metadata": {},
   "outputs": [],
   "source": [
    "versicolor.sepal_width.var(), virginica.sepal_width.var()"
   ]
  },
  {
   "cell_type": "code",
   "execution_count": null,
   "id": "f0802c47",
   "metadata": {},
   "outputs": [],
   "source": [
    "null_hypothesis = \"versicolor sepal width is greater than or equal to that of virginica\"\n",
    "alternative_hypothesis = \"versicolor sepal width is less than that of virginica\""
   ]
  },
  {
   "cell_type": "code",
   "execution_count": null,
   "id": "bdad2091",
   "metadata": {},
   "outputs": [],
   "source": [
    "alpha = .05\n",
    "t, p = scipy.stats.mannwhitneyu(versicolor.sepal_width, virginica.sepal_width)\n",
    "t, p"
   ]
  },
  {
   "cell_type": "code",
   "execution_count": null,
   "id": "92018a12",
   "metadata": {},
   "outputs": [],
   "source": [
    "if p < alpha:\n",
    "    print(\"We find evidence to reject the null hypothesis that\", null_hypothesis)\n",
    "    print(\"We find evidence evidence to move forward with the understaind that\", alternative_hypothesis)\n",
    "else:\n",
    "    print(\"We fail to reject the null hypothesis\")\n",
    "    print(\"There is no evidence that\", null_hypothesis)"
   ]
  },
  {
   "cell_type": "code",
   "execution_count": null,
   "id": "4e9a5d10",
   "metadata": {},
   "outputs": [],
   "source": [
    "versicolor.sepal_length.var(), virginica.sepal_length.var()"
   ]
  },
  {
   "cell_type": "code",
   "execution_count": null,
   "id": "dce68acc",
   "metadata": {},
   "outputs": [],
   "source": [
    "null_hypothesis = \"versicolor sepal lenght is greater than or equal to that of virginica\"\n",
    "alternative_hypothesis = \"versicolor sepal length is less than that of virginica\""
   ]
  },
  {
   "cell_type": "code",
   "execution_count": null,
   "id": "b5c40798",
   "metadata": {},
   "outputs": [],
   "source": [
    "alpha = .05\n",
    "t, p = scipy.stats.mannwhitneyu(versicolor.sepal_length, virginica.sepal_length)\n",
    "t, p"
   ]
  },
  {
   "cell_type": "code",
   "execution_count": null,
   "id": "6a700b39",
   "metadata": {},
   "outputs": [],
   "source": [
    "if p < alpha:\n",
    "    print(\"We find evidence to reject the null hypothesis that\", null_hypothesis)\n",
    "    print(\"We find evidence evidence to move forward with the understaind that\", alternative_hypothesis)\n",
    "else:\n",
    "    print(\"We fail to reject the null hypothesis\")\n",
    "    print(\"There is no evidence that\", null_hypothesis)"
   ]
  },
  {
   "cell_type": "markdown",
   "id": "e1d8857b",
   "metadata": {},
   "source": [
    "# MULTIVARIATE STATS"
   ]
  },
  {
   "cell_type": "markdown",
   "id": "74ac71c3",
   "metadata": {},
   "source": [
    "### Visualize the interaction of each measurement type with the others using a pairplot (or scatter matrix or something similar) and add color to represent species."
   ]
  },
  {
   "cell_type": "code",
   "execution_count": null,
   "id": "15cd0cdf",
   "metadata": {},
   "outputs": [],
   "source": [
    "sns.pairplot(iris_train, hue = 'species', corner=True)\n",
    "\n",
    "#check out that clear relationship between petal_width and petal_length for each species"
   ]
  },
  {
   "cell_type": "code",
   "execution_count": null,
   "id": "99d190c1",
   "metadata": {},
   "outputs": [],
   "source": [
    "iris_train.sample()"
   ]
  },
  {
   "cell_type": "markdown",
   "id": "6eb10b3e",
   "metadata": {},
   "source": [
    "### Visualize two numeric variables by means of the species. Hint: sns.relplot with hue or col"
   ]
  },
  {
   "cell_type": "code",
   "execution_count": null,
   "id": "dab8fe26",
   "metadata": {},
   "outputs": [],
   "source": [
    "rel = sns.relplot(x='sepal_length', y='sepal_width', data=iris_train, col=\"species\")\n",
    "rel.fig.suptitle('Sepal Length to Sepal Width, column by Species') # One way to title a relplot\n",
    "plt.tight_layout()\n",
    "\n",
    "#notice how we assign the sns graphic to a variable, and use the variable to super title the many graphs"
   ]
  },
  {
   "cell_type": "code",
   "execution_count": null,
   "id": "671dc04c",
   "metadata": {},
   "outputs": [],
   "source": [
    "rel = sns.relplot(x='petal_length', y='petal_width', data=iris_train, col=\"species\")\n",
    "rel.fig.suptitle('Petal Length to Petal Width, column by Species') # One way to title a relplot\n",
    "plt.tight_layout()"
   ]
  },
  {
   "cell_type": "markdown",
   "id": "248f99da",
   "metadata": {},
   "source": [
    "### Create a swarmplot using a melted dataframe of all your numeric variables. The x-axis should be the variable name, the y-axis the measure. Add another dimension using color to represent species. Document takeaways from this visualization."
   ]
  },
  {
   "cell_type": "code",
   "execution_count": null,
   "id": "2f33d657",
   "metadata": {},
   "outputs": [],
   "source": [
    "iris_train.sample()"
   ]
  },
  {
   "cell_type": "code",
   "execution_count": null,
   "id": "6fd96947",
   "metadata": {},
   "outputs": [],
   "source": [
    "iris_melted = iris_train.drop(columns=['species_versicolor', 'species_virginica','sepal_area','petal_area']).melt(id_vars='species')\n",
    "iris_melted"
   ]
  },
  {
   "cell_type": "code",
   "execution_count": null,
   "id": "3fb10b6e",
   "metadata": {},
   "outputs": [],
   "source": [
    "plt.figure(figsize = (10, 8))\n",
    "sns.swarmplot(x='variable', y='value', data=iris_melted, hue = 'species')\n"
   ]
  },
  {
   "cell_type": "code",
   "execution_count": null,
   "id": "d65a9b71",
   "metadata": {},
   "outputs": [],
   "source": [
    "# key takeaways: petal length as an identifier; also petal width. Sepal width not so helpful; sepal length\n",
    "# could help id setosa but not so handy for the other two species"
   ]
  },
  {
   "cell_type": "markdown",
   "id": "d1132c14",
   "metadata": {},
   "source": [
    "### Ask a specific question of the data, such as: is the sepal area signficantly different in virginica compared to setosa? Answer the question through both a plot and using a mann-whitney or t-test. If you use a t-test, be sure assumptions are met (independence, normality, equal variance)."
   ]
  },
  {
   "cell_type": "code",
   "execution_count": null,
   "id": "b3aef65f",
   "metadata": {},
   "outputs": [],
   "source": [
    "iris_train.sample()\n"
   ]
  },
  {
   "cell_type": "code",
   "execution_count": null,
   "id": "f626e6ea",
   "metadata": {},
   "outputs": [],
   "source": [
    "iris_train['sepal_area'] = iris_train.sepal_length * iris_train.sepal_width\n",
    "iris_train['petal_area'] = iris_train.petal_length * iris_train.petal_width\n",
    "\n",
    "\n",
    "iris_train.sample()"
   ]
  },
  {
   "cell_type": "code",
   "execution_count": null,
   "id": "2af24186",
   "metadata": {},
   "outputs": [],
   "source": [
    "iris_train.sepal_area.hist() \n"
   ]
  },
  {
   "cell_type": "code",
   "execution_count": null,
   "id": "028e546b",
   "metadata": {},
   "outputs": [],
   "source": [
    "iris_train.petal_area.hist()"
   ]
  },
  {
   "cell_type": "code",
   "execution_count": null,
   "id": "fa294de8",
   "metadata": {},
   "outputs": [],
   "source": [
    "plt.title(\"Sepal Area Differs Between Species\")\n",
    "sns.barplot(x=\"species\", y=\"sepal_area\", data=iris_train)\n",
    "mean_sepal_area = iris_train.sepal_area.mean()\n",
    "plt.axhline(mean_sepal_area, label=\"Mean Sepal Area\")\n",
    "plt.legend()\n",
    "plt.show()"
   ]
  },
  {
   "cell_type": "code",
   "execution_count": null,
   "id": "fa11bee0",
   "metadata": {},
   "outputs": [],
   "source": [
    "plt.title(\"There Is a Considerable Difference in Petal Area between Species\")\n",
    "sns.barplot(x=\"species\", y=\"petal_area\", data=iris_train)\n",
    "mean_petal_area = iris_train.petal_area.mean()\n",
    "plt.axhline(mean_petal_area, label=\"Mean Petal Area\")\n",
    "plt.legend()\n",
    "plt.show()"
   ]
  },
  {
   "cell_type": "code",
   "execution_count": null,
   "id": "c7536de6",
   "metadata": {},
   "outputs": [],
   "source": [
    "iris_melted = iris_train.drop(columns=['species_versicolor', 'species_virginica']).melt(id_vars='species')\n",
    "plt.figure(figsize = (10, 8))\n",
    "sns.swarmplot(x='variable', y='value', data=iris_melted, hue = 'species')"
   ]
  },
  {
   "cell_type": "code",
   "execution_count": null,
   "id": "bc81d5bd",
   "metadata": {},
   "outputs": [],
   "source": [
    "# sepal area is a terrible indicator of species, as seen above.  \n",
    "# petal area, on the other hand, might be the best.  as good or better than petal length"
   ]
  },
  {
   "cell_type": "code",
   "execution_count": null,
   "id": "573b8f55",
   "metadata": {},
   "outputs": [],
   "source": [
    "virginica = iris_train[iris_train.species == 'virginica']\n",
    "setosa = iris_train[iris_train.species == 'setosa']\n",
    "versicolor = iris_train[iris_train.species == 'versicolor']"
   ]
  },
  {
   "cell_type": "code",
   "execution_count": null,
   "id": "452073c7",
   "metadata": {},
   "outputs": [],
   "source": [
    "versicolor.petal_area.var(), virginica.petal_area.var(), setosa.petal_area.var()"
   ]
  },
  {
   "cell_type": "code",
   "execution_count": null,
   "id": "93d8d4d6",
   "metadata": {},
   "outputs": [],
   "source": [
    "null_hypothesis = \"virginica petal area is less than or equal to that of versicolor\"\n",
    "alternative_hypothesis = \"virginica petal wirea adth is greater than that of versicolor\"\n",
    "\n",
    "alpha = .01\n",
    "t, p = scipy.stats.mannwhitneyu(virginica.petal_area, versicolor.petal_area)\n",
    "\n",
    "print(t,p)\n",
    "\n",
    "if p < alpha:\n",
    "    print(\"We find evidence to reject the null hypothesis that\", null_hypothesis)\n",
    "    print(\"We find evidence evidence to move forward with the understaind that\", alternative_hypothesis)\n",
    "else:\n",
    "    print(\"We fail to reject the null hypothesis\")\n",
    "    print(\"There is no evidence that\", null_hypothesis)"
   ]
  },
  {
   "cell_type": "code",
   "execution_count": null,
   "id": "374fe565",
   "metadata": {},
   "outputs": [],
   "source": [
    "null_hypothesis = \"versicolor petal area is less than or equal to that of setosa\"\n",
    "alternative_hypothesis = \"versicolor petal area is greater than that of setosa\"\n",
    "\n",
    "alpha = .01\n",
    "t, p = scipy.stats.mannwhitneyu(versicolor.petal_area, setosa.petal_area)\n",
    "\n",
    "print(t,p)\n",
    "\n",
    "if p < alpha:\n",
    "    print(\"We find evidence to reject the null hypothesis that\", null_hypothesis)\n",
    "    print(\"We find evidence evidence to move forward with the understaind that\", alternative_hypothesis)\n",
    "else:\n",
    "    print(\"We fail to reject the null hypothesis\")\n",
    "    print(\"There is no evidence that\", null_hypothesis)"
   ]
  },
  {
   "cell_type": "markdown",
   "id": "7d5f6f26",
   "metadata": {},
   "source": [
    "## my theory stated and tested above is that the each respective species has a greater petal area than the previous. alpha was set at .01"
   ]
  },
  {
   "cell_type": "markdown",
   "id": "a3350d46",
   "metadata": {},
   "source": [
    "# Using the Titanic dataset"
   ]
  },
  {
   "cell_type": "markdown",
   "id": "91099df8",
   "metadata": {},
   "source": [
    "### Use the function defined in acquire.py to load the Titanic data."
   ]
  },
  {
   "cell_type": "code",
   "execution_count": 18,
   "id": "2ea93325",
   "metadata": {},
   "outputs": [
    {
     "data": {
      "text/html": [
       "<div>\n",
       "<style scoped>\n",
       "    .dataframe tbody tr th:only-of-type {\n",
       "        vertical-align: middle;\n",
       "    }\n",
       "\n",
       "    .dataframe tbody tr th {\n",
       "        vertical-align: top;\n",
       "    }\n",
       "\n",
       "    .dataframe thead th {\n",
       "        text-align: right;\n",
       "    }\n",
       "</style>\n",
       "<table border=\"1\" class=\"dataframe\">\n",
       "  <thead>\n",
       "    <tr style=\"text-align: right;\">\n",
       "      <th></th>\n",
       "      <th>passenger_id</th>\n",
       "      <th>survived</th>\n",
       "      <th>pclass</th>\n",
       "      <th>sex</th>\n",
       "      <th>age</th>\n",
       "      <th>sibsp</th>\n",
       "      <th>parch</th>\n",
       "      <th>fare</th>\n",
       "      <th>embarked</th>\n",
       "      <th>class</th>\n",
       "      <th>deck</th>\n",
       "      <th>embark_town</th>\n",
       "      <th>alone</th>\n",
       "    </tr>\n",
       "  </thead>\n",
       "  <tbody>\n",
       "    <tr>\n",
       "      <th>0</th>\n",
       "      <td>0</td>\n",
       "      <td>0</td>\n",
       "      <td>3</td>\n",
       "      <td>male</td>\n",
       "      <td>22.0</td>\n",
       "      <td>1</td>\n",
       "      <td>0</td>\n",
       "      <td>7.2500</td>\n",
       "      <td>S</td>\n",
       "      <td>Third</td>\n",
       "      <td>NaN</td>\n",
       "      <td>Southampton</td>\n",
       "      <td>0</td>\n",
       "    </tr>\n",
       "    <tr>\n",
       "      <th>1</th>\n",
       "      <td>1</td>\n",
       "      <td>1</td>\n",
       "      <td>1</td>\n",
       "      <td>female</td>\n",
       "      <td>38.0</td>\n",
       "      <td>1</td>\n",
       "      <td>0</td>\n",
       "      <td>71.2833</td>\n",
       "      <td>C</td>\n",
       "      <td>First</td>\n",
       "      <td>C</td>\n",
       "      <td>Cherbourg</td>\n",
       "      <td>0</td>\n",
       "    </tr>\n",
       "    <tr>\n",
       "      <th>2</th>\n",
       "      <td>2</td>\n",
       "      <td>1</td>\n",
       "      <td>3</td>\n",
       "      <td>female</td>\n",
       "      <td>26.0</td>\n",
       "      <td>0</td>\n",
       "      <td>0</td>\n",
       "      <td>7.9250</td>\n",
       "      <td>S</td>\n",
       "      <td>Third</td>\n",
       "      <td>NaN</td>\n",
       "      <td>Southampton</td>\n",
       "      <td>1</td>\n",
       "    </tr>\n",
       "    <tr>\n",
       "      <th>3</th>\n",
       "      <td>3</td>\n",
       "      <td>1</td>\n",
       "      <td>1</td>\n",
       "      <td>female</td>\n",
       "      <td>35.0</td>\n",
       "      <td>1</td>\n",
       "      <td>0</td>\n",
       "      <td>53.1000</td>\n",
       "      <td>S</td>\n",
       "      <td>First</td>\n",
       "      <td>C</td>\n",
       "      <td>Southampton</td>\n",
       "      <td>0</td>\n",
       "    </tr>\n",
       "    <tr>\n",
       "      <th>4</th>\n",
       "      <td>4</td>\n",
       "      <td>0</td>\n",
       "      <td>3</td>\n",
       "      <td>male</td>\n",
       "      <td>35.0</td>\n",
       "      <td>0</td>\n",
       "      <td>0</td>\n",
       "      <td>8.0500</td>\n",
       "      <td>S</td>\n",
       "      <td>Third</td>\n",
       "      <td>NaN</td>\n",
       "      <td>Southampton</td>\n",
       "      <td>1</td>\n",
       "    </tr>\n",
       "  </tbody>\n",
       "</table>\n",
       "</div>"
      ],
      "text/plain": [
       "   passenger_id  survived  pclass     sex   age  sibsp  parch     fare  \\\n",
       "0             0         0       3    male  22.0      1      0   7.2500   \n",
       "1             1         1       1  female  38.0      1      0  71.2833   \n",
       "2             2         1       3  female  26.0      0      0   7.9250   \n",
       "3             3         1       1  female  35.0      1      0  53.1000   \n",
       "4             4         0       3    male  35.0      0      0   8.0500   \n",
       "\n",
       "  embarked  class deck  embark_town  alone  \n",
       "0        S  Third  NaN  Southampton      0  \n",
       "1        C  First    C    Cherbourg      0  \n",
       "2        S  Third  NaN  Southampton      1  \n",
       "3        S  First    C  Southampton      0  \n",
       "4        S  Third  NaN  Southampton      1  "
      ]
     },
     "execution_count": 18,
     "metadata": {},
     "output_type": "execute_result"
    }
   ],
   "source": [
    "titanic_df = acquire.get_titanic_data()\n",
    "titanic_df.head()"
   ]
  },
  {
   "cell_type": "code",
   "execution_count": null,
   "id": "3a8163a1",
   "metadata": {},
   "outputs": [],
   "source": []
  },
  {
   "cell_type": "code",
   "execution_count": null,
   "id": "ecec7424",
   "metadata": {},
   "outputs": [],
   "source": []
  },
  {
   "cell_type": "markdown",
   "id": "213cd4ea",
   "metadata": {},
   "source": [
    "### Drop any unnecessary, unhelpful, or duplicated columns."
   ]
  },
  {
   "cell_type": "code",
   "execution_count": 19,
   "id": "4a83dae4",
   "metadata": {},
   "outputs": [],
   "source": [
    "titanic_df = prepare.clean_data(titanic_df)"
   ]
  },
  {
   "cell_type": "code",
   "execution_count": 20,
   "id": "b964675a",
   "metadata": {},
   "outputs": [
    {
     "data": {
      "text/html": [
       "<div>\n",
       "<style scoped>\n",
       "    .dataframe tbody tr th:only-of-type {\n",
       "        vertical-align: middle;\n",
       "    }\n",
       "\n",
       "    .dataframe tbody tr th {\n",
       "        vertical-align: top;\n",
       "    }\n",
       "\n",
       "    .dataframe thead th {\n",
       "        text-align: right;\n",
       "    }\n",
       "</style>\n",
       "<table border=\"1\" class=\"dataframe\">\n",
       "  <thead>\n",
       "    <tr style=\"text-align: right;\">\n",
       "      <th></th>\n",
       "      <th>passenger_id</th>\n",
       "      <th>survived</th>\n",
       "      <th>pclass</th>\n",
       "      <th>sex</th>\n",
       "      <th>age</th>\n",
       "      <th>sibsp</th>\n",
       "      <th>parch</th>\n",
       "      <th>fare</th>\n",
       "      <th>embark_town</th>\n",
       "      <th>alone</th>\n",
       "      <th>sex_male</th>\n",
       "      <th>embark_town_Queenstown</th>\n",
       "      <th>embark_town_Southampton</th>\n",
       "    </tr>\n",
       "  </thead>\n",
       "  <tbody>\n",
       "    <tr>\n",
       "      <th>0</th>\n",
       "      <td>0</td>\n",
       "      <td>0</td>\n",
       "      <td>3</td>\n",
       "      <td>male</td>\n",
       "      <td>22.0</td>\n",
       "      <td>1</td>\n",
       "      <td>0</td>\n",
       "      <td>7.2500</td>\n",
       "      <td>Southampton</td>\n",
       "      <td>0</td>\n",
       "      <td>1</td>\n",
       "      <td>0</td>\n",
       "      <td>1</td>\n",
       "    </tr>\n",
       "    <tr>\n",
       "      <th>1</th>\n",
       "      <td>1</td>\n",
       "      <td>1</td>\n",
       "      <td>1</td>\n",
       "      <td>female</td>\n",
       "      <td>38.0</td>\n",
       "      <td>1</td>\n",
       "      <td>0</td>\n",
       "      <td>71.2833</td>\n",
       "      <td>Cherbourg</td>\n",
       "      <td>0</td>\n",
       "      <td>0</td>\n",
       "      <td>0</td>\n",
       "      <td>0</td>\n",
       "    </tr>\n",
       "    <tr>\n",
       "      <th>2</th>\n",
       "      <td>2</td>\n",
       "      <td>1</td>\n",
       "      <td>3</td>\n",
       "      <td>female</td>\n",
       "      <td>26.0</td>\n",
       "      <td>0</td>\n",
       "      <td>0</td>\n",
       "      <td>7.9250</td>\n",
       "      <td>Southampton</td>\n",
       "      <td>1</td>\n",
       "      <td>0</td>\n",
       "      <td>0</td>\n",
       "      <td>1</td>\n",
       "    </tr>\n",
       "    <tr>\n",
       "      <th>3</th>\n",
       "      <td>3</td>\n",
       "      <td>1</td>\n",
       "      <td>1</td>\n",
       "      <td>female</td>\n",
       "      <td>35.0</td>\n",
       "      <td>1</td>\n",
       "      <td>0</td>\n",
       "      <td>53.1000</td>\n",
       "      <td>Southampton</td>\n",
       "      <td>0</td>\n",
       "      <td>0</td>\n",
       "      <td>0</td>\n",
       "      <td>1</td>\n",
       "    </tr>\n",
       "    <tr>\n",
       "      <th>4</th>\n",
       "      <td>4</td>\n",
       "      <td>0</td>\n",
       "      <td>3</td>\n",
       "      <td>male</td>\n",
       "      <td>35.0</td>\n",
       "      <td>0</td>\n",
       "      <td>0</td>\n",
       "      <td>8.0500</td>\n",
       "      <td>Southampton</td>\n",
       "      <td>1</td>\n",
       "      <td>1</td>\n",
       "      <td>0</td>\n",
       "      <td>1</td>\n",
       "    </tr>\n",
       "  </tbody>\n",
       "</table>\n",
       "</div>"
      ],
      "text/plain": [
       "   passenger_id  survived  pclass     sex   age  sibsp  parch     fare  \\\n",
       "0             0         0       3    male  22.0      1      0   7.2500   \n",
       "1             1         1       1  female  38.0      1      0  71.2833   \n",
       "2             2         1       3  female  26.0      0      0   7.9250   \n",
       "3             3         1       1  female  35.0      1      0  53.1000   \n",
       "4             4         0       3    male  35.0      0      0   8.0500   \n",
       "\n",
       "   embark_town  alone  sex_male  embark_town_Queenstown  \\\n",
       "0  Southampton      0         1                       0   \n",
       "1    Cherbourg      0         0                       0   \n",
       "2  Southampton      1         0                       0   \n",
       "3  Southampton      0         0                       0   \n",
       "4  Southampton      1         1                       0   \n",
       "\n",
       "   embark_town_Southampton  \n",
       "0                        1  \n",
       "1                        0  \n",
       "2                        1  \n",
       "3                        1  \n",
       "4                        1  "
      ]
     },
     "execution_count": 20,
     "metadata": {},
     "output_type": "execute_result"
    }
   ],
   "source": [
    "titanic_df.head()"
   ]
  },
  {
   "cell_type": "markdown",
   "id": "def4a0f5",
   "metadata": {},
   "source": [
    "### Encode the categorical columns. Create dummy variables of the categorical columns and concatenate them onto the dataframe."
   ]
  },
  {
   "cell_type": "code",
   "execution_count": 21,
   "id": "3205b2ae",
   "metadata": {},
   "outputs": [],
   "source": [
    "#whoops already did that in the step above"
   ]
  },
  {
   "cell_type": "code",
   "execution_count": null,
   "id": "db0e5886",
   "metadata": {},
   "outputs": [],
   "source": []
  },
  {
   "cell_type": "code",
   "execution_count": null,
   "id": "93ac1e81",
   "metadata": {},
   "outputs": [],
   "source": []
  },
  {
   "cell_type": "markdown",
   "id": "70a846fa",
   "metadata": {},
   "source": [
    "### Create a function named prep_titanic that accepts the raw titanic data, and returns the data with the transformations above applied."
   ]
  },
  {
   "cell_type": "code",
   "execution_count": 22,
   "id": "dd561c81",
   "metadata": {},
   "outputs": [],
   "source": [
    "def prep_titanic(titanic_df):\n",
    "    '''\n",
    "    This function will clean the data etc etc...\n",
    "    '''\n",
    "    \n",
    "    titanic_df = titanic_df.drop_duplicates()\n",
    "    cols_to_drop = ['deck', 'embarked', 'class']\n",
    "    titanic_df = titanic_df.drop(columns = cols_to_drop)\n",
    "    titanic_df['embark_town'] = titanic_df.embark_town.fillna(value='Southampton')\n",
    "    dummy_df = pd.get_dummies(titanic_df[['sex', 'embark_town']], dummy_na=False, drop_first=[True,True])\n",
    "    titanic_df = pd.concat([titanic_df, dummy_df], axis = 1)\n",
    "    return titanic_df"
   ]
  },
  {
   "cell_type": "code",
   "execution_count": 23,
   "id": "f23d67e9",
   "metadata": {},
   "outputs": [
    {
     "data": {
      "text/html": [
       "<div>\n",
       "<style scoped>\n",
       "    .dataframe tbody tr th:only-of-type {\n",
       "        vertical-align: middle;\n",
       "    }\n",
       "\n",
       "    .dataframe tbody tr th {\n",
       "        vertical-align: top;\n",
       "    }\n",
       "\n",
       "    .dataframe thead th {\n",
       "        text-align: right;\n",
       "    }\n",
       "</style>\n",
       "<table border=\"1\" class=\"dataframe\">\n",
       "  <thead>\n",
       "    <tr style=\"text-align: right;\">\n",
       "      <th></th>\n",
       "      <th>passenger_id</th>\n",
       "      <th>survived</th>\n",
       "      <th>pclass</th>\n",
       "      <th>sex</th>\n",
       "      <th>age</th>\n",
       "      <th>sibsp</th>\n",
       "      <th>parch</th>\n",
       "      <th>fare</th>\n",
       "      <th>embarked</th>\n",
       "      <th>class</th>\n",
       "      <th>deck</th>\n",
       "      <th>embark_town</th>\n",
       "      <th>alone</th>\n",
       "    </tr>\n",
       "  </thead>\n",
       "  <tbody>\n",
       "    <tr>\n",
       "      <th>0</th>\n",
       "      <td>0</td>\n",
       "      <td>0</td>\n",
       "      <td>3</td>\n",
       "      <td>male</td>\n",
       "      <td>22.0</td>\n",
       "      <td>1</td>\n",
       "      <td>0</td>\n",
       "      <td>7.2500</td>\n",
       "      <td>S</td>\n",
       "      <td>Third</td>\n",
       "      <td>NaN</td>\n",
       "      <td>Southampton</td>\n",
       "      <td>0</td>\n",
       "    </tr>\n",
       "    <tr>\n",
       "      <th>1</th>\n",
       "      <td>1</td>\n",
       "      <td>1</td>\n",
       "      <td>1</td>\n",
       "      <td>female</td>\n",
       "      <td>38.0</td>\n",
       "      <td>1</td>\n",
       "      <td>0</td>\n",
       "      <td>71.2833</td>\n",
       "      <td>C</td>\n",
       "      <td>First</td>\n",
       "      <td>C</td>\n",
       "      <td>Cherbourg</td>\n",
       "      <td>0</td>\n",
       "    </tr>\n",
       "    <tr>\n",
       "      <th>2</th>\n",
       "      <td>2</td>\n",
       "      <td>1</td>\n",
       "      <td>3</td>\n",
       "      <td>female</td>\n",
       "      <td>26.0</td>\n",
       "      <td>0</td>\n",
       "      <td>0</td>\n",
       "      <td>7.9250</td>\n",
       "      <td>S</td>\n",
       "      <td>Third</td>\n",
       "      <td>NaN</td>\n",
       "      <td>Southampton</td>\n",
       "      <td>1</td>\n",
       "    </tr>\n",
       "    <tr>\n",
       "      <th>3</th>\n",
       "      <td>3</td>\n",
       "      <td>1</td>\n",
       "      <td>1</td>\n",
       "      <td>female</td>\n",
       "      <td>35.0</td>\n",
       "      <td>1</td>\n",
       "      <td>0</td>\n",
       "      <td>53.1000</td>\n",
       "      <td>S</td>\n",
       "      <td>First</td>\n",
       "      <td>C</td>\n",
       "      <td>Southampton</td>\n",
       "      <td>0</td>\n",
       "    </tr>\n",
       "    <tr>\n",
       "      <th>4</th>\n",
       "      <td>4</td>\n",
       "      <td>0</td>\n",
       "      <td>3</td>\n",
       "      <td>male</td>\n",
       "      <td>35.0</td>\n",
       "      <td>0</td>\n",
       "      <td>0</td>\n",
       "      <td>8.0500</td>\n",
       "      <td>S</td>\n",
       "      <td>Third</td>\n",
       "      <td>NaN</td>\n",
       "      <td>Southampton</td>\n",
       "      <td>1</td>\n",
       "    </tr>\n",
       "  </tbody>\n",
       "</table>\n",
       "</div>"
      ],
      "text/plain": [
       "   passenger_id  survived  pclass     sex   age  sibsp  parch     fare  \\\n",
       "0             0         0       3    male  22.0      1      0   7.2500   \n",
       "1             1         1       1  female  38.0      1      0  71.2833   \n",
       "2             2         1       3  female  26.0      0      0   7.9250   \n",
       "3             3         1       1  female  35.0      1      0  53.1000   \n",
       "4             4         0       3    male  35.0      0      0   8.0500   \n",
       "\n",
       "  embarked  class deck  embark_town  alone  \n",
       "0        S  Third  NaN  Southampton      0  \n",
       "1        C  First    C    Cherbourg      0  \n",
       "2        S  Third  NaN  Southampton      1  \n",
       "3        S  First    C  Southampton      0  \n",
       "4        S  Third  NaN  Southampton      1  "
      ]
     },
     "execution_count": 23,
     "metadata": {},
     "output_type": "execute_result"
    }
   ],
   "source": [
    "titanic_df = acquire.get_titanic_data()\n",
    "titanic_df.head()"
   ]
  },
  {
   "cell_type": "code",
   "execution_count": 24,
   "id": "d48fabb9",
   "metadata": {},
   "outputs": [
    {
     "data": {
      "text/html": [
       "<div>\n",
       "<style scoped>\n",
       "    .dataframe tbody tr th:only-of-type {\n",
       "        vertical-align: middle;\n",
       "    }\n",
       "\n",
       "    .dataframe tbody tr th {\n",
       "        vertical-align: top;\n",
       "    }\n",
       "\n",
       "    .dataframe thead th {\n",
       "        text-align: right;\n",
       "    }\n",
       "</style>\n",
       "<table border=\"1\" class=\"dataframe\">\n",
       "  <thead>\n",
       "    <tr style=\"text-align: right;\">\n",
       "      <th></th>\n",
       "      <th>passenger_id</th>\n",
       "      <th>survived</th>\n",
       "      <th>pclass</th>\n",
       "      <th>sex</th>\n",
       "      <th>age</th>\n",
       "      <th>sibsp</th>\n",
       "      <th>parch</th>\n",
       "      <th>fare</th>\n",
       "      <th>embark_town</th>\n",
       "      <th>alone</th>\n",
       "      <th>sex_male</th>\n",
       "      <th>embark_town_Queenstown</th>\n",
       "      <th>embark_town_Southampton</th>\n",
       "    </tr>\n",
       "  </thead>\n",
       "  <tbody>\n",
       "    <tr>\n",
       "      <th>0</th>\n",
       "      <td>0</td>\n",
       "      <td>0</td>\n",
       "      <td>3</td>\n",
       "      <td>male</td>\n",
       "      <td>22.0</td>\n",
       "      <td>1</td>\n",
       "      <td>0</td>\n",
       "      <td>7.2500</td>\n",
       "      <td>Southampton</td>\n",
       "      <td>0</td>\n",
       "      <td>1</td>\n",
       "      <td>0</td>\n",
       "      <td>1</td>\n",
       "    </tr>\n",
       "    <tr>\n",
       "      <th>1</th>\n",
       "      <td>1</td>\n",
       "      <td>1</td>\n",
       "      <td>1</td>\n",
       "      <td>female</td>\n",
       "      <td>38.0</td>\n",
       "      <td>1</td>\n",
       "      <td>0</td>\n",
       "      <td>71.2833</td>\n",
       "      <td>Cherbourg</td>\n",
       "      <td>0</td>\n",
       "      <td>0</td>\n",
       "      <td>0</td>\n",
       "      <td>0</td>\n",
       "    </tr>\n",
       "    <tr>\n",
       "      <th>2</th>\n",
       "      <td>2</td>\n",
       "      <td>1</td>\n",
       "      <td>3</td>\n",
       "      <td>female</td>\n",
       "      <td>26.0</td>\n",
       "      <td>0</td>\n",
       "      <td>0</td>\n",
       "      <td>7.9250</td>\n",
       "      <td>Southampton</td>\n",
       "      <td>1</td>\n",
       "      <td>0</td>\n",
       "      <td>0</td>\n",
       "      <td>1</td>\n",
       "    </tr>\n",
       "    <tr>\n",
       "      <th>3</th>\n",
       "      <td>3</td>\n",
       "      <td>1</td>\n",
       "      <td>1</td>\n",
       "      <td>female</td>\n",
       "      <td>35.0</td>\n",
       "      <td>1</td>\n",
       "      <td>0</td>\n",
       "      <td>53.1000</td>\n",
       "      <td>Southampton</td>\n",
       "      <td>0</td>\n",
       "      <td>0</td>\n",
       "      <td>0</td>\n",
       "      <td>1</td>\n",
       "    </tr>\n",
       "    <tr>\n",
       "      <th>4</th>\n",
       "      <td>4</td>\n",
       "      <td>0</td>\n",
       "      <td>3</td>\n",
       "      <td>male</td>\n",
       "      <td>35.0</td>\n",
       "      <td>0</td>\n",
       "      <td>0</td>\n",
       "      <td>8.0500</td>\n",
       "      <td>Southampton</td>\n",
       "      <td>1</td>\n",
       "      <td>1</td>\n",
       "      <td>0</td>\n",
       "      <td>1</td>\n",
       "    </tr>\n",
       "  </tbody>\n",
       "</table>\n",
       "</div>"
      ],
      "text/plain": [
       "   passenger_id  survived  pclass     sex   age  sibsp  parch     fare  \\\n",
       "0             0         0       3    male  22.0      1      0   7.2500   \n",
       "1             1         1       1  female  38.0      1      0  71.2833   \n",
       "2             2         1       3  female  26.0      0      0   7.9250   \n",
       "3             3         1       1  female  35.0      1      0  53.1000   \n",
       "4             4         0       3    male  35.0      0      0   8.0500   \n",
       "\n",
       "   embark_town  alone  sex_male  embark_town_Queenstown  \\\n",
       "0  Southampton      0         1                       0   \n",
       "1    Cherbourg      0         0                       0   \n",
       "2  Southampton      1         0                       0   \n",
       "3  Southampton      0         0                       0   \n",
       "4  Southampton      1         1                       0   \n",
       "\n",
       "   embark_town_Southampton  \n",
       "0                        1  \n",
       "1                        0  \n",
       "2                        1  \n",
       "3                        1  \n",
       "4                        1  "
      ]
     },
     "execution_count": 24,
     "metadata": {},
     "output_type": "execute_result"
    }
   ],
   "source": [
    "titanic_df = prep_titanic(titanic_df)\n",
    "titanic_df.head()"
   ]
  },
  {
   "cell_type": "code",
   "execution_count": 25,
   "id": "384d7c62",
   "metadata": {},
   "outputs": [],
   "source": [
    "def train_validate_test_split(df, target, seed=123):\n",
    "    '''\n",
    "    This function takes in a dataframe, the name of the target variable\n",
    "    (for stratification purposes), and an integer for a setting a seed\n",
    "    and splits the data into train, validate and test. \n",
    "    Test is 20% of the original dataset, validate is .30*.80= 24% of the \n",
    "    original dataset, and train is .70*.80= 56% of the original dataset. \n",
    "    The function returns, in this order, train, validate and test dataframes. \n",
    "    '''\n",
    "    train_validate, titanic_test = train_test_split(df, test_size=0.2, \n",
    "                                            random_state=seed, \n",
    "                                            stratify=df[target])\n",
    "    titanic_train, titanic_validate = train_test_split(train_validate, test_size=0.3, \n",
    "                                       random_state=seed,\n",
    "                                       stratify=train_validate[target])\n",
    "    return titanic_train, titanic_validate, titanic_test"
   ]
  },
  {
   "cell_type": "code",
   "execution_count": 26,
   "id": "d4f09a13",
   "metadata": {},
   "outputs": [
    {
     "data": {
      "text/plain": [
       "((498, 13), (214, 13), (179, 13))"
      ]
     },
     "execution_count": 26,
     "metadata": {},
     "output_type": "execute_result"
    }
   ],
   "source": [
    "titanic_train, titanic_validate, titanic_test = train_validate_test_split(titanic_df, target='survived')\n",
    "titanic_train.shape, titanic_validate.shape, titanic_test.shape"
   ]
  },
  {
   "cell_type": "code",
   "execution_count": 27,
   "id": "a331de2c",
   "metadata": {},
   "outputs": [
    {
     "data": {
      "image/png": "[encoded data removed]",
      "text/plain": [
       "<Figure size 432x288 with 1 Axes>"
      ]
     },
     "metadata": {
      "needs_background": "light"
     },
     "output_type": "display_data"
    }
   ],
   "source": [
    "plt.title(\"Most passengers did not survive\")\n",
    "titanic_train.survived.hist()\n",
    "plt.show()\n",
    "\n"
   ]
  },
  {
   "cell_type": "code",
   "execution_count": 28,
   "id": "8c6c2c12",
   "metadata": {},
   "outputs": [
    {
     "name": "stdout",
     "output_type": "stream",
     "text": [
      "Percent survived from titanic_train\n"
     ]
    },
    {
     "data": {
      "text/plain": [
       "0.384"
      ]
     },
     "execution_count": 28,
     "metadata": {},
     "output_type": "execute_result"
    }
   ],
   "source": [
    "# We can call .mean() since 0 and 1 are numeric\n",
    "print(\"Percent survived from titanic_train\")\n",
    "round(titanic_train.survived.mean(), 3)"
   ]
  },
  {
   "cell_type": "code",
   "execution_count": 29,
   "id": "5c61d993",
   "metadata": {},
   "outputs": [
    {
     "data": {
      "image/png": "[encoded data removed]",
      "text/plain": [
       "<Figure size 432x288 with 1 Axes>"
      ]
     },
     "metadata": {
      "needs_background": "light"
     },
     "output_type": "display_data"
    }
   ],
   "source": [
    "plt.title(\"Nearly as many 3rd class passengers as 1st and 2nd\")\n",
    "titanic_train.pclass.hist()\n",
    "plt.show()"
   ]
  },
  {
   "cell_type": "code",
   "execution_count": 30,
   "id": "652b62ff",
   "metadata": {},
   "outputs": [
    {
     "data": {
      "image/png": "[encoded data removed]",
      "text/plain": [
       "<Figure size 432x288 with 1 Axes>"
      ]
     },
     "metadata": {
      "needs_background": "light"
     },
     "output_type": "display_data"
    }
   ],
   "source": [
    "plt.title(\"Distribution of Ages\")\n",
    "titanic_train.age.hist()\n",
    "plt.show()"
   ]
  },
  {
   "cell_type": "code",
   "execution_count": 31,
   "id": "d0ddc0ea",
   "metadata": {},
   "outputs": [
    {
     "data": {
      "text/html": [
       "<div>\n",
       "<style scoped>\n",
       "    .dataframe tbody tr th:only-of-type {\n",
       "        vertical-align: middle;\n",
       "    }\n",
       "\n",
       "    .dataframe tbody tr th {\n",
       "        vertical-align: top;\n",
       "    }\n",
       "\n",
       "    .dataframe thead th {\n",
       "        text-align: right;\n",
       "    }\n",
       "</style>\n",
       "<table border=\"1\" class=\"dataframe\">\n",
       "  <thead>\n",
       "    <tr style=\"text-align: right;\">\n",
       "      <th></th>\n",
       "      <th>passenger_id</th>\n",
       "      <th>survived</th>\n",
       "      <th>pclass</th>\n",
       "      <th>sex</th>\n",
       "      <th>age</th>\n",
       "      <th>sibsp</th>\n",
       "      <th>parch</th>\n",
       "      <th>fare</th>\n",
       "      <th>embark_town</th>\n",
       "      <th>alone</th>\n",
       "      <th>sex_male</th>\n",
       "      <th>embark_town_Queenstown</th>\n",
       "      <th>embark_town_Southampton</th>\n",
       "    </tr>\n",
       "  </thead>\n",
       "  <tbody>\n",
       "    <tr>\n",
       "      <th>688</th>\n",
       "      <td>688</td>\n",
       "      <td>0</td>\n",
       "      <td>3</td>\n",
       "      <td>male</td>\n",
       "      <td>18.0</td>\n",
       "      <td>0</td>\n",
       "      <td>0</td>\n",
       "      <td>7.7958</td>\n",
       "      <td>Southampton</td>\n",
       "      <td>1</td>\n",
       "      <td>1</td>\n",
       "      <td>0</td>\n",
       "      <td>1</td>\n",
       "    </tr>\n",
       "  </tbody>\n",
       "</table>\n",
       "</div>"
      ],
      "text/plain": [
       "     passenger_id  survived  pclass   sex   age  sibsp  parch    fare  \\\n",
       "688           688         0       3  male  18.0      0      0  7.7958   \n",
       "\n",
       "     embark_town  alone  sex_male  embark_town_Queenstown  \\\n",
       "688  Southampton      1         1                       0   \n",
       "\n",
       "     embark_town_Southampton  \n",
       "688                        1  "
      ]
     },
     "execution_count": 31,
     "metadata": {},
     "output_type": "execute_result"
    }
   ],
   "source": [
    "titanic_train.sample()"
   ]
  },
  {
   "cell_type": "code",
   "execution_count": 32,
   "id": "a5a40c13",
   "metadata": {},
   "outputs": [
    {
     "data": {
      "image/png": "[encoded data removed]",
      "text/plain": [
       "<Figure size 432x288 with 1 Axes>"
      ]
     },
     "metadata": {
      "needs_background": "light"
     },
     "output_type": "display_data"
    }
   ],
   "source": [
    "plt.title(\"Fare has very few but extreme outliers\")\n",
    "titanic_train.fare.hist()\n",
    "plt.show()"
   ]
  },
  {
   "cell_type": "code",
   "execution_count": 33,
   "id": "8c1604f8",
   "metadata": {},
   "outputs": [],
   "source": [
    "## are we going to have to deal with those outlying fares?\n"
   ]
  },
  {
   "cell_type": "markdown",
   "id": "670db586",
   "metadata": {},
   "source": [
    "# next, bivariate\n",
    "\n",
    "## if you use y/n (1/0) for the y axis, you're basically giving yourself the percentage.  take note below"
   ]
  },
  {
   "cell_type": "code",
   "execution_count": 34,
   "id": "6023f1b0",
   "metadata": {},
   "outputs": [
    {
     "data": {
      "image/png": "[encoded data removed]",
      "text/plain": [
       "<Figure size 432x288 with 1 Axes>"
      ]
     },
     "metadata": {
      "needs_background": "light"
     },
     "output_type": "display_data"
    }
   ],
   "source": [
    "plt.title(\"It pays to travel first and second class\")\n",
    "sns.barplot(x=\"pclass\", y=\"survived\", data=titanic_train)\n",
    "population_survival_rate = titanic_train.survived.mean()\n",
    "plt.axhline(population_survival_rate, label=\"Population survival rate\")\n",
    "plt.legend()\n",
    "plt.show()"
   ]
  },
  {
   "cell_type": "code",
   "execution_count": 40,
   "id": "3f541250",
   "metadata": {},
   "outputs": [],
   "source": [
    "### hypothesis test immediately following, for thoroughness's sake:\n",
    "from scipy import stats"
   ]
  },
  {
   "cell_type": "code",
   "execution_count": 41,
   "id": "609a749d",
   "metadata": {},
   "outputs": [
    {
     "name": "stdout",
     "output_type": "stream",
     "text": [
      "Reject the null hypothesis that survival and class of ticket are independent\n",
      "Sufficient evidence to move forward understanding that there is a relationship between class of ticket and survival\n"
     ]
    }
   ],
   "source": [
    "# The above visual is quite clear, but if it was less clear or we want more certainty, we'll run a hypothesis test\n",
    "# Let's run a chi squared to compare proportions, to have more confidence\n",
    "alpha = 0.05\n",
    "null_hypothesis = \"survival and class of ticket are independent\"\n",
    "alternative_hypothesis = \"there is a relationship between class of ticket and survival\"\n",
    "\n",
    "# Setup a crosstab of observed survival to pclass\n",
    "observed = pd.crosstab(titanic_train.survived, titanic_train.pclass)\n",
    "\n",
    "chi2, p, degf, expected = stats.chi2_contingency(observed)\n",
    "\n",
    "if p < alpha:\n",
    "    print(\"Reject the null hypothesis that\", null_hypothesis)\n",
    "    print(\"Sufficient evidence to move forward understanding that\", alternative_hypothesis)\n",
    "else:\n",
    "    print(\"Fail to reject the null\")\n",
    "    print(\"Insufficient evidence to reject the null\")"
   ]
  },
  {
   "cell_type": "code",
   "execution_count": 42,
   "id": "7ad86a58",
   "metadata": {},
   "outputs": [
    {
     "data": {
      "image/png": "[encoded data removed]",
      "text/plain": [
       "<Figure size 432x288 with 1 Axes>"
      ]
     },
     "metadata": {
      "needs_background": "light"
     },
     "output_type": "display_data"
    }
   ],
   "source": [
    "plt.title(\"Better not travel alone.\")\n",
    "sns.barplot(x=\"alone\", y=\"survived\", data=titanic_train)\n",
    "population_survival_rate = titanic_train.survived.mean()\n",
    "plt.axhline(population_survival_rate, label=\"Population survival rate\")\n",
    "plt.legend()\n",
    "plt.show()"
   ]
  },
  {
   "cell_type": "code",
   "execution_count": 43,
   "id": "433fc967",
   "metadata": {},
   "outputs": [
    {
     "name": "stdout",
     "output_type": "stream",
     "text": [
      "Reject the null hypothesis that survival and traveling alone are independent\n",
      "Sufficient evidence to move forward understanding that there is a relationship between survival and traveling alone\n"
     ]
    }
   ],
   "source": [
    "# If the visual was unclear or we need more confirmation, run a hypothesis test\n",
    "# Let's run a chi squared to compare proportions\n",
    "alpha = 0.05\n",
    "null_hypothesis = \"survival and traveling alone are independent\"\n",
    "alternative_hypothesis = \"there is a relationship between survival and traveling alone\"\n",
    "\n",
    "# Setup a crosstab of observed survival to pclass\n",
    "observed = pd.crosstab(titanic_train.survived, titanic_train.alone)\n",
    "\n",
    "chi2, p, degf, expected = stats.chi2_contingency(observed)\n",
    "\n",
    "if p < alpha:\n",
    "    print(\"Reject the null hypothesis that\", null_hypothesis)\n",
    "    print(\"Sufficient evidence to move forward understanding that\", alternative_hypothesis)\n",
    "else:\n",
    "    print(\"Fail to reject the null\")\n",
    "    print(\"Insufficient evidence to reject the null\")"
   ]
  },
  {
   "cell_type": "code",
   "execution_count": 51,
   "id": "f71729db",
   "metadata": {},
   "outputs": [
    {
     "data": {
      "image/png": "[encoded data removed]",
      "text/plain": [
       "<Figure size 432x288 with 1 Axes>"
      ]
     },
     "metadata": {
      "needs_background": "light"
     },
     "output_type": "display_data"
    }
   ],
   "source": [
    "plt.title(\"Women more likely to survive\")\n",
    "sns.barplot(x='sex_male', y=\"survived\", data=titanic_train)\n",
    "population_survival_rate = titanic_train.survived.mean()\n",
    "plt.axhline(population_survival_rate, label=\"Population survival rate\")\n",
    "plt.legend()\n",
    "plt.show()"
   ]
  },
  {
   "cell_type": "code",
   "execution_count": 53,
   "id": "d5a2fda6",
   "metadata": {},
   "outputs": [
    {
     "name": "stdout",
     "output_type": "stream",
     "text": [
      "Reject the null hypothesis that survival and gender are independent\n",
      "Sufficient evidence to move forward understanding that there is a relationship between survival and gender\n"
     ]
    }
   ],
   "source": [
    "# Let's run a chi squared to compare proportions, to have more confidence\n",
    "alpha = 0.05\n",
    "\n",
    "null_hypothesis = \"survival and gender are independent\"\n",
    "alternative_hypothesis = \"there is a relationship between survival and gender\"\n",
    "\n",
    "# Setup a crosstab of observed survival to pclass\n",
    "observed = pd.crosstab(titanic_train.survived, titanic_train.sex_male)\n",
    "\n",
    "chi2, p, degf, expected = stats.chi2_contingency(observed)\n",
    "\n",
    "if p < alpha:\n",
    "    print(\"Reject the null hypothesis that\", null_hypothesis)\n",
    "    print(\"Sufficient evidence to move forward understanding that\", alternative_hypothesis)\n",
    "else:\n",
    "    print(\"Fail to reject the null\")\n",
    "    print(\"Insufficient evidence to reject the null\")"
   ]
  },
  {
   "cell_type": "markdown",
   "id": "c9fc7e23",
   "metadata": {},
   "source": [
    "## numeric vs categorical\n",
    "\n",
    "H\n",
    "0\n",
    ": Survived passenger fares cost less than or equal to non-surviving passenger fare\n",
    "\n",
    "H\n",
    "a\n",
    ": Surviving passenger fares cost more than non-surviving passenger fares"
   ]
  },
  {
   "cell_type": "code",
   "execution_count": 54,
   "id": "1169311c",
   "metadata": {},
   "outputs": [],
   "source": [
    "not_survived = titanic_train[titanic_train.survived == 0]\n",
    "survived = titanic_train[titanic_train.survived == 1]"
   ]
  },
  {
   "cell_type": "code",
   "execution_count": 55,
   "id": "3e473dad",
   "metadata": {},
   "outputs": [
    {
     "data": {
      "text/plain": [
       "(1147.9409071240707, 3687.77476607355)"
      ]
     },
     "execution_count": 55,
     "metadata": {},
     "output_type": "execute_result"
    }
   ],
   "source": [
    "not_survived.fare.var(), survived.fare.var()"
   ]
  },
  {
   "cell_type": "code",
   "execution_count": 56,
   "id": "4a5d7b94",
   "metadata": {},
   "outputs": [
    {
     "data": {
      "image/png": "[encoded data removed]",
      "text/plain": [
       "<Figure size 432x288 with 1 Axes>"
      ]
     },
     "metadata": {
      "needs_background": "light"
     },
     "output_type": "display_data"
    }
   ],
   "source": [
    "plt.title(\"What's the relationship of fare and survival?\")\n",
    "plt.hist(survived.fare, label=\"survived\")\n",
    "plt.hist(not_survived.fare, label=\"perished\")\n",
    "plt.legend()\n",
    "plt.show()\n",
    "\n",
    "#plain matplotlib\n",
    "# the story is unclear from the visual, so a hypothesis test should be run"
   ]
  },
  {
   "cell_type": "code",
   "execution_count": 57,
   "id": "3d46ceed",
   "metadata": {},
   "outputs": [],
   "source": [
    "null_hypothesis = \"fares paid by survived passengers are less than or equal to fares paid by non-surviving passengers\"\n",
    "alternative_hypothesis = \"fares paid by surviving passengers are higher than non-surviving passengers\"\n",
    "\n",
    "# Use Mann Whitney u-test when t-test assumptions do not hold.\n",
    "# The distributions are not normal and the variances are not equal, so we'll do mann-whitney\n",
    "t, p = stats.mannwhitneyu(survived.fare, not_survived.fare, alternative=\"greater\")\n",
    "# alternative argument handles the directionality. b/c of this argument, we don't have to check if t is + or -"
   ]
  },
  {
   "cell_type": "code",
   "execution_count": 58,
   "id": "2f17f798",
   "metadata": {},
   "outputs": [
    {
     "name": "stdout",
     "output_type": "stream",
     "text": [
      "We find evidence to reject the null hypothesis that fares paid by survived passengers are less than or equal to fares paid by non-surviving passengers\n",
      "We find evidence evidence to move forward with the understaind that fares paid by surviving passengers are higher than non-surviving passengers\n"
     ]
    }
   ],
   "source": [
    "if p < alpha:\n",
    "    print(\"We find evidence to reject the null hypothesis that\", null_hypothesis)\n",
    "    print(\"We find evidence evidence to move forward with the understaind that\", alternative_hypothesis)\n",
    "else:\n",
    "    print(\"We fail to reject the null hypothesis\")\n",
    "    print(\"There is no evidence that\", null_hypothesis)"
   ]
  },
  {
   "cell_type": "markdown",
   "id": "f6f19739",
   "metadata": {},
   "source": [
    "# MULTIVARIATE analysis"
   ]
  },
  {
   "cell_type": "code",
   "execution_count": 59,
   "id": "ec390012",
   "metadata": {},
   "outputs": [
    {
     "data": {
      "image/png": "[encoded data removed]",
      "text/plain": [
       "<Figure size 432x288 with 1 Axes>"
      ]
     },
     "metadata": {
      "needs_background": "light"
     },
     "output_type": "display_data"
    }
   ],
   "source": [
    "# At each class ticket, women have better survival rates\n",
    "plt.title(\"In each class of ticket, survivors trend younger\")\n",
    "sns.boxplot(x=\"pclass\", y=\"age\", data=titanic_train, hue=\"survived\")\n",
    "population_survival_rate = titanic_train.survived.mean()\n",
    "plt.axhline(population_survival_rate)\n",
    "plt.show()"
   ]
  },
  {
   "cell_type": "code",
   "execution_count": 61,
   "id": "1e82fce8",
   "metadata": {},
   "outputs": [
    {
     "data": {
      "text/plain": [
       "1    71\n",
       "0    46\n",
       "Name: survived, dtype: int64"
      ]
     },
     "execution_count": 61,
     "metadata": {},
     "output_type": "execute_result"
    }
   ],
   "source": [
    "# are there enough 1st class passengers to draw conclusions?\n",
    "titanic_train[titanic_train.pclass == 1].survived.value_counts()"
   ]
  },
  {
   "cell_type": "code",
   "execution_count": 62,
   "id": "d5d68fde",
   "metadata": {},
   "outputs": [
    {
     "data": {
      "image/png": "[encoded data removed]",
      "text/plain": [
       "<Figure size 1130.88x360 with 3 Axes>"
      ]
     },
     "metadata": {
      "needs_background": "light"
     },
     "output_type": "display_data"
    }
   ],
   "source": [
    "# No discernable relationship between age and fare, but the pclass relates to survival\n",
    "rel = sns.relplot(x='age', y='fare', data=titanic_train, col=\"pclass\", hue=\"survived\")\n",
    "rel.fig.suptitle('Age to Fare, colum by pclass') # One way to title a relplot\n",
    "plt.tight_layout()"
   ]
  },
  {
   "cell_type": "code",
   "execution_count": 63,
   "id": "9bd796aa",
   "metadata": {},
   "outputs": [],
   "source": [
    "# fare and age don't seem to relate\n",
    "# however, the more people paid, the more orange we see"
   ]
  },
  {
   "cell_type": "code",
   "execution_count": 66,
   "id": "255ba65c",
   "metadata": {},
   "outputs": [
    {
     "data": {
      "image/png": "[encoded data removed]",
      "text/plain": [
       "<Figure size 432x288 with 1 Axes>"
      ]
     },
     "metadata": {
      "needs_background": "light"
     },
     "output_type": "display_data"
    }
   ],
   "source": [
    "plt.title(\"Women more likely to survive at all ticket classes\")\n",
    "sns.barplot(x=\"pclass\", y=\"survived\", hue=\"sex_male\", data=titanic_train)\n",
    "population_survival_rate = titanic_train.survived.mean()\n",
    "plt.show()"
   ]
  },
  {
   "cell_type": "code",
   "execution_count": 68,
   "id": "117e8d00",
   "metadata": {},
   "outputs": [
    {
     "name": "stdout",
     "output_type": "stream",
     "text": [
      "Overall survival rate: 0.38\n",
      "Overall female survival rate 0.76\n",
      "Overall male survival rate 0.18\n",
      "3rd class ticket survival rate 0.24\n",
      "Survival rate for women in 3rd class: 0.53\n",
      "Survival rate for men in 3rd class: 0.11\n"
     ]
    }
   ],
   "source": [
    "women_in_3rd_class = titanic_train[(titanic_train.pclass == 3) & (titanic_train.sex_male == 0)]\n",
    "men_in_3rd_class = titanic_train[(titanic_train.pclass == 3) & (titanic_train.sex_male == 1)]\n",
    "\n",
    "print(f\"Overall survival rate:\", round(titanic_train.survived.mean(), 2))\n",
    "print(f\"Overall female survival rate\", round(titanic_train[titanic_train.sex_male == 0].survived.mean(), 2))\n",
    "print(f\"Overall male survival rate\", round(titanic_train[titanic_train.sex_male == 1].survived.mean(), 2))\n",
    "print(f\"3rd class ticket survival rate\", round(titanic_train[titanic_train.pclass == 3].survived.mean(), 2))\n",
    "print(f\"Survival rate for women in 3rd class:\", round(women_in_3rd_class.survived.mean(), 2))\n",
    "print(f\"Survival rate for men in 3rd class:\", round(men_in_3rd_class.survived.mean(), 2))"
   ]
  },
  {
   "cell_type": "code",
   "execution_count": 69,
   "id": "ed56f1bb",
   "metadata": {},
   "outputs": [
    {
     "data": {
      "image/png": "[encoded data removed]",
      "text/plain": [
       "<Figure size 402.375x360 with 1 Axes>"
      ]
     },
     "metadata": {
      "needs_background": "light"
     },
     "output_type": "display_data"
    }
   ],
   "source": [
    "cat = sns.catplot(data=titanic_train, x=\"pclass\", y=\"survived\", hue=\"alone\", kind=\"bar\")\n",
    "cat.fig.suptitle(\"Traveling alone, at any class ticket is riskier\")\n",
    "plt.tight_layout()"
   ]
  },
  {
   "cell_type": "code",
   "execution_count": null,
   "id": "98438ba0",
   "metadata": {},
   "outputs": [],
   "source": []
  },
  {
   "cell_type": "code",
   "execution_count": null,
   "id": "a93a798b",
   "metadata": {},
   "outputs": [],
   "source": []
  },
  {
   "cell_type": "code",
   "execution_count": null,
   "id": "177d18c7",
   "metadata": {},
   "outputs": [],
   "source": []
  },
  {
   "cell_type": "code",
   "execution_count": null,
   "id": "7ebfa21b",
   "metadata": {},
   "outputs": [],
   "source": []
  },
  {
   "cell_type": "code",
   "execution_count": null,
   "id": "3923dd29",
   "metadata": {},
   "outputs": [],
   "source": []
  },
  {
   "cell_type": "code",
   "execution_count": null,
   "id": "1c2f2694",
   "metadata": {},
   "outputs": [],
   "source": []
  },
  {
   "cell_type": "markdown",
   "id": "4234c97b",
   "metadata": {},
   "source": [
    "# Using the Telco dataset"
   ]
  },
  {
   "cell_type": "markdown",
   "id": "42890816",
   "metadata": {},
   "source": [
    "### Use the function defined in acquire.py to load the Telco data."
   ]
  },
  {
   "cell_type": "code",
   "execution_count": null,
   "id": "4ba34b04",
   "metadata": {},
   "outputs": [],
   "source": [
    "telco_df = acquire.get_telco_data()\n",
    "telco_df.head()"
   ]
  },
  {
   "cell_type": "code",
   "execution_count": null,
   "id": "1062288f",
   "metadata": {},
   "outputs": [],
   "source": [
    "telco_df.shape"
   ]
  },
  {
   "cell_type": "code",
   "execution_count": null,
   "id": "fe5f8bf9",
   "metadata": {},
   "outputs": [],
   "source": [
    "telco_df.info()"
   ]
  },
  {
   "cell_type": "code",
   "execution_count": null,
   "id": "bd295ac6",
   "metadata": {},
   "outputs": [],
   "source": [
    "telco_df.describe()"
   ]
  },
  {
   "cell_type": "code",
   "execution_count": null,
   "id": "a64d5250",
   "metadata": {},
   "outputs": [],
   "source": [
    "num_cols = telco_df.columns[[telco_df[col].dtype in ('int64', 'float64') for col in telco_df.columns]]\n",
    "num_cols"
   ]
  },
  {
   "cell_type": "code",
   "execution_count": null,
   "id": "2873bc41",
   "metadata": {},
   "outputs": [],
   "source": [
    "for col in num_cols:\n",
    "    plt.hist(telco_df[col])\n",
    "    plt.title(col)\n",
    "    plt.show()\n",
    "    plt.boxplot(telco_df[col])\n",
    "    plt.show()"
   ]
  },
  {
   "cell_type": "code",
   "execution_count": null,
   "id": "278a45b5",
   "metadata": {},
   "outputs": [],
   "source": [
    "obj_cols = telco_df.columns[[telco_df[col].dtype == 'O' for col in telco_df.columns]]\n",
    "obj_cols"
   ]
  },
  {
   "cell_type": "code",
   "execution_count": null,
   "id": "e1566368",
   "metadata": {},
   "outputs": [],
   "source": [
    "for col in obj_cols:\n",
    "    print(telco_df[col].value_counts())\n",
    "    print(telco_df[col].value_counts(normalize = True, dropna=False))\n",
    "    print('------------------------')\n",
    "        "
   ]
  },
  {
   "cell_type": "code",
   "execution_count": null,
   "id": "b3c90284",
   "metadata": {},
   "outputs": [],
   "source": [
    "telco_df.monthly_charges.value_counts(bins=5, sort=False)"
   ]
  },
  {
   "cell_type": "code",
   "execution_count": null,
   "id": "53362b9d",
   "metadata": {},
   "outputs": [],
   "source": [
    "missing = telco_df.isnull().sum()\n",
    "missing[missing > 0]\n",
    "# no null values in the dataset.  "
   ]
  },
  {
   "cell_type": "code",
   "execution_count": null,
   "id": "17c19bb9",
   "metadata": {},
   "outputs": [],
   "source": []
  },
  {
   "cell_type": "code",
   "execution_count": null,
   "id": "e112f586",
   "metadata": {},
   "outputs": [],
   "source": []
  },
  {
   "cell_type": "code",
   "execution_count": null,
   "id": "6ad03d26",
   "metadata": {},
   "outputs": [],
   "source": [
    "telco_df.sample()"
   ]
  },
  {
   "cell_type": "markdown",
   "id": "19f00b17",
   "metadata": {},
   "source": [
    "### Drop any unnecessary, unhelpful, or duplicated columns. This could mean dropping foreign key columns but keeping the corresponding string values, for example."
   ]
  },
  {
   "cell_type": "code",
   "execution_count": null,
   "id": "94b76549",
   "metadata": {},
   "outputs": [],
   "source": [
    "# total charges is a string that needs to be converted to float\n",
    "# 0   payment_type_id           7043 non-null   int64   DROP IT\n",
    "# 1   internet_service_type_id  7043 non-null   int64   DROP IT\n",
    "# 2   contract_type_id          7043 non-null   int64   DROP IT\n",
    "# 3   customer_id               7043 non-null   object  \n",
    "# 4   gender                    7043 non-null   object  NEED TO DUMMY\n",
    "# 5   senior_citizen            7043 non-null   int64   NEED TO DUMMY\n",
    "# 6   partner                   7043 non-null   object  DUMMY IT\n",
    "# 7   dependents                7043 non-null   object  DUMMY IT\n",
    "# 8   tenure                    7043 non-null   int64  \n",
    "# 9   phone_service             7043 non-null   object  DUMMY.....YES/NO....'HAS_PHONE_SVC'\n",
    "# 10  multiple_lines            7043 non-null   object  DUMMY IT--THIS HAS 3 POSSIBLE VALUES\n",
    "# 11  online_security           7043 non-null   object  DITTO \n",
    "# 12  online_backup             7043 non-null   object  DITTO\n",
    "# 13  device_protection         7043 non-null   object  DITTO\n",
    "# 14  tech_support              7043 non-null   object  DITTO\n",
    "# 15  streaming_tv              7043 non-null   object  DITTO\n",
    "# 16  streaming_movies          7043 non-null   object  DITTO\n",
    "# 17  paperless_billing         7043 non-null   object  YES/NO....DUMMY IT\n",
    "# 18  monthly_charges           7043 non-null   float64\n",
    "# 19  total_charges             7043 non-null   object  CONVERT TO FLOAT. ALSO...WE HAVE MISSING VALUES :(\n",
    "# 20  churn                     7043 non-null   object  DUMMY\n",
    "# 21  contract_type             7043 non-null   object  3 OPTIONS, DUMMY IT\n",
    "# 22  internet_service_type     7043 non-null   object  SAME\n",
    "# 23  payment_type              7043 non-null   object  4 OPTIONS, DUMMY?"
   ]
  },
  {
   "cell_type": "code",
   "execution_count": null,
   "id": "db1f866d",
   "metadata": {},
   "outputs": [],
   "source": [
    "# drop any possible duplicates, of which there weren't any\n",
    "print(telco_df.shape)\n",
    "telco_df = telco_df.drop_duplicates()\n",
    "print(telco_df.shape)"
   ]
  },
  {
   "cell_type": "code",
   "execution_count": null,
   "id": "307516f2",
   "metadata": {},
   "outputs": [],
   "source": [
    "cols_to_drop = ['payment_type_id', 'internet_service_type_id', 'contract_type_id']\n",
    "telco_df = telco_df.drop(columns = cols_to_drop)\n",
    "telco_df.shape"
   ]
  },
  {
   "cell_type": "code",
   "execution_count": null,
   "id": "dbd5d0d4",
   "metadata": {},
   "outputs": [],
   "source": [
    "telco_df.total_charges.iloc[85]\n",
    "#there seems to be a missing value here, who knows where ielse"
   ]
  },
  {
   "cell_type": "code",
   "execution_count": null,
   "id": "432807f4",
   "metadata": {},
   "outputs": [],
   "source": [
    "missing = telco_df.isnull().sum()\n",
    "missing[missing > 0]\n",
    "# according to this, there are no missing values"
   ]
  },
  {
   "cell_type": "code",
   "execution_count": null,
   "id": "00fc73b1",
   "metadata": {},
   "outputs": [],
   "source": [
    "#ok, it turns out there are 11 rows with no total_charge value:\n",
    "telco_df.total_charges[(telco_df.total_charges == ' ')]"
   ]
  },
  {
   "cell_type": "code",
   "execution_count": null,
   "id": "85e7fa6e",
   "metadata": {},
   "outputs": [],
   "source": [
    "# so let's take a stab at filling \" \" values with 0\n",
    "telco_df.total_charges.replace(' ',0, inplace=True)\n",
    "print(telco_df.total_charges.iloc[85])\n",
    "print(telco_df.total_charges[(telco_df.total_charges == ' ')])\n",
    "# ok looks like that did the trick"
   ]
  },
  {
   "cell_type": "code",
   "execution_count": null,
   "id": "31dc886c",
   "metadata": {},
   "outputs": [],
   "source": [
    "# i'm going to get total_charges into float format here:\n",
    "telco_df.total_charges = telco_df.total_charges.astype(float)\n",
    "print(telco_df.total_charges.iloc[85])\n",
    "\n",
    "# done, finally. '.info' is showing total_charges as float64 now"
   ]
  },
  {
   "cell_type": "code",
   "execution_count": null,
   "id": "e6bd6d6a",
   "metadata": {},
   "outputs": [],
   "source": [
    "telco_df.info()"
   ]
  },
  {
   "cell_type": "markdown",
   "id": "9050e049",
   "metadata": {},
   "source": [
    "### Encode the categorical columns. Create dummy variables of the categorical columns and concatenate them onto the dataframe."
   ]
  },
  {
   "cell_type": "code",
   "execution_count": null,
   "id": "272aa0f1",
   "metadata": {},
   "outputs": [],
   "source": [
    "# 4   gender                    7043 non-null   object  NEED TO DUMMY\n",
    "# 5   senior_citizen            7043 non-null   int64   NEED TO DUMMY\n",
    "# 6   partner                   7043 non-null   object  DUMMY IT\n",
    "# 7   dependents                7043 non-null   object  DUMMY IT\n",
    "# 9   phone_service             7043 non-null   object  DUMMY.....YES/NO....'HAS_PHONE_SVC'\n",
    "# 10  multiple_lines            7043 non-null   object  DUMMY IT--THIS HAS 3 POSSIBLE VALUES\n",
    "# 11  online_security           7043 non-null   object  DITTO \n",
    "# 12  online_backup             7043 non-null   object  DITTO\n",
    "# 13  device_protection         7043 non-null   object  DITTO\n",
    "# 14  tech_support              7043 non-null   object  DITTO\n",
    "# 15  streaming_tv              7043 non-null   object  DITTO\n",
    "# 16  streaming_movies          7043 non-null   object  DITTO\n",
    "# 17  paperless_billing         7043 non-null   object  YES/NO....DUMMY IT\n",
    "# 20  churn                     7043 non-null   object  DUMMY\n",
    "# 21  contract_type             7043 non-null   object  3 OPTIONS, DUMMY IT\n",
    "# 22  internet_service_type     7043 non-null   object  SAME\n",
    "# 23  payment_type              7043 non-null   object  4 OPTIONS, DUMMY?"
   ]
  },
  {
   "cell_type": "code",
   "execution_count": null,
   "id": "ebd9d32a",
   "metadata": {
    "scrolled": true
   },
   "outputs": [],
   "source": [
    "cols_to_dummy = telco_df[['gender','senior_citizen','partner','dependents','phone_service','multiple_lines','online_security','online_backup','device_protection','tech_support','streaming_tv','streaming_movies','paperless_billing','churn','contract_type','internet_service_type','payment_type']]\n",
    "dummy_df = pd.get_dummies(cols_to_dummy, dummy_na=False, drop_first=[True,True])\n",
    "print(dummy_df.shape)\n",
    "dummy_df\n"
   ]
  },
  {
   "cell_type": "code",
   "execution_count": null,
   "id": "ac8ed6a3",
   "metadata": {
    "scrolled": true
   },
   "outputs": [],
   "source": [
    "telco_df = pd.concat([telco_df, dummy_df], axis = 1)\n",
    "print(telco_df.shape)\n",
    "telco_df.head()"
   ]
  },
  {
   "cell_type": "code",
   "execution_count": null,
   "id": "1252e750",
   "metadata": {},
   "outputs": [],
   "source": [
    "telco_df.info()"
   ]
  },
  {
   "cell_type": "markdown",
   "id": "2839916e",
   "metadata": {},
   "source": [
    "### Create a function named prep_telco that accepts the raw telco data, and returns the data with the transformations above applied."
   ]
  },
  {
   "cell_type": "code",
   "execution_count": null,
   "id": "8ede77a6",
   "metadata": {},
   "outputs": [],
   "source": [
    "# testing my function below...\n",
    "telco_df = acquire.get_telco_data()"
   ]
  },
  {
   "cell_type": "code",
   "execution_count": null,
   "id": "eeb137f7",
   "metadata": {},
   "outputs": [],
   "source": [
    "def prep_telco(telco_df):\n",
    "    telco_df = telco_df.drop_duplicates()\n",
    "    cols_to_drop = ['payment_type_id', 'internet_service_type_id', 'contract_type_id']\n",
    "    telco_df = telco_df.drop(columns = cols_to_drop)\n",
    "    telco_df.total_charges.replace(' ',0, inplace=True)\n",
    "    telco_df.total_charges = telco_df.total_charges.astype(float)\n",
    "    cols_to_dummy = telco_df[['gender','senior_citizen','partner','dependents','phone_service','multiple_lines','online_security','online_backup','device_protection','tech_support','streaming_tv','streaming_movies','paperless_billing','churn','contract_type','internet_service_type','payment_type']]\n",
    "    dummy_df = pd.get_dummies(cols_to_dummy, dummy_na=False)\n",
    "    telco_df = pd.concat([telco_df, dummy_df], axis = 1)\n",
    "\n",
    "    return telco_df\n"
   ]
  },
  {
   "cell_type": "code",
   "execution_count": null,
   "id": "9b5b31c3",
   "metadata": {},
   "outputs": [],
   "source": [
    "telco_prepped = prep_telco(telco_df)"
   ]
  },
  {
   "cell_type": "code",
   "execution_count": null,
   "id": "fca8c3b9",
   "metadata": {},
   "outputs": [],
   "source": [
    "telco_prepped.info()"
   ]
  },
  {
   "cell_type": "markdown",
   "id": "67bc4a04",
   "metadata": {},
   "source": [
    "# extra credit: split the data"
   ]
  },
  {
   "cell_type": "code",
   "execution_count": null,
   "id": "60897f0d",
   "metadata": {},
   "outputs": [],
   "source": [
    "from sklearn.model_selection import train_test_split\n",
    "from sklearn.impute import SimpleImputer"
   ]
  },
  {
   "cell_type": "code",
   "execution_count": null,
   "id": "61f24d2b",
   "metadata": {},
   "outputs": [],
   "source": [
    "def split_data(telco_prepped):\n",
    "    '''\n",
    "    Takes in a dataframe and returns train, validate, test sbusert dataframes\n",
    "    '''\n",
    "    train, test = train_test_split(telco_prepped, test_size = .2, stratify=telco_prepped.churn_Yes)\n",
    "    train, validate = train_test_split(train, test_size=.3, stratify=train.churn_Yes)\n",
    "    return train, validate, test\n",
    "\n"
   ]
  },
  {
   "cell_type": "code",
   "execution_count": null,
   "id": "3ffe976e",
   "metadata": {},
   "outputs": [],
   "source": [
    "telco_prepped.shape"
   ]
  },
  {
   "cell_type": "code",
   "execution_count": null,
   "id": "a7f0d76b",
   "metadata": {},
   "outputs": [],
   "source": [
    "train, validate, test = split_data(telco_prepped)\n",
    "print(f'Train: {train.shape}')\n",
    "print(f'Validate: {validate.shape}')\n",
    "print(f'Test: {test.shape}')"
   ]
  },
  {
   "cell_type": "markdown",
   "id": "61444904",
   "metadata": {},
   "source": [
    "## think about how to structure this so that you don't have to change the name of the df going into the function"
   ]
  },
  {
   "cell_type": "code",
   "execution_count": null,
   "id": "e75ffc26",
   "metadata": {},
   "outputs": [],
   "source": []
  },
  {
   "cell_type": "code",
   "execution_count": null,
   "id": "3f3b69b4",
   "metadata": {},
   "outputs": [],
   "source": []
  }
 ],
 "metadata": {
  "kernelspec": {
   "display_name": "Python 3",
   "language": "python",
   "name": "python3"
  },
  "language_info": {
   "codemirror_mode": {
    "name": "ipython",
    "version": 3
   },
   "file_extension": ".py",
   "mimetype": "text/x-python",
   "name": "python",
   "nbconvert_exporter": "python",
   "pygments_lexer": "ipython3",
   "version": "3.8.8"
  }
 },
 "nbformat": 4,
 "nbformat_minor": 5
}
