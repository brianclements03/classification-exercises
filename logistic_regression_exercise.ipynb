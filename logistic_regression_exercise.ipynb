{
 "cells": [
  {
   "cell_type": "code",
   "execution_count": 1,
   "metadata": {},
   "outputs": [],
   "source": [
    "import numpy as np\n",
    "import pandas as pd\n",
    "\n",
    "from sklearn.model_selection import train_test_split\n",
    "from sklearn.linear_model import LogisticRegression\n",
    "from sklearn.metrics import classification_report\n",
    "from sklearn.metrics import confusion_matrix\n",
    "import sklearn.linear_model\n",
    "\n",
    "# ignore warnings\n",
    "import warnings\n",
    "warnings.filterwarnings(\"ignore\")\n",
    "\n",
    "%matplotlib inline\n",
    "import matplotlib.pyplot as plt\n",
    "import seaborn as sns\n",
    "\n",
    "from pydataset import data\n",
    "\n",
    "from acquire import get_titanic_data\n",
    "from prepare import titanic_split"
   ]
  },
  {
   "cell_type": "code",
   "execution_count": 2,
   "metadata": {},
   "outputs": [],
   "source": [
    "# Acquire Stage\n",
    "df = get_titanic_data()"
   ]
  },
  {
   "cell_type": "markdown",
   "metadata": {},
   "source": [
    "### Data Preparation Stage"
   ]
  },
  {
   "cell_type": "code",
   "execution_count": 3,
   "metadata": {},
   "outputs": [
    {
     "data": {
      "text/html": [
       "<div>\n",
       "<style scoped>\n",
       "    .dataframe tbody tr th:only-of-type {\n",
       "        vertical-align: middle;\n",
       "    }\n",
       "\n",
       "    .dataframe tbody tr th {\n",
       "        vertical-align: top;\n",
       "    }\n",
       "\n",
       "    .dataframe thead th {\n",
       "        text-align: right;\n",
       "    }\n",
       "</style>\n",
       "<table border=\"1\" class=\"dataframe\">\n",
       "  <thead>\n",
       "    <tr style=\"text-align: right;\">\n",
       "      <th></th>\n",
       "      <th>survived</th>\n",
       "      <th>pclass</th>\n",
       "      <th>age</th>\n",
       "      <th>sibsp</th>\n",
       "      <th>parch</th>\n",
       "      <th>fare</th>\n",
       "      <th>alone</th>\n",
       "      <th>is_female</th>\n",
       "      <th>embark_town_Queenstown</th>\n",
       "      <th>embark_town_Southampton</th>\n",
       "    </tr>\n",
       "  </thead>\n",
       "  <tbody>\n",
       "    <tr>\n",
       "      <th>0</th>\n",
       "      <td>0</td>\n",
       "      <td>3</td>\n",
       "      <td>22.0</td>\n",
       "      <td>1</td>\n",
       "      <td>0</td>\n",
       "      <td>7.2500</td>\n",
       "      <td>0</td>\n",
       "      <td>0</td>\n",
       "      <td>0</td>\n",
       "      <td>1</td>\n",
       "    </tr>\n",
       "    <tr>\n",
       "      <th>1</th>\n",
       "      <td>1</td>\n",
       "      <td>1</td>\n",
       "      <td>38.0</td>\n",
       "      <td>1</td>\n",
       "      <td>0</td>\n",
       "      <td>71.2833</td>\n",
       "      <td>0</td>\n",
       "      <td>1</td>\n",
       "      <td>0</td>\n",
       "      <td>0</td>\n",
       "    </tr>\n",
       "    <tr>\n",
       "      <th>2</th>\n",
       "      <td>1</td>\n",
       "      <td>3</td>\n",
       "      <td>26.0</td>\n",
       "      <td>0</td>\n",
       "      <td>0</td>\n",
       "      <td>7.9250</td>\n",
       "      <td>1</td>\n",
       "      <td>1</td>\n",
       "      <td>0</td>\n",
       "      <td>1</td>\n",
       "    </tr>\n",
       "  </tbody>\n",
       "</table>\n",
       "</div>"
      ],
      "text/plain": [
       "   survived  pclass   age  sibsp  parch     fare  alone  is_female  \\\n",
       "0         0       3  22.0      1      0   7.2500      0          0   \n",
       "1         1       1  38.0      1      0  71.2833      0          1   \n",
       "2         1       3  26.0      0      0   7.9250      1          1   \n",
       "\n",
       "   embark_town_Queenstown  embark_town_Southampton  \n",
       "0                       0                        1  \n",
       "1                       0                        0  \n",
       "2                       0                        1  "
      ]
     },
     "execution_count": 3,
     "metadata": {},
     "output_type": "execute_result"
    }
   ],
   "source": [
    "# Handle missing ages\n",
    "avg_age = df.age.mean()\n",
    "df.age = df.age.fillna(avg_age)\n",
    "\n",
    "# Encode the gender column\n",
    "df[\"is_female\"] = (df.sex == \"female\").astype('int')\n",
    "\n",
    "# Encode the embarked_town\n",
    "# Embark_Town values are Southampton, Cherbourg, and Queenstown\n",
    "dummy_df = pd.get_dummies(df[['embark_town']], dummy_na=False, drop_first=True)\n",
    "df = pd.concat([df, dummy_df], axis=1)\n",
    "\n",
    "# Drop unnecessary columns\n",
    "df = df.drop(columns=[\"passenger_id\", \"deck\", \"class\", \"embarked\", \"sex\", \"embark_town\"])\n",
    "\n",
    "df.head(3)"
   ]
  },
  {
   "cell_type": "code",
   "execution_count": 4,
   "metadata": {},
   "outputs": [
    {
     "data": {
      "text/plain": [
       "survived                   0\n",
       "pclass                     0\n",
       "age                        0\n",
       "sibsp                      0\n",
       "parch                      0\n",
       "fare                       0\n",
       "alone                      0\n",
       "is_female                  0\n",
       "embark_town_Queenstown     0\n",
       "embark_town_Southampton    0\n",
       "dtype: int64"
      ]
     },
     "execution_count": 4,
     "metadata": {},
     "output_type": "execute_result"
    }
   ],
   "source": [
    "# double check to make sure we don't have any nulls\n",
    "df.isna().sum()"
   ]
  },
  {
   "cell_type": "code",
   "execution_count": 5,
   "metadata": {},
   "outputs": [],
   "source": [
    "# Split the datasets\n",
    "train, validate, test = titanic_split(df)"
   ]
  },
  {
   "cell_type": "code",
   "execution_count": 6,
   "metadata": {},
   "outputs": [],
   "source": [
    "# Separate out our X and y values\n",
    "X_train = train.drop(columns=[\"survived\"])\n",
    "y_train = train.survived\n",
    "\n",
    "X_validate = validate.drop(columns=[\"survived\"])\n",
    "y_validate = validate.survived\n",
    "\n",
    "X_test = test.drop(columns=[\"survived\"])\n",
    "y_test = test.survived"
   ]
  },
  {
   "cell_type": "markdown",
   "metadata": {},
   "source": [
    "> **insert Exploratory Data Analysis here**"
   ]
  },
  {
   "cell_type": "markdown",
   "metadata": {},
   "source": [
    "### Setup the Baseline"
   ]
  },
  {
   "cell_type": "code",
   "execution_count": 7,
   "metadata": {},
   "outputs": [
    {
     "data": {
      "text/plain": [
       "0    329\n",
       "1    205\n",
       "Name: survived, dtype: int64"
      ]
     },
     "execution_count": 7,
     "metadata": {},
     "output_type": "execute_result"
    }
   ],
   "source": [
    "# The most frequenly observed outcome will be our baseline\n",
    "train.survived.value_counts()"
   ]
  },
  {
   "cell_type": "code",
   "execution_count": 8,
   "metadata": {},
   "outputs": [
    {
     "data": {
      "text/plain": [
       "0.616"
      ]
     },
     "execution_count": 8,
     "metadata": {},
     "output_type": "execute_result"
    }
   ],
   "source": [
    "baseline_accuracy = (train.survived == 0).mean()\n",
    "round(baseline_accuracy, 3)"
   ]
  },
  {
   "cell_type": "markdown",
   "metadata": {},
   "source": [
    "### Exercise 1\n",
    "- Create a model using age, fare, and pclass\n",
    "- Does this model beat the baseline?"
   ]
  },
  {
   "cell_type": "code",
   "execution_count": 9,
   "metadata": {},
   "outputs": [
    {
     "name": "stdout",
     "output_type": "stream",
     "text": [
      "Baseline is 0.62\n",
      "Logistic Regression using age, pclass, and fare features\n",
      "Accuracy of Logistic Regression classifier on training set: 0.71\n"
     ]
    }
   ],
   "source": [
    "# Create the logistic regression\n",
    "logit = LogisticRegression(random_state=123)\n",
    "\n",
    "# specify the features we're using\n",
    "features = [\"age\", \"pclass\", \"fare\"]\n",
    "\n",
    "# Fit a model using only these specified features\n",
    "# logit.fit(X_train[[\"age\", \"pclass\", \"fare\"]], y_train)\n",
    "logit.fit(X_train[features], y_train)\n",
    "\n",
    "# Since we .fit on a subset, we .predict on that same subset of features\n",
    "y_pred = logit.predict(X_train[features])\n",
    "\n",
    "print(\"Baseline is\", round(baseline_accuracy, 2))\n",
    "print(\"Logistic Regression using age, pclass, and fare features\")\n",
    "print('Accuracy of Logistic Regression classifier on training set: {:.2f}'\n",
    "     .format(logit.score(X_train[features], y_train)))"
   ]
  },
  {
   "cell_type": "markdown",
   "metadata": {},
   "source": [
    "### Exercise 2\n",
    "\n",
    "Create a model using age, fare, pclass, and gender"
   ]
  },
  {
   "cell_type": "code",
   "execution_count": 10,
   "metadata": {},
   "outputs": [
    {
     "name": "stdout",
     "output_type": "stream",
     "text": [
      "Logistic Regression using age, pclass, fare, and gender features\n",
      "Accuracy of Logistic Regression classifier on training set: 0.81\n"
     ]
    }
   ],
   "source": [
    "# Create the logistic regression\n",
    "logit1 = LogisticRegression(random_state=123)\n",
    "\n",
    "# specify the features we're using\n",
    "features = [\"age\", \"pclass\", \"fare\", \"is_female\"]\n",
    "\n",
    "# Fit a model using only these specified features\n",
    "logit1.fit(X_train[features], y_train)\n",
    "\n",
    "y_pred = logit1.predict(X_train[features])\n",
    "\n",
    "print(\"Logistic Regression using age, pclass, fare, and gender features\")\n",
    "print('Accuracy of Logistic Regression classifier on training set: {:.2f}'\n",
    "     .format(logit1.score(X_train[features], y_train)))"
   ]
  },
  {
   "cell_type": "markdown",
   "metadata": {},
   "source": [
    "### Exercise 3\n",
    "\n",
    "\n",
    "Try out other combinations of features and models.\n",
    "\n",
    "Models Created:\n",
    "- `logit2`, all Features, 0.81 accuracy\n",
    "- `logit3`, all features with class_weight=\"balanced\", .80 accuracy\n",
    "- `logit4`, only age, .62 accuracy\n",
    "- `logit5`, only pclass, .67 accuracy\n",
    "- `logit6`, C hyperparameter close to zero, .62 accuracy"
   ]
  },
  {
   "cell_type": "code",
   "execution_count": 11,
   "metadata": {},
   "outputs": [
    {
     "name": "stdout",
     "output_type": "stream",
     "text": [
      "Model trained on all features\n",
      "Accuracy of Logistic Regression classifier on training set: 0.81\n"
     ]
    }
   ],
   "source": [
    "# All features, all default hyperparameters\n",
    "logit2 = LogisticRegression(random_state=123)\n",
    "\n",
    "logit2.fit(X_train, y_train)\n",
    "\n",
    "y_pred = logit2.predict(X_train)\n",
    "\n",
    "print(\"Model trained on all features\")\n",
    "print('Accuracy of Logistic Regression classifier on training set: {:.2f}'\n",
    "     .format(logit2.score(X_train, y_train)))"
   ]
  },
  {
   "cell_type": "code",
   "execution_count": 12,
   "metadata": {},
   "outputs": [
    {
     "name": "stdout",
     "output_type": "stream",
     "text": [
      "All Features and we're setting the class_weight hyperparameter\n",
      "Accuracy of Logistic Regression classifier on training set: 0.8\n"
     ]
    }
   ],
   "source": [
    "# All features, but we'll use the class_weights to hold the actual ratios`\n",
    "logit3 = LogisticRegression(random_state=123, class_weight='balanced')\n",
    "\n",
    "logit3.fit(X_train, y_train)\n",
    "\n",
    "y_pred = logit3.predict(X_train)\n",
    "\n",
    "accuracy = logit3.score(X_train, y_train)\n",
    "\n",
    "print(\"All Features and we're setting the class_weight hyperparameter\")\n",
    "print(f'Accuracy of Logistic Regression classifier on training set: {accuracy:.2}')"
   ]
  },
  {
   "cell_type": "code",
   "execution_count": null,
   "metadata": {},
   "outputs": [],
   "source": [
    "# Only Age \n",
    "features = [\"age\"]\n",
    "\n",
    "# All features, but we'll use the class_weights to hold the actual ratios\n",
    "logit4 = LogisticRegression(random_state=123)\n",
    "\n",
    "logit4.fit(X_train[features], y_train)\n",
    "\n",
    "y_pred = logit4.predict(X_train[features])\n",
    "\n",
    "accuracy = logit4.score(X_train[features], y_train)\n",
    "\n",
    "print(\"All Features and we're setting the class_weight hyperparameter\")\n",
    "print(f'Accuracy of Logistic Regression classifier on training set: {accuracy:.2}')"
   ]
  },
  {
   "cell_type": "code",
   "execution_count": null,
   "metadata": {},
   "outputs": [],
   "source": [
    "# Only pclass\n",
    "features = [\"pclass\"]\n",
    "\n",
    "# All features, but we'll use the class_weights to hold the actual ratios\n",
    "logit5 = LogisticRegression(random_state=123)\n",
    "\n",
    "logit5.fit(X_train[features], y_train)\n",
    "\n",
    "y_pred = logit5.predict(X_train[features])\n",
    "accuracy = logit5.score(X_train[features], y_train)\n",
    "\n",
    "print(\"All Features and we're setting the class_weight hyperparameter\")\n",
    "print(f'Accuracy of Logistic Regression classifier on training set: {accuracy:.2}')"
   ]
  },
  {
   "cell_type": "code",
   "execution_count": 13,
   "metadata": {},
   "outputs": [
    {
     "name": "stdout",
     "output_type": "stream",
     "text": [
      "All Features, C hyperparameter approaching 0\n",
      "Baseline is 0.62\n",
      "Accuracy of this Logistic Regression on training set: 0.62\n"
     ]
    }
   ],
   "source": [
    "# All Features, C=0\n",
    "# All features, but we'll use the class_weights to hold the actual ratios\n",
    "logit6 = LogisticRegression(random_state=123, C=0.00000000000000000001)\n",
    "\n",
    "logit6.fit(X_train, y_train)\n",
    "\n",
    "y_pred = logit6.predict(X_train)\n",
    "accuracy = logit6.score(X_train, y_train)\n",
    "\n",
    "print(\"All Features, C hyperparameter approaching 0\")\n",
    "print(\"Baseline is\", round(baseline_accuracy, 2))\n",
    "print(f'Accuracy of this Logistic Regression on training set: {accuracy:.2}')"
   ]
  },
  {
   "cell_type": "markdown",
   "metadata": {},
   "source": [
    "## Now Let's Pick our Best Models and Evaluate on Validate!\n",
    "- `logit1` trained with `features = [\"age\", \"pclass\", \"fare\", \"is_female\"]` has .81 accuracy on train\n",
    "- `logit2` trained on all features, with all other hyperparameters defaulted, has .81 accuracy on train\n",
    "- `logit3` trained on all features with `class_weight='balanced'` has accuracy of .80 on train"
   ]
  },
  {
   "cell_type": "code",
   "execution_count": 14,
   "metadata": {},
   "outputs": [
    {
     "name": "stdout",
     "output_type": "stream",
     "text": [
      "Logit1 model using age, pclass, fare, and is_female as the features\n",
      "              precision    recall  f1-score   support\n",
      "\n",
      "           0       0.81      0.84      0.83       110\n",
      "           1       0.72      0.69      0.71        68\n",
      "\n",
      "    accuracy                           0.78       178\n",
      "   macro avg       0.77      0.76      0.77       178\n",
      "weighted avg       0.78      0.78      0.78       178\n",
      "\n"
     ]
    }
   ],
   "source": [
    "# Let's determine logit1's metrics on validate\n",
    "features = [\"age\", \"pclass\", \"fare\", \"is_female\"]\n",
    "\n",
    "y_pred = logit1.predict(X_validate[features])\n",
    "\n",
    "print('Logit1 model using age, pclass, fare, and is_female as the features')\n",
    "print(classification_report(y_validate, y_pred))"
   ]
  },
  {
   "cell_type": "code",
   "execution_count": 15,
   "metadata": {},
   "outputs": [
    {
     "name": "stdout",
     "output_type": "stream",
     "text": [
      "Logit2 model using all features and all model defaults\n",
      "              precision    recall  f1-score   support\n",
      "\n",
      "           0       0.81      0.86      0.84       110\n",
      "           1       0.75      0.68      0.71        68\n",
      "\n",
      "    accuracy                           0.79       178\n",
      "   macro avg       0.78      0.77      0.78       178\n",
      "weighted avg       0.79      0.79      0.79       178\n",
      "\n"
     ]
    }
   ],
   "source": [
    "# Logit2 uses all features\n",
    "y_pred = logit2.predict(X_validate)\n",
    "\n",
    "print(\"Logit2 model using all features and all model defaults\")\n",
    "print(classification_report(y_validate, y_pred))"
   ]
  },
  {
   "cell_type": "code",
   "execution_count": 16,
   "metadata": {},
   "outputs": [
    {
     "name": "stdout",
     "output_type": "stream",
     "text": [
      "Logit3 model using all features, class_weight='balanced', and all other hyperparameters as default\n",
      "              precision    recall  f1-score   support\n",
      "\n",
      "           0       0.84      0.82      0.83       110\n",
      "           1       0.72      0.75      0.73        68\n",
      "\n",
      "    accuracy                           0.79       178\n",
      "   macro avg       0.78      0.78      0.78       178\n",
      "weighted avg       0.79      0.79      0.79       178\n",
      "\n"
     ]
    }
   ],
   "source": [
    "# Logit3 uses all features and class_weight='balanced'\n",
    "y_pred = logit3.predict(X_validate)\n",
    "\n",
    "print(\"Logit3 model using all features, class_weight='balanced', and all other hyperparameters as default\")\n",
    "print(classification_report(y_validate, y_pred))"
   ]
  },
  {
   "cell_type": "markdown",
   "metadata": {},
   "source": [
    "## What next?\n",
    "- Consider the precision and recall values from each model. \n",
    "- Experiment with more hyperparameter values and combinations\n",
    "- Handle the age nulls differently\n",
    "    - We could try filling the nulls with median age instead of average age\n",
    "    - We could drop the nulls if they weren't such a large proportion of the dataset\n",
    "- Feature engineering\n",
    "- Handling outliers\n",
    "- Scaling (we'll do this later)\n",
    "\n",
    "Once we have a single model doing really well on `validate`, then we'll select that model to evaluate on `test`."
   ]
  },
  {
   "cell_type": "markdown",
   "metadata": {},
   "source": [
    "\n",
    "#### Bonus: Choosing different probability threshold:\n",
    "Default threshold value is 0.5   \n",
    "We choose a **threshold t** such that if $P(y = 1) > t$, we predict 1, else we predict 0.\n",
    "\n",
    "- A threshold is a value we choose  \n",
    "- if the probability the model gives us is above the threshold, predict positive  \n",
    "- if the probability the model gives us is below the threshold, predict negative  \n",
    "- .predict -- makes predictions with a threshold of .5  \n",
    "- When the threshold is 0, predict everything as positive (i.e. 1)  \n",
    "- When the threshold is 1, predict everything as negative (i.e. 0)"
   ]
  },
  {
   "cell_type": "code",
   "execution_count": 17,
   "metadata": {},
   "outputs": [
    {
     "data": {
      "text/html": [
       "<div>\n",
       "<style scoped>\n",
       "    .dataframe tbody tr th:only-of-type {\n",
       "        vertical-align: middle;\n",
       "    }\n",
       "\n",
       "    .dataframe tbody tr th {\n",
       "        vertical-align: top;\n",
       "    }\n",
       "\n",
       "    .dataframe thead th {\n",
       "        text-align: right;\n",
       "    }\n",
       "</style>\n",
       "<table border=\"1\" class=\"dataframe\">\n",
       "  <thead>\n",
       "    <tr style=\"text-align: right;\">\n",
       "      <th></th>\n",
       "      <th>not-survived</th>\n",
       "      <th>survived</th>\n",
       "    </tr>\n",
       "  </thead>\n",
       "  <tbody>\n",
       "    <tr>\n",
       "      <th>0</th>\n",
       "      <td>0.846201</td>\n",
       "      <td>0.153799</td>\n",
       "    </tr>\n",
       "    <tr>\n",
       "      <th>1</th>\n",
       "      <td>0.079418</td>\n",
       "      <td>0.920582</td>\n",
       "    </tr>\n",
       "    <tr>\n",
       "      <th>2</th>\n",
       "      <td>0.640066</td>\n",
       "      <td>0.359934</td>\n",
       "    </tr>\n",
       "    <tr>\n",
       "      <th>3</th>\n",
       "      <td>0.438020</td>\n",
       "      <td>0.561980</td>\n",
       "    </tr>\n",
       "    <tr>\n",
       "      <th>4</th>\n",
       "      <td>0.834635</td>\n",
       "      <td>0.165365</td>\n",
       "    </tr>\n",
       "  </tbody>\n",
       "</table>\n",
       "</div>"
      ],
      "text/plain": [
       "   not-survived  survived\n",
       "0      0.846201  0.153799\n",
       "1      0.079418  0.920582\n",
       "2      0.640066  0.359934\n",
       "3      0.438020  0.561980\n",
       "4      0.834635  0.165365"
      ]
     },
     "execution_count": 17,
     "metadata": {},
     "output_type": "execute_result"
    }
   ],
   "source": [
    "# using logit3 model for demo here\n",
    "\n",
    "y_pred_proba = logit3.predict_proba(X_train)\n",
    "\n",
    "\n",
    "y_pred_proba = pd.DataFrame(y_pred_proba, columns = ['not-survived', 'survived'])\n",
    "y_pred_proba.head()"
   ]
  },
  {
   "cell_type": "code",
   "execution_count": 18,
   "metadata": {},
   "outputs": [
    {
     "data": {
      "text/html": [
       "<div>\n",
       "<style scoped>\n",
       "    .dataframe tbody tr th:only-of-type {\n",
       "        vertical-align: middle;\n",
       "    }\n",
       "\n",
       "    .dataframe tbody tr th {\n",
       "        vertical-align: top;\n",
       "    }\n",
       "\n",
       "    .dataframe thead th {\n",
       "        text-align: right;\n",
       "    }\n",
       "</style>\n",
       "<table border=\"1\" class=\"dataframe\">\n",
       "  <thead>\n",
       "    <tr style=\"text-align: right;\">\n",
       "      <th></th>\n",
       "      <th>not-survived</th>\n",
       "      <th>survived</th>\n",
       "    </tr>\n",
       "  </thead>\n",
       "  <tbody>\n",
       "    <tr>\n",
       "      <th>0</th>\n",
       "      <td>1</td>\n",
       "      <td>0</td>\n",
       "    </tr>\n",
       "    <tr>\n",
       "      <th>1</th>\n",
       "      <td>0</td>\n",
       "      <td>1</td>\n",
       "    </tr>\n",
       "    <tr>\n",
       "      <th>2</th>\n",
       "      <td>1</td>\n",
       "      <td>1</td>\n",
       "    </tr>\n",
       "    <tr>\n",
       "      <th>3</th>\n",
       "      <td>1</td>\n",
       "      <td>1</td>\n",
       "    </tr>\n",
       "    <tr>\n",
       "      <th>4</th>\n",
       "      <td>1</td>\n",
       "      <td>0</td>\n",
       "    </tr>\n",
       "  </tbody>\n",
       "</table>\n",
       "</div>"
      ],
      "text/plain": [
       "   not-survived  survived\n",
       "0             1         0\n",
       "1             0         1\n",
       "2             1         1\n",
       "3             1         1\n",
       "4             1         0"
      ]
     },
     "execution_count": 18,
     "metadata": {},
     "output_type": "execute_result"
    }
   ],
   "source": [
    "t = 0.3\n",
    "\n",
    "y_pred = (y_pred_proba > t).astype(int)\n",
    "\n",
    "y_pred.head()"
   ]
  },
  {
   "cell_type": "code",
   "execution_count": 19,
   "metadata": {},
   "outputs": [
    {
     "name": "stdout",
     "output_type": "stream",
     "text": [
      "              precision    recall  f1-score   support\n",
      "\n",
      "           0       0.88      0.62      0.73       329\n",
      "           1       0.59      0.86      0.70       205\n",
      "\n",
      "    accuracy                           0.72       534\n",
      "   macro avg       0.73      0.74      0.71       534\n",
      "weighted avg       0.77      0.72      0.72       534\n",
      "\n"
     ]
    }
   ],
   "source": [
    "# classification report\n",
    "print(classification_report(y_train, y_pred.survived))"
   ]
  },
  {
   "cell_type": "code",
   "execution_count": 20,
   "metadata": {},
   "outputs": [
    {
     "data": {
      "image/png": "[encoded data removed]",
      "text/plain": [
       "<Figure size 864x612 with 1 Axes>"
      ]
     },
     "metadata": {
      "needs_background": "light"
     },
     "output_type": "display_data"
    }
   ],
   "source": [
    "import logistic_regression_util\n",
    "\n",
    "# plot metrics vs thresholds\n",
    "logistic_regression_util.plot_metrics_by_thresholds(y_train, y_pred_proba.survived)"
   ]
  },
  {
   "cell_type": "markdown",
   "metadata": {},
   "source": [
    "Things to consider:\n",
    "- where is an acceptable balance of the metrics?\n",
    "- If I'm optimizing for precision/recall, where is a point where accuracy is still good, and the other metrics aren't terrible?\n",
    "- What is the cost of a false positive vs false negative?"
   ]
  },
  {
   "cell_type": "markdown",
   "metadata": {},
   "source": [
    "### Bonus: Choosing C\n",
    "\n",
    "- The C hyperparameter: can constrain the size of the coefficients"
   ]
  },
  {
   "cell_type": "code",
   "execution_count": 21,
   "metadata": {},
   "outputs": [
    {
     "data": {
      "text/html": [
       "<style  type=\"text/css\" >\n",
       "</style><table id=\"T_2aeafe78_05c1_11ec_beea_1e294018a152\" ><caption>Effect of different C values on accuracy (t=.5) and the resulting coefficients.</caption><thead>    <tr>        <th class=\"blank\" ></th>        <th class=\"blank level0\" ></th>        <th class=\"col_heading level0 col0\" >pclass</th>        <th class=\"col_heading level0 col1\" >age</th>        <th class=\"col_heading level0 col2\" >sibsp</th>        <th class=\"col_heading level0 col3\" >parch</th>        <th class=\"col_heading level0 col4\" >fare</th>        <th class=\"col_heading level0 col5\" >alone</th>        <th class=\"col_heading level0 col6\" >is_female</th>        <th class=\"col_heading level0 col7\" >embark_town_Queenstown</th>        <th class=\"col_heading level0 col8\" >embark_town_Southampton</th>    </tr>    <tr>        <th class=\"index_name level0\" >C</th>        <th class=\"index_name level1\" >accuracy</th>        <th class=\"blank\" ></th>        <th class=\"blank\" ></th>        <th class=\"blank\" ></th>        <th class=\"blank\" ></th>        <th class=\"blank\" ></th>        <th class=\"blank\" ></th>        <th class=\"blank\" ></th>        <th class=\"blank\" ></th>        <th class=\"blank\" ></th>    </tr></thead><tbody>\n",
       "                <tr>\n",
       "                        <th id=\"T_2aeafe78_05c1_11ec_beea_1e294018a152level0_row0\" class=\"row_heading level0 row0\" >0.001</th>\n",
       "                        <th id=\"T_2aeafe78_05c1_11ec_beea_1e294018a152level1_row0\" class=\"row_heading level1 row0\" >0.674</th>\n",
       "                        <td id=\"T_2aeafe78_05c1_11ec_beea_1e294018a152row0_col0\" class=\"data row0 col0\" >-0.040</td>\n",
       "                        <td id=\"T_2aeafe78_05c1_11ec_beea_1e294018a152row0_col1\" class=\"data row0 col1\" >-0.012</td>\n",
       "                        <td id=\"T_2aeafe78_05c1_11ec_beea_1e294018a152row0_col2\" class=\"data row0 col2\" >-0.028</td>\n",
       "                        <td id=\"T_2aeafe78_05c1_11ec_beea_1e294018a152row0_col3\" class=\"data row0 col3\" >0.006</td>\n",
       "                        <td id=\"T_2aeafe78_05c1_11ec_beea_1e294018a152row0_col4\" class=\"data row0 col4\" >0.013</td>\n",
       "                        <td id=\"T_2aeafe78_05c1_11ec_beea_1e294018a152row0_col5\" class=\"data row0 col5\" >-0.014</td>\n",
       "                        <td id=\"T_2aeafe78_05c1_11ec_beea_1e294018a152row0_col6\" class=\"data row0 col6\" >0.060</td>\n",
       "                        <td id=\"T_2aeafe78_05c1_11ec_beea_1e294018a152row0_col7\" class=\"data row0 col7\" >0.006</td>\n",
       "                        <td id=\"T_2aeafe78_05c1_11ec_beea_1e294018a152row0_col8\" class=\"data row0 col8\" >-0.013</td>\n",
       "            </tr>\n",
       "            <tr>\n",
       "                        <th id=\"T_2aeafe78_05c1_11ec_beea_1e294018a152level0_row1\" class=\"row_heading level0 row1\" >0.01</th>\n",
       "                        <th id=\"T_2aeafe78_05c1_11ec_beea_1e294018a152level1_row1\" class=\"row_heading level1 row1\" >0.73</th>\n",
       "                        <td id=\"T_2aeafe78_05c1_11ec_beea_1e294018a152row1_col0\" class=\"data row1 col0\" >-0.278</td>\n",
       "                        <td id=\"T_2aeafe78_05c1_11ec_beea_1e294018a152row1_col1\" class=\"data row1 col1\" >-0.017</td>\n",
       "                        <td id=\"T_2aeafe78_05c1_11ec_beea_1e294018a152row1_col2\" class=\"data row1 col2\" >-0.137</td>\n",
       "                        <td id=\"T_2aeafe78_05c1_11ec_beea_1e294018a152row1_col3\" class=\"data row1 col3\" >0.036</td>\n",
       "                        <td id=\"T_2aeafe78_05c1_11ec_beea_1e294018a152row1_col4\" class=\"data row1 col4\" >0.009</td>\n",
       "                        <td id=\"T_2aeafe78_05c1_11ec_beea_1e294018a152row1_col5\" class=\"data row1 col5\" >-0.114</td>\n",
       "                        <td id=\"T_2aeafe78_05c1_11ec_beea_1e294018a152row1_col6\" class=\"data row1 col6\" >0.485</td>\n",
       "                        <td id=\"T_2aeafe78_05c1_11ec_beea_1e294018a152row1_col7\" class=\"data row1 col7\" >0.050</td>\n",
       "                        <td id=\"T_2aeafe78_05c1_11ec_beea_1e294018a152row1_col8\" class=\"data row1 col8\" >-0.092</td>\n",
       "            </tr>\n",
       "            <tr>\n",
       "                        <th id=\"T_2aeafe78_05c1_11ec_beea_1e294018a152level0_row2\" class=\"row_heading level0 row2\" >0.1</th>\n",
       "                        <th id=\"T_2aeafe78_05c1_11ec_beea_1e294018a152level1_row2\" class=\"row_heading level1 row2\" >0.803</th>\n",
       "                        <td id=\"T_2aeafe78_05c1_11ec_beea_1e294018a152row2_col0\" class=\"data row2 col0\" >-0.799</td>\n",
       "                        <td id=\"T_2aeafe78_05c1_11ec_beea_1e294018a152row2_col1\" class=\"data row2 col1\" >-0.026</td>\n",
       "                        <td id=\"T_2aeafe78_05c1_11ec_beea_1e294018a152row2_col2\" class=\"data row2 col2\" >-0.322</td>\n",
       "                        <td id=\"T_2aeafe78_05c1_11ec_beea_1e294018a152row2_col3\" class=\"data row2 col3\" >-0.034</td>\n",
       "                        <td id=\"T_2aeafe78_05c1_11ec_beea_1e294018a152row2_col4\" class=\"data row2 col4\" >0.001</td>\n",
       "                        <td id=\"T_2aeafe78_05c1_11ec_beea_1e294018a152row2_col5\" class=\"data row2 col5\" >-0.428</td>\n",
       "                        <td id=\"T_2aeafe78_05c1_11ec_beea_1e294018a152row2_col6\" class=\"data row2 col6\" >1.752</td>\n",
       "                        <td id=\"T_2aeafe78_05c1_11ec_beea_1e294018a152row2_col7\" class=\"data row2 col7\" >0.258</td>\n",
       "                        <td id=\"T_2aeafe78_05c1_11ec_beea_1e294018a152row2_col8\" class=\"data row2 col8\" >-0.217</td>\n",
       "            </tr>\n",
       "            <tr>\n",
       "                        <th id=\"T_2aeafe78_05c1_11ec_beea_1e294018a152level0_row3\" class=\"row_heading level0 row3\" >1.0</th>\n",
       "                        <th id=\"T_2aeafe78_05c1_11ec_beea_1e294018a152level1_row3\" class=\"row_heading level1 row3\" >0.792</th>\n",
       "                        <td id=\"T_2aeafe78_05c1_11ec_beea_1e294018a152row3_col0\" class=\"data row3 col0\" >-1.138</td>\n",
       "                        <td id=\"T_2aeafe78_05c1_11ec_beea_1e294018a152row3_col1\" class=\"data row3 col1\" >-0.033</td>\n",
       "                        <td id=\"T_2aeafe78_05c1_11ec_beea_1e294018a152row3_col2\" class=\"data row3 col2\" >-0.482</td>\n",
       "                        <td id=\"T_2aeafe78_05c1_11ec_beea_1e294018a152row3_col3\" class=\"data row3 col3\" >-0.130</td>\n",
       "                        <td id=\"T_2aeafe78_05c1_11ec_beea_1e294018a152row3_col4\" class=\"data row3 col4\" >-0.001</td>\n",
       "                        <td id=\"T_2aeafe78_05c1_11ec_beea_1e294018a152row3_col5\" class=\"data row3 col5\" >-0.655</td>\n",
       "                        <td id=\"T_2aeafe78_05c1_11ec_beea_1e294018a152row3_col6\" class=\"data row3 col6\" >2.608</td>\n",
       "                        <td id=\"T_2aeafe78_05c1_11ec_beea_1e294018a152row3_col7\" class=\"data row3 col7\" >0.851</td>\n",
       "                        <td id=\"T_2aeafe78_05c1_11ec_beea_1e294018a152row3_col8\" class=\"data row3 col8\" >-0.076</td>\n",
       "            </tr>\n",
       "            <tr>\n",
       "                        <th id=\"T_2aeafe78_05c1_11ec_beea_1e294018a152level0_row4\" class=\"row_heading level0 row4\" >10.0</th>\n",
       "                        <th id=\"T_2aeafe78_05c1_11ec_beea_1e294018a152level1_row4\" class=\"row_heading level1 row4\" >0.798</th>\n",
       "                        <td id=\"T_2aeafe78_05c1_11ec_beea_1e294018a152row4_col0\" class=\"data row4 col0\" >-1.227</td>\n",
       "                        <td id=\"T_2aeafe78_05c1_11ec_beea_1e294018a152row4_col1\" class=\"data row4 col1\" >-0.035</td>\n",
       "                        <td id=\"T_2aeafe78_05c1_11ec_beea_1e294018a152row4_col2\" class=\"data row4 col2\" >-0.543</td>\n",
       "                        <td id=\"T_2aeafe78_05c1_11ec_beea_1e294018a152row4_col3\" class=\"data row4 col3\" >-0.126</td>\n",
       "                        <td id=\"T_2aeafe78_05c1_11ec_beea_1e294018a152row4_col4\" class=\"data row4 col4\" >-0.001</td>\n",
       "                        <td id=\"T_2aeafe78_05c1_11ec_beea_1e294018a152row4_col5\" class=\"data row4 col5\" >-0.699</td>\n",
       "                        <td id=\"T_2aeafe78_05c1_11ec_beea_1e294018a152row4_col6\" class=\"data row4 col6\" >2.781</td>\n",
       "                        <td id=\"T_2aeafe78_05c1_11ec_beea_1e294018a152row4_col7\" class=\"data row4 col7\" >0.992</td>\n",
       "                        <td id=\"T_2aeafe78_05c1_11ec_beea_1e294018a152row4_col8\" class=\"data row4 col8\" >-0.007</td>\n",
       "            </tr>\n",
       "            <tr>\n",
       "                        <th id=\"T_2aeafe78_05c1_11ec_beea_1e294018a152level0_row5\" class=\"row_heading level0 row5\" >100.0</th>\n",
       "                        <th id=\"T_2aeafe78_05c1_11ec_beea_1e294018a152level1_row5\" class=\"row_heading level1 row5\" >0.798</th>\n",
       "                        <td id=\"T_2aeafe78_05c1_11ec_beea_1e294018a152row5_col0\" class=\"data row5 col0\" >-1.202</td>\n",
       "                        <td id=\"T_2aeafe78_05c1_11ec_beea_1e294018a152row5_col1\" class=\"data row5 col1\" >-0.034</td>\n",
       "                        <td id=\"T_2aeafe78_05c1_11ec_beea_1e294018a152row5_col2\" class=\"data row5 col2\" >-0.554</td>\n",
       "                        <td id=\"T_2aeafe78_05c1_11ec_beea_1e294018a152row5_col3\" class=\"data row5 col3\" >-0.147</td>\n",
       "                        <td id=\"T_2aeafe78_05c1_11ec_beea_1e294018a152row5_col4\" class=\"data row5 col4\" >-0.001</td>\n",
       "                        <td id=\"T_2aeafe78_05c1_11ec_beea_1e294018a152row5_col5\" class=\"data row5 col5\" >-0.802</td>\n",
       "                        <td id=\"T_2aeafe78_05c1_11ec_beea_1e294018a152row5_col6\" class=\"data row5 col6\" >2.727</td>\n",
       "                        <td id=\"T_2aeafe78_05c1_11ec_beea_1e294018a152row5_col7\" class=\"data row5 col7\" >0.896</td>\n",
       "                        <td id=\"T_2aeafe78_05c1_11ec_beea_1e294018a152row5_col8\" class=\"data row5 col8\" >0.006</td>\n",
       "            </tr>\n",
       "            <tr>\n",
       "                        <th id=\"T_2aeafe78_05c1_11ec_beea_1e294018a152level0_row6\" class=\"row_heading level0 row6\" >1000.0</th>\n",
       "                        <th id=\"T_2aeafe78_05c1_11ec_beea_1e294018a152level1_row6\" class=\"row_heading level1 row6\" >0.792</th>\n",
       "                        <td id=\"T_2aeafe78_05c1_11ec_beea_1e294018a152row6_col0\" class=\"data row6 col0\" >-1.241</td>\n",
       "                        <td id=\"T_2aeafe78_05c1_11ec_beea_1e294018a152row6_col1\" class=\"data row6 col1\" >-0.036</td>\n",
       "                        <td id=\"T_2aeafe78_05c1_11ec_beea_1e294018a152row6_col2\" class=\"data row6 col2\" >-0.533</td>\n",
       "                        <td id=\"T_2aeafe78_05c1_11ec_beea_1e294018a152row6_col3\" class=\"data row6 col3\" >-0.109</td>\n",
       "                        <td id=\"T_2aeafe78_05c1_11ec_beea_1e294018a152row6_col4\" class=\"data row6 col4\" >-0.001</td>\n",
       "                        <td id=\"T_2aeafe78_05c1_11ec_beea_1e294018a152row6_col5\" class=\"data row6 col5\" >-0.700</td>\n",
       "                        <td id=\"T_2aeafe78_05c1_11ec_beea_1e294018a152row6_col6\" class=\"data row6 col6\" >2.782</td>\n",
       "                        <td id=\"T_2aeafe78_05c1_11ec_beea_1e294018a152row6_col7\" class=\"data row6 col7\" >1.012</td>\n",
       "                        <td id=\"T_2aeafe78_05c1_11ec_beea_1e294018a152row6_col8\" class=\"data row6 col8\" >0.016</td>\n",
       "            </tr>\n",
       "    </tbody></table>"
      ],
      "text/plain": [
       "<pandas.io.formats.style.Styler at 0x7f9f185d86d0>"
      ]
     },
     "execution_count": 21,
     "metadata": {},
     "output_type": "execute_result"
    }
   ],
   "source": [
    "def evaluate_model(c):\n",
    "    model = sklearn.linear_model.LogisticRegression(C=c)\n",
    "    model.fit(X_train, y_train)\n",
    "    accuracy = model.score(X_validate, y_validate)\n",
    "    coefs = dict(zip(X_train.columns, model.coef_[0]))\n",
    "    return {'C': c, 'accuracy': accuracy, **coefs}\n",
    "\n",
    "models = [evaluate_model(c) for c in [.001, .01, .1, 1, 10, 100, 1000]]\n",
    "(pd.DataFrame(models).round(3)\n",
    " .set_index(['C', 'accuracy'])\n",
    " .style\n",
    " .set_caption('Effect of different C values on accuracy (t=.5) and the resulting coefficients.')\n",
    " .set_precision(3)\n",
    ")"
   ]
  },
  {
   "cell_type": "markdown",
   "metadata": {},
   "source": [
    "Takeaways:  \n",
    "- Try experimenting with differing values of C on the validate split\n",
    "- Choose a lower value for C to reduce overfitting (too low of a value might lead to underfitting)\n",
    "- If C is important, scale your data (regularization works best with scaled data)"
   ]
  },
  {
   "cell_type": "code",
   "execution_count": null,
   "metadata": {},
   "outputs": [],
   "source": []
  }
 ],
 "metadata": {
  "kernelspec": {
   "display_name": "Python 3",
   "language": "python",
   "name": "python3"
  },
  "language_info": {
   "codemirror_mode": {
    "name": "ipython",
    "version": 3
   },
   "file_extension": ".py",
   "mimetype": "text/x-python",
   "name": "python",
   "nbconvert_exporter": "python",
   "pygments_lexer": "ipython3",
   "version": "3.8.5"
  }
 },
 "nbformat": 4,
 "nbformat_minor": 5
}
