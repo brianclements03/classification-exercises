{
 "cells": [
  {
   "cell_type": "code",
   "execution_count": 3,
   "id": "b04ee1ef",
   "metadata": {},
   "outputs": [],
   "source": [
    "import matplotlib.pyplot as plt\n",
    "import numpy as np\n",
    "import pandas as pd\n",
    "from pydataset import data\n",
    "import statistics\n",
    "import seaborn as sns\n",
    "import env\n",
    "\n",
    "import acquire"
   ]
  },
  {
   "cell_type": "markdown",
   "id": "e5b796ba",
   "metadata": {},
   "source": [
    "# Attendance Data\n",
    "\n",
    "### Load the attendance.csv file and calculate an attendnace percentage for each student. \n",
    "\n",
    "### One half day is worth 50% of a full day, and 10 tardies is equal to one absence."
   ]
  },
  {
   "cell_type": "code",
   "execution_count": 4,
   "id": "3cd48fb1",
   "metadata": {},
   "outputs": [],
   "source": [
    "# You should end up with something like this:\n",
    "\n",
    "# name\n",
    "# Billy    0.5250\n",
    "# Jane     0.6875\n",
    "# John     0.9125\n",
    "# Sally    0.7625\n",
    "# Name: grade, dtype: float64"
   ]
  },
  {
   "cell_type": "code",
   "execution_count": 10,
   "id": "69ef9b06",
   "metadata": {},
   "outputs": [
    {
     "data": {
      "text/html": [
       "<div>\n",
       "<style scoped>\n",
       "    .dataframe tbody tr th:only-of-type {\n",
       "        vertical-align: middle;\n",
       "    }\n",
       "\n",
       "    .dataframe tbody tr th {\n",
       "        vertical-align: top;\n",
       "    }\n",
       "\n",
       "    .dataframe thead th {\n",
       "        text-align: right;\n",
       "    }\n",
       "</style>\n",
       "<table border=\"1\" class=\"dataframe\">\n",
       "  <thead>\n",
       "    <tr style=\"text-align: right;\">\n",
       "      <th></th>\n",
       "      <th>2018-01-01</th>\n",
       "      <th>2018-01-02</th>\n",
       "      <th>2018-01-03</th>\n",
       "      <th>2018-01-04</th>\n",
       "      <th>2018-01-05</th>\n",
       "      <th>2018-01-06</th>\n",
       "      <th>2018-01-07</th>\n",
       "      <th>2018-01-08</th>\n",
       "    </tr>\n",
       "  </thead>\n",
       "  <tbody>\n",
       "    <tr>\n",
       "      <th>Sally</th>\n",
       "      <td>P</td>\n",
       "      <td>T</td>\n",
       "      <td>T</td>\n",
       "      <td>H</td>\n",
       "      <td>P</td>\n",
       "      <td>A</td>\n",
       "      <td>T</td>\n",
       "      <td>T</td>\n",
       "    </tr>\n",
       "    <tr>\n",
       "      <th>Jane</th>\n",
       "      <td>A</td>\n",
       "      <td>P</td>\n",
       "      <td>T</td>\n",
       "      <td>T</td>\n",
       "      <td>T</td>\n",
       "      <td>T</td>\n",
       "      <td>A</td>\n",
       "      <td>T</td>\n",
       "    </tr>\n",
       "    <tr>\n",
       "      <th>Billy</th>\n",
       "      <td>A</td>\n",
       "      <td>T</td>\n",
       "      <td>A</td>\n",
       "      <td>A</td>\n",
       "      <td>H</td>\n",
       "      <td>T</td>\n",
       "      <td>P</td>\n",
       "      <td>T</td>\n",
       "    </tr>\n",
       "    <tr>\n",
       "      <th>John</th>\n",
       "      <td>P</td>\n",
       "      <td>T</td>\n",
       "      <td>H</td>\n",
       "      <td>P</td>\n",
       "      <td>P</td>\n",
       "      <td>T</td>\n",
       "      <td>P</td>\n",
       "      <td>P</td>\n",
       "    </tr>\n",
       "  </tbody>\n",
       "</table>\n",
       "</div>"
      ],
      "text/plain": [
       "      2018-01-01 2018-01-02 2018-01-03 2018-01-04 2018-01-05 2018-01-06  \\\n",
       "Sally          P          T          T          H          P          A   \n",
       "Jane           A          P          T          T          T          T   \n",
       "Billy          A          T          A          A          H          T   \n",
       "John           P          T          H          P          P          T   \n",
       "\n",
       "      2018-01-07 2018-01-08  \n",
       "Sally          T          T  \n",
       "Jane           A          T  \n",
       "Billy          P          T  \n",
       "John           P          P  "
      ]
     },
     "execution_count": 10,
     "metadata": {},
     "output_type": "execute_result"
    }
   ],
   "source": [
    "attendance = pd.read_csv('attendance.csv', index_col=0)\n",
    "attendance.head()"
   ]
  },
  {
   "cell_type": "code",
   "execution_count": 7,
   "id": "f96d4b45",
   "metadata": {},
   "outputs": [
    {
     "data": {
      "text/plain": [
       "(4, 8)"
      ]
     },
     "execution_count": 7,
     "metadata": {},
     "output_type": "execute_result"
    }
   ],
   "source": [
    "attendance.shape"
   ]
  },
  {
   "cell_type": "code",
   "execution_count": 12,
   "id": "761f95d7",
   "metadata": {},
   "outputs": [
    {
     "data": {
      "text/plain": [
       "0.9125000000000001"
      ]
     },
     "execution_count": 12,
     "metadata": {},
     "output_type": "execute_result"
    }
   ],
   "source": [
    "(1 + .9 + .5 + 1 + 1 + .9 + 1 + 1) / 8\n",
    "#this would represent john's attendance"
   ]
  },
  {
   "cell_type": "markdown",
   "id": "57d00e1e",
   "metadata": {},
   "source": [
    "### the goal here will be to get this into `name` `date` `attendance` format"
   ]
  },
  {
   "cell_type": "code",
   "execution_count": 20,
   "id": "0fc60232",
   "metadata": {},
   "outputs": [],
   "source": [
    "attendance.index.rename('name', inplace=True)"
   ]
  },
  {
   "cell_type": "code",
   "execution_count": 21,
   "id": "d7c977bd",
   "metadata": {},
   "outputs": [
    {
     "data": {
      "text/html": [
       "<div>\n",
       "<style scoped>\n",
       "    .dataframe tbody tr th:only-of-type {\n",
       "        vertical-align: middle;\n",
       "    }\n",
       "\n",
       "    .dataframe tbody tr th {\n",
       "        vertical-align: top;\n",
       "    }\n",
       "\n",
       "    .dataframe thead th {\n",
       "        text-align: right;\n",
       "    }\n",
       "</style>\n",
       "<table border=\"1\" class=\"dataframe\">\n",
       "  <thead>\n",
       "    <tr style=\"text-align: right;\">\n",
       "      <th></th>\n",
       "      <th>2018-01-01</th>\n",
       "      <th>2018-01-02</th>\n",
       "      <th>2018-01-03</th>\n",
       "      <th>2018-01-04</th>\n",
       "      <th>2018-01-05</th>\n",
       "      <th>2018-01-06</th>\n",
       "      <th>2018-01-07</th>\n",
       "      <th>2018-01-08</th>\n",
       "    </tr>\n",
       "    <tr>\n",
       "      <th>name</th>\n",
       "      <th></th>\n",
       "      <th></th>\n",
       "      <th></th>\n",
       "      <th></th>\n",
       "      <th></th>\n",
       "      <th></th>\n",
       "      <th></th>\n",
       "      <th></th>\n",
       "    </tr>\n",
       "  </thead>\n",
       "  <tbody>\n",
       "    <tr>\n",
       "      <th>Sally</th>\n",
       "      <td>P</td>\n",
       "      <td>T</td>\n",
       "      <td>T</td>\n",
       "      <td>H</td>\n",
       "      <td>P</td>\n",
       "      <td>A</td>\n",
       "      <td>T</td>\n",
       "      <td>T</td>\n",
       "    </tr>\n",
       "  </tbody>\n",
       "</table>\n",
       "</div>"
      ],
      "text/plain": [
       "      2018-01-01 2018-01-02 2018-01-03 2018-01-04 2018-01-05 2018-01-06  \\\n",
       "name                                                                      \n",
       "Sally          P          T          T          H          P          A   \n",
       "\n",
       "      2018-01-07 2018-01-08  \n",
       "name                         \n",
       "Sally          T          T  "
      ]
     },
     "execution_count": 21,
     "metadata": {},
     "output_type": "execute_result"
    }
   ],
   "source": [
    "attendance.sample()"
   ]
  },
  {
   "cell_type": "code",
   "execution_count": null,
   "id": "e7ff724f",
   "metadata": {},
   "outputs": [],
   "source": [
    "attendance.pivot(index='name', columns=)"
   ]
  }
 ],
 "metadata": {
  "kernelspec": {
   "display_name": "Python 3",
   "language": "python",
   "name": "python3"
  },
  "language_info": {
   "codemirror_mode": {
    "name": "ipython",
    "version": 3
   },
   "file_extension": ".py",
   "mimetype": "text/x-python",
   "name": "python",
   "nbconvert_exporter": "python",
   "pygments_lexer": "ipython3",
   "version": "3.8.8"
  }
 },
 "nbformat": 4,
 "nbformat_minor": 5
}
